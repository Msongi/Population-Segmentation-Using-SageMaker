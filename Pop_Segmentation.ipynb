{
 "cells": [
  {
   "cell_type": "markdown",
   "metadata": {
    "nbpresent": {
     "id": "62d4851b-e85e-419e-901a-d5c03db59166"
    }
   },
   "source": [
    "# Population Segmentation with SageMaker\n",
    "\n",
    "In this notebook, you'll employ two, unsupervised learning algorithms to do **population segmentation**. Population segmentation aims to find natural groupings in population data that reveal some feature-level similarities between different regions in the US.\n",
    "\n",
    "Using **principal component analysis** (PCA) you will reduce the dimensionality of the original census data. Then, you'll use **k-means clustering** to assign each US county to a particular cluster based on where a county lies in component space. How each cluster is arranged in component space can tell you which US counties are most similar and what demographic traits define that similarity; this information is most often used to inform targeted, marketing campaigns that want to appeal to a specific group of people. This cluster information is also useful for learning more about a population by revealing patterns between regions that you otherwise may not have noticed.\n",
    "\n",
    "### US Census Data\n",
    "\n",
    "You'll be using data collected by the [US Census](https://en.wikipedia.org/wiki/United_States_Census), which aims to count the US population, recording demographic traits about labor, age, population, and so on, for each county in the US. The bulk of this notebook was taken from an existing SageMaker example notebook and [blog post](https://aws.amazon.com/blogs/machine-learning/analyze-us-census-data-for-population-segmentation-using-amazon-sagemaker/), and I've broken it down further into demonstrations and exercises for you to complete.\n",
    "\n",
    "### Machine Learning Workflow\n",
    "\n",
    "To implement population segmentation, you'll go through a number of steps:\n",
    "* Data loading and exploration\n",
    "* Data cleaning and pre-processing \n",
    "* Dimensionality reduction with PCA\n",
    "* Feature engineering and data transformation\n",
    "* Clustering transformed data with k-means\n",
    "* Extracting trained model attributes and visualizing k clusters\n",
    "\n",
    "These tasks make up a complete, machine learning workflow from data loading and cleaning to model deployment. Each exercise is designed to give you practice with part of the machine learning workflow, and to demonstrate how to use SageMaker tools, such as built-in data management with S3 and built-in algorithms.\n",
    "\n",
    "---"
   ]
  },
  {
   "cell_type": "markdown",
   "metadata": {},
   "source": [
    "First, import the relevant libraries into this SageMaker notebook. "
   ]
  },
  {
   "cell_type": "code",
   "execution_count": 1,
   "metadata": {
    "nbpresent": {
     "id": "41d6f28b-3c7e-4d68-a8cb-4e063ec6fe27"
    }
   },
   "outputs": [],
   "source": [
    "# data managing and display libs\n",
    "import pandas as pd\n",
    "import numpy as np\n",
    "import os\n",
    "import io\n",
    "\n",
    "import matplotlib.pyplot as plt\n",
    "import matplotlib\n",
    "%matplotlib inline "
   ]
  },
  {
   "cell_type": "code",
   "execution_count": 2,
   "metadata": {},
   "outputs": [],
   "source": [
    "# sagemaker libraries\n",
    "import boto3\n",
    "import sagemaker"
   ]
  },
  {
   "cell_type": "markdown",
   "metadata": {},
   "source": [
    "## Loading the Data from Amazon S3\n",
    "\n",
    "This particular dataset is already in an Amazon S3 bucket; you can load the data by pointing to this bucket and getting a data file by name. \n",
    "\n",
    "> You can interact with S3 using a `boto3` client."
   ]
  },
  {
   "cell_type": "code",
   "execution_count": 3,
   "metadata": {},
   "outputs": [],
   "source": [
    "# boto3 client to get S3 data\n",
    "s3_client = boto3.client('s3')\n",
    "bucket_name='aws-ml-blog-sagemaker-census-segmentation'"
   ]
  },
  {
   "cell_type": "markdown",
   "metadata": {},
   "source": [
    "Take a look at the contents of this bucket; get a list of objects that are contained within the bucket and print out the names of the objects. You should see that there is one file, 'Census_Data_for_SageMaker.csv'."
   ]
  },
  {
   "cell_type": "code",
   "execution_count": 4,
   "metadata": {},
   "outputs": [
    {
     "name": "stdout",
     "output_type": "stream",
     "text": [
      "['Census_Data_for_SageMaker.csv']\n"
     ]
    }
   ],
   "source": [
    "# get a list of objects in the bucket\n",
    "obj_list=s3_client.list_objects(Bucket=bucket_name)\n",
    "\n",
    "# print object(s)in S3 bucket\n",
    "files=[]\n",
    "for contents in obj_list['Contents']:\n",
    "    files.append(contents['Key'])\n",
    "    \n",
    "print(files)"
   ]
  },
  {
   "cell_type": "code",
   "execution_count": 5,
   "metadata": {},
   "outputs": [
    {
     "name": "stdout",
     "output_type": "stream",
     "text": [
      "Census_Data_for_SageMaker.csv\n"
     ]
    }
   ],
   "source": [
    "# there is one file --> one key\n",
    "file_name=files[0]\n",
    "\n",
    "print(file_name)"
   ]
  },
  {
   "cell_type": "markdown",
   "metadata": {},
   "source": [
    "Retrieve the data file from the bucket with a call to `client.get_object()`."
   ]
  },
  {
   "cell_type": "code",
   "execution_count": 6,
   "metadata": {},
   "outputs": [
    {
     "data": {
      "text/plain": [
       "{'ResponseMetadata': {'RequestId': 'DZHV0PNYQN254M08',\n",
       "  'HostId': 'D1i8Hh6lgO1MDUW23sXJKsQ5JY9rhb9dCUy3F9tYoX7fbxv/3jqNTGuE+r7LOWgp4zd468zit6o=',\n",
       "  'HTTPStatusCode': 200,\n",
       "  'HTTPHeaders': {'x-amz-id-2': 'D1i8Hh6lgO1MDUW23sXJKsQ5JY9rhb9dCUy3F9tYoX7fbxv/3jqNTGuE+r7LOWgp4zd468zit6o=',\n",
       "   'x-amz-request-id': 'DZHV0PNYQN254M08',\n",
       "   'date': 'Sun, 16 May 2021 11:00:46 GMT',\n",
       "   'last-modified': 'Wed, 12 Sep 2018 15:13:37 GMT',\n",
       "   'etag': '\"066d37f43f7762f1eb409b1660fe9763\"',\n",
       "   'accept-ranges': 'bytes',\n",
       "   'content-type': 'text/csv',\n",
       "   'content-length': '613237',\n",
       "   'server': 'AmazonS3'},\n",
       "  'RetryAttempts': 0},\n",
       " 'AcceptRanges': 'bytes',\n",
       " 'LastModified': datetime.datetime(2018, 9, 12, 15, 13, 37, tzinfo=tzutc()),\n",
       " 'ContentLength': 613237,\n",
       " 'ETag': '\"066d37f43f7762f1eb409b1660fe9763\"',\n",
       " 'ContentType': 'text/csv',\n",
       " 'Metadata': {},\n",
       " 'Body': <botocore.response.StreamingBody at 0x7f25586bf390>}"
      ]
     },
     "metadata": {},
     "output_type": "display_data"
    }
   ],
   "source": [
    "# get an S3 object by passing in the bucket and file name\n",
    "data_object = s3_client.get_object(Bucket=bucket_name, Key=file_name)\n",
    "\n",
    "# what info does the object contain?\n",
    "display(data_object)"
   ]
  },
  {
   "cell_type": "code",
   "execution_count": 7,
   "metadata": {},
   "outputs": [
    {
     "name": "stdout",
     "output_type": "stream",
     "text": [
      "Data type:  <class 'bytes'>\n"
     ]
    }
   ],
   "source": [
    "# information is in the \"Body\" of the object\n",
    "data_body = data_object[\"Body\"].read()\n",
    "print('Data type: ', type(data_body))"
   ]
  },
  {
   "cell_type": "markdown",
   "metadata": {},
   "source": [
    "This is a `bytes` datatype, which you can read it in using [io.BytesIO(file)](https://docs.python.org/3/library/io.html#binary-i-o)."
   ]
  },
  {
   "cell_type": "code",
   "execution_count": 8,
   "metadata": {
    "nbpresent": {
     "id": "97a46770-dbe0-40ea-b454-b15bdec20f53"
    }
   },
   "outputs": [
    {
     "data": {
      "text/html": [
       "<div>\n",
       "<style scoped>\n",
       "    .dataframe tbody tr th:only-of-type {\n",
       "        vertical-align: middle;\n",
       "    }\n",
       "\n",
       "    .dataframe tbody tr th {\n",
       "        vertical-align: top;\n",
       "    }\n",
       "\n",
       "    .dataframe thead th {\n",
       "        text-align: right;\n",
       "    }\n",
       "</style>\n",
       "<table border=\"1\" class=\"dataframe\">\n",
       "  <thead>\n",
       "    <tr style=\"text-align: right;\">\n",
       "      <th></th>\n",
       "      <th>CensusId</th>\n",
       "      <th>State</th>\n",
       "      <th>County</th>\n",
       "      <th>TotalPop</th>\n",
       "      <th>Men</th>\n",
       "      <th>Women</th>\n",
       "      <th>Hispanic</th>\n",
       "      <th>White</th>\n",
       "      <th>Black</th>\n",
       "      <th>Native</th>\n",
       "      <th>...</th>\n",
       "      <th>Walk</th>\n",
       "      <th>OtherTransp</th>\n",
       "      <th>WorkAtHome</th>\n",
       "      <th>MeanCommute</th>\n",
       "      <th>Employed</th>\n",
       "      <th>PrivateWork</th>\n",
       "      <th>PublicWork</th>\n",
       "      <th>SelfEmployed</th>\n",
       "      <th>FamilyWork</th>\n",
       "      <th>Unemployment</th>\n",
       "    </tr>\n",
       "  </thead>\n",
       "  <tbody>\n",
       "    <tr>\n",
       "      <th>0</th>\n",
       "      <td>1001</td>\n",
       "      <td>Alabama</td>\n",
       "      <td>Autauga</td>\n",
       "      <td>55221</td>\n",
       "      <td>26745</td>\n",
       "      <td>28476</td>\n",
       "      <td>2.6</td>\n",
       "      <td>75.8</td>\n",
       "      <td>18.5</td>\n",
       "      <td>0.4</td>\n",
       "      <td>...</td>\n",
       "      <td>0.5</td>\n",
       "      <td>1.3</td>\n",
       "      <td>1.8</td>\n",
       "      <td>26.5</td>\n",
       "      <td>23986</td>\n",
       "      <td>73.6</td>\n",
       "      <td>20.9</td>\n",
       "      <td>5.5</td>\n",
       "      <td>0.0</td>\n",
       "      <td>7.6</td>\n",
       "    </tr>\n",
       "    <tr>\n",
       "      <th>1</th>\n",
       "      <td>1003</td>\n",
       "      <td>Alabama</td>\n",
       "      <td>Baldwin</td>\n",
       "      <td>195121</td>\n",
       "      <td>95314</td>\n",
       "      <td>99807</td>\n",
       "      <td>4.5</td>\n",
       "      <td>83.1</td>\n",
       "      <td>9.5</td>\n",
       "      <td>0.6</td>\n",
       "      <td>...</td>\n",
       "      <td>1.0</td>\n",
       "      <td>1.4</td>\n",
       "      <td>3.9</td>\n",
       "      <td>26.4</td>\n",
       "      <td>85953</td>\n",
       "      <td>81.5</td>\n",
       "      <td>12.3</td>\n",
       "      <td>5.8</td>\n",
       "      <td>0.4</td>\n",
       "      <td>7.5</td>\n",
       "    </tr>\n",
       "    <tr>\n",
       "      <th>2</th>\n",
       "      <td>1005</td>\n",
       "      <td>Alabama</td>\n",
       "      <td>Barbour</td>\n",
       "      <td>26932</td>\n",
       "      <td>14497</td>\n",
       "      <td>12435</td>\n",
       "      <td>4.6</td>\n",
       "      <td>46.2</td>\n",
       "      <td>46.7</td>\n",
       "      <td>0.2</td>\n",
       "      <td>...</td>\n",
       "      <td>1.8</td>\n",
       "      <td>1.5</td>\n",
       "      <td>1.6</td>\n",
       "      <td>24.1</td>\n",
       "      <td>8597</td>\n",
       "      <td>71.8</td>\n",
       "      <td>20.8</td>\n",
       "      <td>7.3</td>\n",
       "      <td>0.1</td>\n",
       "      <td>17.6</td>\n",
       "    </tr>\n",
       "    <tr>\n",
       "      <th>3</th>\n",
       "      <td>1007</td>\n",
       "      <td>Alabama</td>\n",
       "      <td>Bibb</td>\n",
       "      <td>22604</td>\n",
       "      <td>12073</td>\n",
       "      <td>10531</td>\n",
       "      <td>2.2</td>\n",
       "      <td>74.5</td>\n",
       "      <td>21.4</td>\n",
       "      <td>0.4</td>\n",
       "      <td>...</td>\n",
       "      <td>0.6</td>\n",
       "      <td>1.5</td>\n",
       "      <td>0.7</td>\n",
       "      <td>28.8</td>\n",
       "      <td>8294</td>\n",
       "      <td>76.8</td>\n",
       "      <td>16.1</td>\n",
       "      <td>6.7</td>\n",
       "      <td>0.4</td>\n",
       "      <td>8.3</td>\n",
       "    </tr>\n",
       "    <tr>\n",
       "      <th>4</th>\n",
       "      <td>1009</td>\n",
       "      <td>Alabama</td>\n",
       "      <td>Blount</td>\n",
       "      <td>57710</td>\n",
       "      <td>28512</td>\n",
       "      <td>29198</td>\n",
       "      <td>8.6</td>\n",
       "      <td>87.9</td>\n",
       "      <td>1.5</td>\n",
       "      <td>0.3</td>\n",
       "      <td>...</td>\n",
       "      <td>0.9</td>\n",
       "      <td>0.4</td>\n",
       "      <td>2.3</td>\n",
       "      <td>34.9</td>\n",
       "      <td>22189</td>\n",
       "      <td>82.0</td>\n",
       "      <td>13.5</td>\n",
       "      <td>4.2</td>\n",
       "      <td>0.4</td>\n",
       "      <td>7.7</td>\n",
       "    </tr>\n",
       "  </tbody>\n",
       "</table>\n",
       "<p>5 rows × 37 columns</p>\n",
       "</div>"
      ],
      "text/plain": [
       "   CensusId    State   County  TotalPop    Men  Women  Hispanic  White  Black  \\\n",
       "0      1001  Alabama  Autauga     55221  26745  28476       2.6   75.8   18.5   \n",
       "1      1003  Alabama  Baldwin    195121  95314  99807       4.5   83.1    9.5   \n",
       "2      1005  Alabama  Barbour     26932  14497  12435       4.6   46.2   46.7   \n",
       "3      1007  Alabama     Bibb     22604  12073  10531       2.2   74.5   21.4   \n",
       "4      1009  Alabama   Blount     57710  28512  29198       8.6   87.9    1.5   \n",
       "\n",
       "   Native  ...  Walk  OtherTransp  WorkAtHome  MeanCommute  Employed  \\\n",
       "0     0.4  ...   0.5          1.3         1.8         26.5     23986   \n",
       "1     0.6  ...   1.0          1.4         3.9         26.4     85953   \n",
       "2     0.2  ...   1.8          1.5         1.6         24.1      8597   \n",
       "3     0.4  ...   0.6          1.5         0.7         28.8      8294   \n",
       "4     0.3  ...   0.9          0.4         2.3         34.9     22189   \n",
       "\n",
       "   PrivateWork  PublicWork  SelfEmployed  FamilyWork  Unemployment  \n",
       "0         73.6        20.9           5.5         0.0           7.6  \n",
       "1         81.5        12.3           5.8         0.4           7.5  \n",
       "2         71.8        20.8           7.3         0.1          17.6  \n",
       "3         76.8        16.1           6.7         0.4           8.3  \n",
       "4         82.0        13.5           4.2         0.4           7.7  \n",
       "\n",
       "[5 rows x 37 columns]"
      ]
     },
     "execution_count": 8,
     "metadata": {},
     "output_type": "execute_result"
    }
   ],
   "source": [
    "# read in bytes data\n",
    "data_stream = io.BytesIO(data_body)\n",
    "\n",
    "# create a dataframe\n",
    "counties_df = pd.read_csv(data_stream, header=0, delimiter=\",\") \n",
    "counties_df.head()"
   ]
  },
  {
   "cell_type": "markdown",
   "metadata": {
    "nbpresent": {
     "id": "c2f7177c-9a56-46a7-8e51-53c1ccdac759"
    }
   },
   "source": [
    "## Exploratory Data Analysis (EDA)\n",
    "\n",
    "Now that you've loaded in the data, it is time to clean it up, explore it, and pre-process it. Data exploration is one of the most important parts of the machine learning workflow because it allows you to notice any initial patterns in data distribution and features that may inform how you proceed with modeling and clustering the data.\n",
    "\n",
    "### EXERCISE: Explore data & drop any incomplete rows of data\n",
    "\n",
    "When you first explore the data, it is good to know what you are working with. How many data points and features are you starting with, and what kind of information can you get at a first glance? In this notebook, you're required to use complete data points to train a model. So, your first exercise will be to investigate the shape of this data and implement a simple, data cleaning step: dropping any incomplete rows of data.\n",
    "\n",
    "You should be able to answer the **question**: How many data points and features are in the original, provided dataset? (And how many points are left after dropping any incomplete rows?)"
   ]
  },
  {
   "cell_type": "code",
   "execution_count": 10,
   "metadata": {},
   "outputs": [
    {
     "data": {
      "text/plain": [
       "(3220, 37)"
      ]
     },
     "execution_count": 10,
     "metadata": {},
     "output_type": "execute_result"
    }
   ],
   "source": [
    "# print out stats about data\n",
    "counties_df.shape"
   ]
  },
  {
   "cell_type": "code",
   "execution_count": 13,
   "metadata": {},
   "outputs": [
    {
     "data": {
      "text/plain": [
       "Income          1\n",
       "IncomeErr       1\n",
       "ChildPoverty    1\n",
       "dtype: int64"
      ]
     },
     "execution_count": 13,
     "metadata": {},
     "output_type": "execute_result"
    }
   ],
   "source": [
    "counties_df.isna().sum()[counties_df.isna().sum()>0]"
   ]
  },
  {
   "cell_type": "code",
   "execution_count": 15,
   "metadata": {},
   "outputs": [],
   "source": [
    "# drop any incomplete rows of data, and create a new df\n",
    "clean_counties_df = counties_df.dropna(axis=0)"
   ]
  },
  {
   "cell_type": "code",
   "execution_count": 16,
   "metadata": {},
   "outputs": [
    {
     "data": {
      "text/plain": [
       "(3218, 37)"
      ]
     },
     "execution_count": 16,
     "metadata": {},
     "output_type": "execute_result"
    }
   ],
   "source": [
    "clean_counties_df.shape"
   ]
  },
  {
   "cell_type": "markdown",
   "metadata": {
    "nbpresent": {
     "id": "fdd10c00-53ba-405d-8622-fbfeac17d3bb"
    }
   },
   "source": [
    "### EXERCISE: Create a new DataFrame, indexed by 'State-County'\n",
    "\n",
    "Eventually, you'll want to feed these features into a machine learning model. Machine learning models need numerical data to learn from and not categorical data like strings (State, County). So, you'll reformat this data such that it is indexed by region and you'll also drop any features that are not useful for clustering.\n",
    "\n",
    "To complete this task, perform the following steps, using your *clean* DataFrame, generated above:\n",
    "1. Combine the descriptive columns, 'State' and 'County', into one, new categorical column, 'State-County'. \n",
    "2. Index the data by this unique State-County name.\n",
    "3. After doing this, drop the old State and County columns and the CensusId column, which does not give us any meaningful demographic information.\n",
    "\n",
    "After completing this task, you should have a DataFrame with 'State-County' as the index, and 34 columns of numerical data for each county. You should get a resultant DataFrame that looks like the following (truncated for display purposes):\n",
    "```\n",
    "                TotalPop\t Men\t  Women\tHispanic\t...\n",
    "                \n",
    "Alabama-Autauga\t55221\t 26745\t28476\t2.6         ...\n",
    "Alabama-Baldwin\t195121\t95314\t99807\t4.5         ...\n",
    "Alabama-Barbour\t26932\t 14497\t12435\t4.6         ...\n",
    "...\n",
    "\n",
    "```"
   ]
  },
  {
   "cell_type": "code",
   "execution_count": 17,
   "metadata": {},
   "outputs": [],
   "source": [
    "clean_counties_df.index=clean_counties_df['State'] + \"-\" + clean_counties_df['County']"
   ]
  },
  {
   "cell_type": "code",
   "execution_count": 20,
   "metadata": {},
   "outputs": [
    {
     "data": {
      "text/html": [
       "<div>\n",
       "<style scoped>\n",
       "    .dataframe tbody tr th:only-of-type {\n",
       "        vertical-align: middle;\n",
       "    }\n",
       "\n",
       "    .dataframe tbody tr th {\n",
       "        vertical-align: top;\n",
       "    }\n",
       "\n",
       "    .dataframe thead th {\n",
       "        text-align: right;\n",
       "    }\n",
       "</style>\n",
       "<table border=\"1\" class=\"dataframe\">\n",
       "  <thead>\n",
       "    <tr style=\"text-align: right;\">\n",
       "      <th></th>\n",
       "      <th>CensusId</th>\n",
       "      <th>State</th>\n",
       "      <th>County</th>\n",
       "      <th>TotalPop</th>\n",
       "      <th>Men</th>\n",
       "      <th>Women</th>\n",
       "      <th>Hispanic</th>\n",
       "      <th>White</th>\n",
       "      <th>Black</th>\n",
       "      <th>Native</th>\n",
       "      <th>...</th>\n",
       "      <th>Walk</th>\n",
       "      <th>OtherTransp</th>\n",
       "      <th>WorkAtHome</th>\n",
       "      <th>MeanCommute</th>\n",
       "      <th>Employed</th>\n",
       "      <th>PrivateWork</th>\n",
       "      <th>PublicWork</th>\n",
       "      <th>SelfEmployed</th>\n",
       "      <th>FamilyWork</th>\n",
       "      <th>Unemployment</th>\n",
       "    </tr>\n",
       "  </thead>\n",
       "  <tbody>\n",
       "    <tr>\n",
       "      <th>Alabama-Autauga</th>\n",
       "      <td>1001</td>\n",
       "      <td>Alabama</td>\n",
       "      <td>Autauga</td>\n",
       "      <td>55221</td>\n",
       "      <td>26745</td>\n",
       "      <td>28476</td>\n",
       "      <td>2.6</td>\n",
       "      <td>75.8</td>\n",
       "      <td>18.5</td>\n",
       "      <td>0.4</td>\n",
       "      <td>...</td>\n",
       "      <td>0.5</td>\n",
       "      <td>1.3</td>\n",
       "      <td>1.8</td>\n",
       "      <td>26.5</td>\n",
       "      <td>23986</td>\n",
       "      <td>73.6</td>\n",
       "      <td>20.9</td>\n",
       "      <td>5.5</td>\n",
       "      <td>0.0</td>\n",
       "      <td>7.6</td>\n",
       "    </tr>\n",
       "    <tr>\n",
       "      <th>Alabama-Baldwin</th>\n",
       "      <td>1003</td>\n",
       "      <td>Alabama</td>\n",
       "      <td>Baldwin</td>\n",
       "      <td>195121</td>\n",
       "      <td>95314</td>\n",
       "      <td>99807</td>\n",
       "      <td>4.5</td>\n",
       "      <td>83.1</td>\n",
       "      <td>9.5</td>\n",
       "      <td>0.6</td>\n",
       "      <td>...</td>\n",
       "      <td>1.0</td>\n",
       "      <td>1.4</td>\n",
       "      <td>3.9</td>\n",
       "      <td>26.4</td>\n",
       "      <td>85953</td>\n",
       "      <td>81.5</td>\n",
       "      <td>12.3</td>\n",
       "      <td>5.8</td>\n",
       "      <td>0.4</td>\n",
       "      <td>7.5</td>\n",
       "    </tr>\n",
       "    <tr>\n",
       "      <th>Alabama-Barbour</th>\n",
       "      <td>1005</td>\n",
       "      <td>Alabama</td>\n",
       "      <td>Barbour</td>\n",
       "      <td>26932</td>\n",
       "      <td>14497</td>\n",
       "      <td>12435</td>\n",
       "      <td>4.6</td>\n",
       "      <td>46.2</td>\n",
       "      <td>46.7</td>\n",
       "      <td>0.2</td>\n",
       "      <td>...</td>\n",
       "      <td>1.8</td>\n",
       "      <td>1.5</td>\n",
       "      <td>1.6</td>\n",
       "      <td>24.1</td>\n",
       "      <td>8597</td>\n",
       "      <td>71.8</td>\n",
       "      <td>20.8</td>\n",
       "      <td>7.3</td>\n",
       "      <td>0.1</td>\n",
       "      <td>17.6</td>\n",
       "    </tr>\n",
       "    <tr>\n",
       "      <th>Alabama-Bibb</th>\n",
       "      <td>1007</td>\n",
       "      <td>Alabama</td>\n",
       "      <td>Bibb</td>\n",
       "      <td>22604</td>\n",
       "      <td>12073</td>\n",
       "      <td>10531</td>\n",
       "      <td>2.2</td>\n",
       "      <td>74.5</td>\n",
       "      <td>21.4</td>\n",
       "      <td>0.4</td>\n",
       "      <td>...</td>\n",
       "      <td>0.6</td>\n",
       "      <td>1.5</td>\n",
       "      <td>0.7</td>\n",
       "      <td>28.8</td>\n",
       "      <td>8294</td>\n",
       "      <td>76.8</td>\n",
       "      <td>16.1</td>\n",
       "      <td>6.7</td>\n",
       "      <td>0.4</td>\n",
       "      <td>8.3</td>\n",
       "    </tr>\n",
       "    <tr>\n",
       "      <th>Alabama-Blount</th>\n",
       "      <td>1009</td>\n",
       "      <td>Alabama</td>\n",
       "      <td>Blount</td>\n",
       "      <td>57710</td>\n",
       "      <td>28512</td>\n",
       "      <td>29198</td>\n",
       "      <td>8.6</td>\n",
       "      <td>87.9</td>\n",
       "      <td>1.5</td>\n",
       "      <td>0.3</td>\n",
       "      <td>...</td>\n",
       "      <td>0.9</td>\n",
       "      <td>0.4</td>\n",
       "      <td>2.3</td>\n",
       "      <td>34.9</td>\n",
       "      <td>22189</td>\n",
       "      <td>82.0</td>\n",
       "      <td>13.5</td>\n",
       "      <td>4.2</td>\n",
       "      <td>0.4</td>\n",
       "      <td>7.7</td>\n",
       "    </tr>\n",
       "  </tbody>\n",
       "</table>\n",
       "<p>5 rows × 37 columns</p>\n",
       "</div>"
      ],
      "text/plain": [
       "                 CensusId    State   County  TotalPop    Men  Women  Hispanic  \\\n",
       "Alabama-Autauga      1001  Alabama  Autauga     55221  26745  28476       2.6   \n",
       "Alabama-Baldwin      1003  Alabama  Baldwin    195121  95314  99807       4.5   \n",
       "Alabama-Barbour      1005  Alabama  Barbour     26932  14497  12435       4.6   \n",
       "Alabama-Bibb         1007  Alabama     Bibb     22604  12073  10531       2.2   \n",
       "Alabama-Blount       1009  Alabama   Blount     57710  28512  29198       8.6   \n",
       "\n",
       "                 White  Black  Native  ...  Walk  OtherTransp  WorkAtHome  \\\n",
       "Alabama-Autauga   75.8   18.5     0.4  ...   0.5          1.3         1.8   \n",
       "Alabama-Baldwin   83.1    9.5     0.6  ...   1.0          1.4         3.9   \n",
       "Alabama-Barbour   46.2   46.7     0.2  ...   1.8          1.5         1.6   \n",
       "Alabama-Bibb      74.5   21.4     0.4  ...   0.6          1.5         0.7   \n",
       "Alabama-Blount    87.9    1.5     0.3  ...   0.9          0.4         2.3   \n",
       "\n",
       "                 MeanCommute  Employed  PrivateWork  PublicWork  SelfEmployed  \\\n",
       "Alabama-Autauga         26.5     23986         73.6        20.9           5.5   \n",
       "Alabama-Baldwin         26.4     85953         81.5        12.3           5.8   \n",
       "Alabama-Barbour         24.1      8597         71.8        20.8           7.3   \n",
       "Alabama-Bibb            28.8      8294         76.8        16.1           6.7   \n",
       "Alabama-Blount          34.9     22189         82.0        13.5           4.2   \n",
       "\n",
       "                 FamilyWork  Unemployment  \n",
       "Alabama-Autauga         0.0           7.6  \n",
       "Alabama-Baldwin         0.4           7.5  \n",
       "Alabama-Barbour         0.1          17.6  \n",
       "Alabama-Bibb            0.4           8.3  \n",
       "Alabama-Blount          0.4           7.7  \n",
       "\n",
       "[5 rows x 37 columns]"
      ]
     },
     "execution_count": 20,
     "metadata": {},
     "output_type": "execute_result"
    }
   ],
   "source": [
    "clean_counties_df.head()[:5]"
   ]
  },
  {
   "cell_type": "code",
   "execution_count": 22,
   "metadata": {},
   "outputs": [],
   "source": [
    "# drop the old State and County columns, and the CensusId column\n",
    "# clean df should be modified or created anew\n",
    "clean_counties_df = clean_counties_df.drop(['CensusId','State','County'], axis=1)\n"
   ]
  },
  {
   "cell_type": "code",
   "execution_count": 24,
   "metadata": {},
   "outputs": [
    {
     "data": {
      "text/html": [
       "<div>\n",
       "<style scoped>\n",
       "    .dataframe tbody tr th:only-of-type {\n",
       "        vertical-align: middle;\n",
       "    }\n",
       "\n",
       "    .dataframe tbody tr th {\n",
       "        vertical-align: top;\n",
       "    }\n",
       "\n",
       "    .dataframe thead th {\n",
       "        text-align: right;\n",
       "    }\n",
       "</style>\n",
       "<table border=\"1\" class=\"dataframe\">\n",
       "  <thead>\n",
       "    <tr style=\"text-align: right;\">\n",
       "      <th></th>\n",
       "      <th>TotalPop</th>\n",
       "      <th>Men</th>\n",
       "      <th>Women</th>\n",
       "      <th>Hispanic</th>\n",
       "      <th>White</th>\n",
       "      <th>Black</th>\n",
       "      <th>Native</th>\n",
       "      <th>Asian</th>\n",
       "      <th>Pacific</th>\n",
       "      <th>Citizen</th>\n",
       "      <th>...</th>\n",
       "      <th>Walk</th>\n",
       "      <th>OtherTransp</th>\n",
       "      <th>WorkAtHome</th>\n",
       "      <th>MeanCommute</th>\n",
       "      <th>Employed</th>\n",
       "      <th>PrivateWork</th>\n",
       "      <th>PublicWork</th>\n",
       "      <th>SelfEmployed</th>\n",
       "      <th>FamilyWork</th>\n",
       "      <th>Unemployment</th>\n",
       "    </tr>\n",
       "  </thead>\n",
       "  <tbody>\n",
       "    <tr>\n",
       "      <th>Alabama-Autauga</th>\n",
       "      <td>55221</td>\n",
       "      <td>26745</td>\n",
       "      <td>28476</td>\n",
       "      <td>2.6</td>\n",
       "      <td>75.8</td>\n",
       "      <td>18.5</td>\n",
       "      <td>0.4</td>\n",
       "      <td>1.0</td>\n",
       "      <td>0.0</td>\n",
       "      <td>40725</td>\n",
       "      <td>...</td>\n",
       "      <td>0.5</td>\n",
       "      <td>1.3</td>\n",
       "      <td>1.8</td>\n",
       "      <td>26.5</td>\n",
       "      <td>23986</td>\n",
       "      <td>73.6</td>\n",
       "      <td>20.9</td>\n",
       "      <td>5.5</td>\n",
       "      <td>0.0</td>\n",
       "      <td>7.6</td>\n",
       "    </tr>\n",
       "    <tr>\n",
       "      <th>Alabama-Baldwin</th>\n",
       "      <td>195121</td>\n",
       "      <td>95314</td>\n",
       "      <td>99807</td>\n",
       "      <td>4.5</td>\n",
       "      <td>83.1</td>\n",
       "      <td>9.5</td>\n",
       "      <td>0.6</td>\n",
       "      <td>0.7</td>\n",
       "      <td>0.0</td>\n",
       "      <td>147695</td>\n",
       "      <td>...</td>\n",
       "      <td>1.0</td>\n",
       "      <td>1.4</td>\n",
       "      <td>3.9</td>\n",
       "      <td>26.4</td>\n",
       "      <td>85953</td>\n",
       "      <td>81.5</td>\n",
       "      <td>12.3</td>\n",
       "      <td>5.8</td>\n",
       "      <td>0.4</td>\n",
       "      <td>7.5</td>\n",
       "    </tr>\n",
       "    <tr>\n",
       "      <th>Alabama-Barbour</th>\n",
       "      <td>26932</td>\n",
       "      <td>14497</td>\n",
       "      <td>12435</td>\n",
       "      <td>4.6</td>\n",
       "      <td>46.2</td>\n",
       "      <td>46.7</td>\n",
       "      <td>0.2</td>\n",
       "      <td>0.4</td>\n",
       "      <td>0.0</td>\n",
       "      <td>20714</td>\n",
       "      <td>...</td>\n",
       "      <td>1.8</td>\n",
       "      <td>1.5</td>\n",
       "      <td>1.6</td>\n",
       "      <td>24.1</td>\n",
       "      <td>8597</td>\n",
       "      <td>71.8</td>\n",
       "      <td>20.8</td>\n",
       "      <td>7.3</td>\n",
       "      <td>0.1</td>\n",
       "      <td>17.6</td>\n",
       "    </tr>\n",
       "  </tbody>\n",
       "</table>\n",
       "<p>3 rows × 34 columns</p>\n",
       "</div>"
      ],
      "text/plain": [
       "                 TotalPop    Men  Women  Hispanic  White  Black  Native  \\\n",
       "Alabama-Autauga     55221  26745  28476       2.6   75.8   18.5     0.4   \n",
       "Alabama-Baldwin    195121  95314  99807       4.5   83.1    9.5     0.6   \n",
       "Alabama-Barbour     26932  14497  12435       4.6   46.2   46.7     0.2   \n",
       "\n",
       "                 Asian  Pacific  Citizen  ...  Walk  OtherTransp  WorkAtHome  \\\n",
       "Alabama-Autauga    1.0      0.0    40725  ...   0.5          1.3         1.8   \n",
       "Alabama-Baldwin    0.7      0.0   147695  ...   1.0          1.4         3.9   \n",
       "Alabama-Barbour    0.4      0.0    20714  ...   1.8          1.5         1.6   \n",
       "\n",
       "                 MeanCommute  Employed  PrivateWork  PublicWork  SelfEmployed  \\\n",
       "Alabama-Autauga         26.5     23986         73.6        20.9           5.5   \n",
       "Alabama-Baldwin         26.4     85953         81.5        12.3           5.8   \n",
       "Alabama-Barbour         24.1      8597         71.8        20.8           7.3   \n",
       "\n",
       "                 FamilyWork  Unemployment  \n",
       "Alabama-Autauga         0.0           7.6  \n",
       "Alabama-Baldwin         0.4           7.5  \n",
       "Alabama-Barbour         0.1          17.6  \n",
       "\n",
       "[3 rows x 34 columns]"
      ]
     },
     "execution_count": 24,
     "metadata": {},
     "output_type": "execute_result"
    }
   ],
   "source": [
    "clean_counties_df.head()[:3]"
   ]
  },
  {
   "cell_type": "markdown",
   "metadata": {},
   "source": [
    "Now, what features do you have to work with?"
   ]
  },
  {
   "cell_type": "code",
   "execution_count": 25,
   "metadata": {},
   "outputs": [
    {
     "name": "stdout",
     "output_type": "stream",
     "text": [
      "Features: \n",
      " ['TotalPop' 'Men' 'Women' 'Hispanic' 'White' 'Black' 'Native' 'Asian'\n",
      " 'Pacific' 'Citizen' 'Income' 'IncomeErr' 'IncomePerCap' 'IncomePerCapErr'\n",
      " 'Poverty' 'ChildPoverty' 'Professional' 'Service' 'Office' 'Construction'\n",
      " 'Production' 'Drive' 'Carpool' 'Transit' 'Walk' 'OtherTransp'\n",
      " 'WorkAtHome' 'MeanCommute' 'Employed' 'PrivateWork' 'PublicWork'\n",
      " 'SelfEmployed' 'FamilyWork' 'Unemployment']\n"
     ]
    }
   ],
   "source": [
    "# features\n",
    "features_list = clean_counties_df.columns.values\n",
    "print('Features: \\n', features_list)"
   ]
  },
  {
   "cell_type": "markdown",
   "metadata": {},
   "source": [
    "## Visualizing the Data\n",
    "\n",
    "In general, you can see that features come in a variety of ranges, mostly percentages from 0-100, and counts that are integer values in a large range. Let's visualize the data in some of our feature columns and see what the distribution, over all counties, looks like.\n",
    "\n",
    "The below cell displays **histograms**, which show the distribution of data points over discrete feature ranges. The x-axis represents the different bins; each bin is defined by a specific range of values that a feature can take, say between the values 0-5 and 5-10, and so on. The y-axis is the frequency of occurrence or the number of county data points that fall into each bin. I find it helpful to use the y-axis values for relative comparisons between different features.\n",
    "\n",
    "Below, I'm plotting a histogram comparing methods of commuting to work over all of the counties. I just copied these feature names from the list of column names, printed above. I also know that all of these features are represented as percentages (%) in the original data, so the x-axes of these plots will be comparable."
   ]
  },
  {
   "cell_type": "code",
   "execution_count": 26,
   "metadata": {
    "nbpresent": {
     "id": "7e847244-7b42-490f-8945-46e234a3af75"
    }
   },
   "outputs": [
    {
     "data": {
      "image/png": "[encoded data removed]",
      "text/plain": [
       "<Figure size 432x216 with 1 Axes>"
      ]
     },
     "metadata": {
      "needs_background": "light"
     },
     "output_type": "display_data"
    },
    {
     "data": {
      "image/png": "[encoded data removed]",
      "text/plain": [
       "<Figure size 432x216 with 1 Axes>"
      ]
     },
     "metadata": {
      "needs_background": "light"
     },
     "output_type": "display_data"
    },
    {
     "data": {
      "image/png": "[encoded data removed]",
      "text/plain": [
       "<Figure size 432x216 with 1 Axes>"
      ]
     },
     "metadata": {
      "needs_background": "light"
     },
     "output_type": "display_data"
    },
    {
     "data": {
      "image/png": "[encoded data removed]",
      "text/plain": [
       "<Figure size 432x216 with 1 Axes>"
      ]
     },
     "metadata": {
      "needs_background": "light"
     },
     "output_type": "display_data"
    },
    {
     "data": {
      "image/png": "[encoded data removed]",
      "text/plain": [
       "<Figure size 432x216 with 1 Axes>"
      ]
     },
     "metadata": {
      "needs_background": "light"
     },
     "output_type": "display_data"
    }
   ],
   "source": [
    "# transportation (to work)\n",
    "transport_list = ['Drive', 'Carpool', 'Transit', 'Walk', 'OtherTransp']\n",
    "n_bins = 30 # can decrease to get a wider bin (or vice versa)\n",
    "\n",
    "for column_name in transport_list:\n",
    "    ax=plt.subplots(figsize=(6,3))\n",
    "    # get data by column_name and display a histogram\n",
    "    ax = plt.hist(clean_counties_df[column_name], bins=n_bins)\n",
    "    title=\"Histogram of \" + column_name\n",
    "    plt.title(title, fontsize=12)\n",
    "    plt.show()"
   ]
  },
  {
   "cell_type": "markdown",
   "metadata": {},
   "source": [
    "### EXERCISE: Create histograms of your own\n",
    "\n",
    "Commute transportation method is just one category of features. If you take a look at the 34 features, you can see data on profession, race, income, and more. Display a set of histograms that interest you!\n"
   ]
  },
  {
   "cell_type": "code",
   "execution_count": 29,
   "metadata": {},
   "outputs": [
    {
     "data": {
      "image/png": "[encoded data removed]",
      "text/plain": [
       "<Figure size 432x216 with 1 Axes>"
      ]
     },
     "metadata": {
      "needs_background": "light"
     },
     "output_type": "display_data"
    },
    {
     "data": {
      "image/png": "[encoded data removed]",
      "text/plain": [
       "<Figure size 432x216 with 1 Axes>"
      ]
     },
     "metadata": {
      "needs_background": "light"
     },
     "output_type": "display_data"
    },
    {
     "data": {
      "image/png": "[encoded data removed]",
      "text/plain": [
       "<Figure size 432x216 with 1 Axes>"
      ]
     },
     "metadata": {
      "needs_background": "light"
     },
     "output_type": "display_data"
    },
    {
     "data": {
      "image/png": "[encoded data removed]",
      "text/plain": [
       "<Figure size 432x216 with 1 Axes>"
      ]
     },
     "metadata": {
      "needs_background": "light"
     },
     "output_type": "display_data"
    },
    {
     "data": {
      "image/png": "[encoded data removed]",
      "text/plain": [
       "<Figure size 432x216 with 1 Axes>"
      ]
     },
     "metadata": {
      "needs_background": "light"
     },
     "output_type": "display_data"
    },
    {
     "data": {
      "image/png": "[encoded data removed]",
      "text/plain": [
       "<Figure size 432x216 with 1 Axes>"
      ]
     },
     "metadata": {
      "needs_background": "light"
     },
     "output_type": "display_data"
    },
    {
     "data": {
      "image/png": "[encoded data removed]",
      "text/plain": [
       "<Figure size 432x216 with 1 Axes>"
      ]
     },
     "metadata": {
      "needs_background": "light"
     },
     "output_type": "display_data"
    }
   ],
   "source": [
    "# create a list of features that you want to compare or examine\n",
    "my_list = ['WorkAtHome','Employed','PrivateWork','PublicWork','SelfEmployed','FamilyWork','Unemployment']\n",
    "n_bins = 20 # define n_bins\n",
    "\n",
    "# histogram creation code is similar to above\n",
    "for column_name in my_list:\n",
    "    ax=plt.subplots(figsize=(6,3))\n",
    "    # get data by column_name and display a histogram\n",
    "    ax = plt.hist(clean_counties_df[column_name], bins=n_bins)\n",
    "    title=\"Histogram of \" + column_name\n",
    "    plt.title(title, fontsize=12)\n",
    "    plt.show()"
   ]
  },
  {
   "cell_type": "markdown",
   "metadata": {},
   "source": [
    "### EXERCISE: Normalize the data\n",
    "\n",
    "You need to standardize the scale of the numerical columns in order to consistently compare the values of different features. You can use a [MinMaxScaler](https://scikit-learn.org/stable/modules/generated/sklearn.preprocessing.MinMaxScaler.html) to transform the numerical values so that they all fall between 0 and 1."
   ]
  },
  {
   "cell_type": "code",
   "execution_count": 32,
   "metadata": {},
   "outputs": [
    {
     "data": {
      "text/html": [
       "<div>\n",
       "<style scoped>\n",
       "    .dataframe tbody tr th:only-of-type {\n",
       "        vertical-align: middle;\n",
       "    }\n",
       "\n",
       "    .dataframe tbody tr th {\n",
       "        vertical-align: top;\n",
       "    }\n",
       "\n",
       "    .dataframe thead th {\n",
       "        text-align: right;\n",
       "    }\n",
       "</style>\n",
       "<table border=\"1\" class=\"dataframe\">\n",
       "  <thead>\n",
       "    <tr style=\"text-align: right;\">\n",
       "      <th></th>\n",
       "      <th>TotalPop</th>\n",
       "      <th>Men</th>\n",
       "      <th>Women</th>\n",
       "      <th>Hispanic</th>\n",
       "      <th>White</th>\n",
       "      <th>Black</th>\n",
       "      <th>Native</th>\n",
       "      <th>Asian</th>\n",
       "      <th>Pacific</th>\n",
       "      <th>Citizen</th>\n",
       "      <th>...</th>\n",
       "      <th>Walk</th>\n",
       "      <th>OtherTransp</th>\n",
       "      <th>WorkAtHome</th>\n",
       "      <th>MeanCommute</th>\n",
       "      <th>Employed</th>\n",
       "      <th>PrivateWork</th>\n",
       "      <th>PublicWork</th>\n",
       "      <th>SelfEmployed</th>\n",
       "      <th>FamilyWork</th>\n",
       "      <th>Unemployment</th>\n",
       "    </tr>\n",
       "  </thead>\n",
       "  <tbody>\n",
       "    <tr>\n",
       "      <th>Alabama-Autauga</th>\n",
       "      <td>0.005475</td>\n",
       "      <td>0.005381</td>\n",
       "      <td>0.005566</td>\n",
       "      <td>0.026026</td>\n",
       "      <td>0.759519</td>\n",
       "      <td>0.215367</td>\n",
       "      <td>0.004343</td>\n",
       "      <td>0.024038</td>\n",
       "      <td>0.0</td>\n",
       "      <td>0.006702</td>\n",
       "      <td>...</td>\n",
       "      <td>0.007022</td>\n",
       "      <td>0.033248</td>\n",
       "      <td>0.048387</td>\n",
       "      <td>0.552430</td>\n",
       "      <td>0.005139</td>\n",
       "      <td>0.750000</td>\n",
       "      <td>0.250000</td>\n",
       "      <td>0.150273</td>\n",
       "      <td>0.000000</td>\n",
       "      <td>0.208219</td>\n",
       "    </tr>\n",
       "    <tr>\n",
       "      <th>Alabama-Baldwin</th>\n",
       "      <td>0.019411</td>\n",
       "      <td>0.019246</td>\n",
       "      <td>0.019572</td>\n",
       "      <td>0.045045</td>\n",
       "      <td>0.832665</td>\n",
       "      <td>0.110594</td>\n",
       "      <td>0.006515</td>\n",
       "      <td>0.016827</td>\n",
       "      <td>0.0</td>\n",
       "      <td>0.024393</td>\n",
       "      <td>...</td>\n",
       "      <td>0.014045</td>\n",
       "      <td>0.035806</td>\n",
       "      <td>0.104839</td>\n",
       "      <td>0.549872</td>\n",
       "      <td>0.018507</td>\n",
       "      <td>0.884354</td>\n",
       "      <td>0.107616</td>\n",
       "      <td>0.158470</td>\n",
       "      <td>0.040816</td>\n",
       "      <td>0.205479</td>\n",
       "    </tr>\n",
       "    <tr>\n",
       "      <th>Alabama-Barbour</th>\n",
       "      <td>0.002656</td>\n",
       "      <td>0.002904</td>\n",
       "      <td>0.002416</td>\n",
       "      <td>0.046046</td>\n",
       "      <td>0.462926</td>\n",
       "      <td>0.543655</td>\n",
       "      <td>0.002172</td>\n",
       "      <td>0.009615</td>\n",
       "      <td>0.0</td>\n",
       "      <td>0.003393</td>\n",
       "      <td>...</td>\n",
       "      <td>0.025281</td>\n",
       "      <td>0.038363</td>\n",
       "      <td>0.043011</td>\n",
       "      <td>0.491049</td>\n",
       "      <td>0.001819</td>\n",
       "      <td>0.719388</td>\n",
       "      <td>0.248344</td>\n",
       "      <td>0.199454</td>\n",
       "      <td>0.010204</td>\n",
       "      <td>0.482192</td>\n",
       "    </tr>\n",
       "    <tr>\n",
       "      <th>Alabama-Bibb</th>\n",
       "      <td>0.002225</td>\n",
       "      <td>0.002414</td>\n",
       "      <td>0.002042</td>\n",
       "      <td>0.022022</td>\n",
       "      <td>0.746493</td>\n",
       "      <td>0.249127</td>\n",
       "      <td>0.004343</td>\n",
       "      <td>0.002404</td>\n",
       "      <td>0.0</td>\n",
       "      <td>0.002860</td>\n",
       "      <td>...</td>\n",
       "      <td>0.008427</td>\n",
       "      <td>0.038363</td>\n",
       "      <td>0.018817</td>\n",
       "      <td>0.611253</td>\n",
       "      <td>0.001754</td>\n",
       "      <td>0.804422</td>\n",
       "      <td>0.170530</td>\n",
       "      <td>0.183060</td>\n",
       "      <td>0.040816</td>\n",
       "      <td>0.227397</td>\n",
       "    </tr>\n",
       "    <tr>\n",
       "      <th>Alabama-Blount</th>\n",
       "      <td>0.005722</td>\n",
       "      <td>0.005738</td>\n",
       "      <td>0.005707</td>\n",
       "      <td>0.086086</td>\n",
       "      <td>0.880762</td>\n",
       "      <td>0.017462</td>\n",
       "      <td>0.003257</td>\n",
       "      <td>0.002404</td>\n",
       "      <td>0.0</td>\n",
       "      <td>0.006970</td>\n",
       "      <td>...</td>\n",
       "      <td>0.012640</td>\n",
       "      <td>0.010230</td>\n",
       "      <td>0.061828</td>\n",
       "      <td>0.767263</td>\n",
       "      <td>0.004751</td>\n",
       "      <td>0.892857</td>\n",
       "      <td>0.127483</td>\n",
       "      <td>0.114754</td>\n",
       "      <td>0.040816</td>\n",
       "      <td>0.210959</td>\n",
       "    </tr>\n",
       "  </tbody>\n",
       "</table>\n",
       "<p>5 rows × 34 columns</p>\n",
       "</div>"
      ],
      "text/plain": [
       "                 TotalPop       Men     Women  Hispanic     White     Black  \\\n",
       "Alabama-Autauga  0.005475  0.005381  0.005566  0.026026  0.759519  0.215367   \n",
       "Alabama-Baldwin  0.019411  0.019246  0.019572  0.045045  0.832665  0.110594   \n",
       "Alabama-Barbour  0.002656  0.002904  0.002416  0.046046  0.462926  0.543655   \n",
       "Alabama-Bibb     0.002225  0.002414  0.002042  0.022022  0.746493  0.249127   \n",
       "Alabama-Blount   0.005722  0.005738  0.005707  0.086086  0.880762  0.017462   \n",
       "\n",
       "                   Native     Asian  Pacific   Citizen  ...      Walk  \\\n",
       "Alabama-Autauga  0.004343  0.024038      0.0  0.006702  ...  0.007022   \n",
       "Alabama-Baldwin  0.006515  0.016827      0.0  0.024393  ...  0.014045   \n",
       "Alabama-Barbour  0.002172  0.009615      0.0  0.003393  ...  0.025281   \n",
       "Alabama-Bibb     0.004343  0.002404      0.0  0.002860  ...  0.008427   \n",
       "Alabama-Blount   0.003257  0.002404      0.0  0.006970  ...  0.012640   \n",
       "\n",
       "                 OtherTransp  WorkAtHome  MeanCommute  Employed  PrivateWork  \\\n",
       "Alabama-Autauga     0.033248    0.048387     0.552430  0.005139     0.750000   \n",
       "Alabama-Baldwin     0.035806    0.104839     0.549872  0.018507     0.884354   \n",
       "Alabama-Barbour     0.038363    0.043011     0.491049  0.001819     0.719388   \n",
       "Alabama-Bibb        0.038363    0.018817     0.611253  0.001754     0.804422   \n",
       "Alabama-Blount      0.010230    0.061828     0.767263  0.004751     0.892857   \n",
       "\n",
       "                 PublicWork  SelfEmployed  FamilyWork  Unemployment  \n",
       "Alabama-Autauga    0.250000      0.150273    0.000000      0.208219  \n",
       "Alabama-Baldwin    0.107616      0.158470    0.040816      0.205479  \n",
       "Alabama-Barbour    0.248344      0.199454    0.010204      0.482192  \n",
       "Alabama-Bibb       0.170530      0.183060    0.040816      0.227397  \n",
       "Alabama-Blount     0.127483      0.114754    0.040816      0.210959  \n",
       "\n",
       "[5 rows x 34 columns]"
      ]
     },
     "execution_count": 32,
     "metadata": {},
     "output_type": "execute_result"
    }
   ],
   "source": [
    "# scale numerical features into a normalized range, 0-1\n",
    "# store them in this dataframe\n",
    "from sklearn.preprocessing import MinMaxScaler\n",
    "scaler=MinMaxScaler()\n",
    "counties_scaled = pd.DataFrame(scaler.fit_transform(clean_counties_df.astype(float)))\n",
    "\n",
    "#get some features and state-county indices\n",
    "counties_scaled.columns=clean_counties_df.columns\n",
    "counties_scaled.index=clean_counties_df.index\n",
    "counties_scaled.head()"
   ]
  },
  {
   "cell_type": "markdown",
   "metadata": {},
   "source": [
    "---\n",
    "# Data Modeling\n",
    "\n",
    "\n",
    "Now, the data is ready to be fed into a machine learning model!\n",
    "\n",
    "Each data point has 34 features, which means the data is 34-dimensional. Clustering algorithms rely on finding clusters in n-dimensional feature space. For higher dimensions, an algorithm like k-means has a difficult time figuring out which features are most important, and the result is, often, noisier clusters.\n",
    "\n",
    "Some dimensions are not as important as others. For example, if every county in our dataset has the same rate of unemployment, then that particular feature doesn’t give us any distinguishing information; it will not help t separate counties into different groups because its value doesn’t *vary* between counties.\n",
    "\n",
    "> Instead, we really want to find the features that help to separate and group data. We want to find features that cause the **most variance** in the dataset!\n",
    "\n",
    "So, before I cluster this data, I’ll want to take a dimensionality reduction step. My aim will be to form a smaller set of features that will better help to separate our data. The technique I’ll use is called PCA or **principal component analysis**\n",
    "\n",
    "## Dimensionality Reduction\n",
    "\n",
    "PCA attempts to reduce the number of features within a dataset while retaining the “principal components”, which are defined as *weighted*, linear combinations of existing features that are designed to be linearly independent and account for the largest possible variability in the data! You can think of this method as taking many features and combining similar or redundant features together to form a new, smaller feature set.\n",
    "\n",
    "We can reduce dimensionality with the built-in SageMaker model for PCA."
   ]
  },
  {
   "cell_type": "markdown",
   "metadata": {},
   "source": [
    "### Roles and Buckets\n",
    "\n",
    "> To create a model, you'll first need to specify an IAM role, and to save the model attributes, you'll need to store them in an S3 bucket.\n",
    "\n",
    "The `get_execution_role` function retrieves the IAM role you created at the time you created your notebook instance. Roles are essentially used to manage permissions and you can read more about that [in this documentation](https://docs.aws.amazon.com/sagemaker/latest/dg/sagemaker-roles.html). For now, know that we have a FullAccess notebook, which allowed us to access and download the census data stored in S3.\n",
    "\n",
    "You must specify a bucket name for an S3 bucket in your account where you want SageMaker model parameters to be stored. Note that the bucket must be in the same region as this notebook. You can get a default S3 bucket, which automatically creates a bucket for you and in your region, by storing the current SageMaker session and calling `session.default_bucket()`."
   ]
  },
  {
   "cell_type": "code",
   "execution_count": 33,
   "metadata": {},
   "outputs": [
    {
     "name": "stdout",
     "output_type": "stream",
     "text": [
      "arn:aws:iam::061257208775:role/service-role/AmazonSageMaker-ExecutionRole-20210516T125114\n"
     ]
    }
   ],
   "source": [
    "from sagemaker import get_execution_role\n",
    "\n",
    "session = sagemaker.Session() # store the current SageMaker session\n",
    "\n",
    "# get IAM role\n",
    "role = get_execution_role()\n",
    "print(role)"
   ]
  },
  {
   "cell_type": "code",
   "execution_count": 34,
   "metadata": {},
   "outputs": [
    {
     "name": "stdout",
     "output_type": "stream",
     "text": [
      "sagemaker-us-east-1-061257208775\n",
      "\n"
     ]
    }
   ],
   "source": [
    "# get default bucket\n",
    "bucket_name = session.default_bucket()\n",
    "print(bucket_name)\n",
    "print()"
   ]
  },
  {
   "cell_type": "markdown",
   "metadata": {},
   "source": [
    "## Define a PCA Model\n",
    "\n",
    "To create a PCA model, I'll use the built-in SageMaker resource. A SageMaker estimator requires a number of parameters to be specified; these define the type of training instance to use and the model hyperparameters. A PCA model requires the following constructor arguments:\n",
    "\n",
    "* role: The IAM role, which was specified, above.\n",
    "* train_instance_count: The number of training instances (typically, 1).\n",
    "* train_instance_type: The type of SageMaker instance for training.\n",
    "* num_components: An integer that defines the number of PCA components to produce.\n",
    "* sagemaker_session: The session used to train on SageMaker.\n",
    "\n",
    "Documentation on the PCA model can be found [here](http://sagemaker.readthedocs.io/en/latest/pca.html).\n",
    "\n",
    "Below, I first specify where to save the model training data, the `output_path`."
   ]
  },
  {
   "cell_type": "code",
   "execution_count": 35,
   "metadata": {},
   "outputs": [
    {
     "name": "stdout",
     "output_type": "stream",
     "text": [
      "Training artifacts will be uploaded to: s3://sagemaker-us-east-1-061257208775/counties/\n"
     ]
    }
   ],
   "source": [
    "# define location to store model artifacts\n",
    "prefix = 'counties'\n",
    "\n",
    "output_path='s3://{}/{}/'.format(bucket_name, prefix)\n",
    "\n",
    "print('Training artifacts will be uploaded to: {}'.format(output_path))"
   ]
  },
  {
   "cell_type": "code",
   "execution_count": 36,
   "metadata": {},
   "outputs": [
    {
     "name": "stderr",
     "output_type": "stream",
     "text": [
      "train_instance_count has been renamed in sagemaker>=2.\n",
      "See: https://sagemaker.readthedocs.io/en/stable/v2.html for details.\n",
      "train_instance_type has been renamed in sagemaker>=2.\n",
      "See: https://sagemaker.readthedocs.io/en/stable/v2.html for details.\n"
     ]
    }
   ],
   "source": [
    "# define a PCA model\n",
    "from sagemaker import PCA\n",
    "\n",
    "# this is current features - 1\n",
    "# you'll select only a portion of these to use, later\n",
    "N_COMPONENTS=33\n",
    "\n",
    "pca_SM = PCA(role=role,\n",
    "             train_instance_count=1,\n",
    "             train_instance_type='ml.c4.xlarge',\n",
    "             output_path=output_path, # specified, above\n",
    "             num_components=N_COMPONENTS, \n",
    "             sagemaker_session=session)\n"
   ]
  },
  {
   "cell_type": "markdown",
   "metadata": {},
   "source": [
    "### Convert data into a RecordSet format\n",
    "\n",
    "Next, prepare the data for a built-in model by converting the DataFrame to a numpy array of float values.\n",
    "\n",
    "The *record_set* function in the SageMaker PCA model converts a numpy array into a **RecordSet** format that is the required format for the training input data. This is a requirement for _all_ of SageMaker's built-in models. The use of this data type is one of the reasons that allows training of models within Amazon SageMaker to perform faster, especially for large datasets."
   ]
  },
  {
   "cell_type": "code",
   "execution_count": 37,
   "metadata": {},
   "outputs": [],
   "source": [
    "# convert df to np array\n",
    "train_data_np = counties_scaled.values.astype('float32')\n",
    "\n",
    "# convert to RecordSet format\n",
    "formatted_train_data = pca_SM.record_set(train_data_np)"
   ]
  },
  {
   "cell_type": "markdown",
   "metadata": {},
   "source": [
    "## Train the model\n",
    "\n",
    "Call the fit function on the PCA model, passing in our formatted, training data. This spins up a training instance to perform the training job.\n",
    "\n",
    "Note that it takes the longest to launch the specified training instance; the fitting itself doesn't take much time."
   ]
  },
  {
   "cell_type": "code",
   "execution_count": 38,
   "metadata": {},
   "outputs": [
    {
     "name": "stderr",
     "output_type": "stream",
     "text": [
      "Defaulting to the only supported framework/algorithm version: 1. Ignoring framework/algorithm version: 1.\n",
      "Defaulting to the only supported framework/algorithm version: 1. Ignoring framework/algorithm version: 1.\n"
     ]
    },
    {
     "name": "stdout",
     "output_type": "stream",
     "text": [
      "2021-05-16 11:52:21 Starting - Starting the training job...\n",
      "2021-05-16 11:52:22 Starting - Launching requested ML instancesProfilerReport-1621165940: InProgress\n",
      "......\n",
      "2021-05-16 11:53:35 Starting - Preparing the instances for training.........\n",
      "2021-05-16 11:55:16 Downloading - Downloading input data\n",
      "2021-05-16 11:55:16 Training - Downloading the training image...\n",
      "2021-05-16 11:55:49 Uploading - Uploading generated training model\n",
      "2021-05-16 11:55:49 Completed - Training job completed\n",
      "\u001b[34mDocker entrypoint called with argument(s): train\u001b[0m\n",
      "\u001b[34mRunning default environment configuration script\u001b[0m\n",
      "\u001b[34m[05/16/2021 11:55:40 INFO 139872936527680] Reading default configuration from /opt/amazon/lib/python3.7/site-packages/algorithm/resources/default-conf.json: {'algorithm_mode': 'regular', 'subtract_mean': 'true', 'extra_components': '-1', 'force_dense': 'true', 'epochs': 1, '_log_level': 'info', '_kvstore': 'dist_sync', '_num_kv_servers': 'auto', '_num_gpus': 'auto'}\u001b[0m\n",
      "\u001b[34m[05/16/2021 11:55:40 INFO 139872936527680] Merging with provided configuration from /opt/ml/input/config/hyperparameters.json: {'feature_dim': '34', 'num_components': '33', 'mini_batch_size': '500'}\u001b[0m\n",
      "\u001b[34m[05/16/2021 11:55:40 INFO 139872936527680] Final configuration: {'algorithm_mode': 'regular', 'subtract_mean': 'true', 'extra_components': '-1', 'force_dense': 'true', 'epochs': 1, '_log_level': 'info', '_kvstore': 'dist_sync', '_num_kv_servers': 'auto', '_num_gpus': 'auto', 'feature_dim': '34', 'num_components': '33', 'mini_batch_size': '500'}\u001b[0m\n",
      "\u001b[34m[05/16/2021 11:55:40 WARNING 139872936527680] Loggers have already been setup.\u001b[0m\n",
      "\u001b[34m[05/16/2021 11:55:40 INFO 139872936527680] Launching parameter server for role scheduler\u001b[0m\n",
      "\u001b[34m[05/16/2021 11:55:40 INFO 139872936527680] {'ENVROOT': '/opt/amazon', 'PROTOCOL_BUFFERS_PYTHON_IMPLEMENTATION': 'cpp', 'HOSTNAME': 'ip-10-2-190-141.ec2.internal', 'TRAINING_JOB_NAME': 'pca-2021-05-16-11-52-20-920', 'NVIDIA_REQUIRE_CUDA': 'cuda>=9.0', 'TRAINING_JOB_ARN': 'arn:aws:sagemaker:us-east-1:061257208775:training-job/pca-2021-05-16-11-52-20-920', 'AWS_CONTAINER_CREDENTIALS_RELATIVE_URI': '/v2/credentials/bbd40ea8-1fa7-4628-8eaf-4eb08d09cffa', 'CANONICAL_ENVROOT': '/opt/amazon', 'PYTHONUNBUFFERED': 'TRUE', 'NVIDIA_VISIBLE_DEVICES': 'void', 'LD_LIBRARY_PATH': '/opt/amazon/lib/python3.7/site-packages/cv2/../../../../lib:/usr/local/nvidia/lib64:/opt/amazon/lib', 'NVIDIA_DRIVER_CAPABILITIES': 'compute,utility', 'AWS_EXECUTION_ENV': 'AWS_ECS_EC2', 'PATH': '/opt/amazon/bin:/usr/local/nvidia/bin:/usr/local/sbin:/usr/local/bin:/usr/sbin:/usr/bin:/sbin:/bin:/opt/amazon/bin:/opt/amazon/bin', 'PWD': '/', 'LANG': 'en_US.utf8', 'AWS_REGION': 'us-east-1', 'HOME': '/root', 'SHLVL': '1', 'PROTOCOL_BUFFERS_PYTHON_IMPLEMENTATION_VERSION': '2', 'OMP_NUM_THREADS': '2', 'ECS_CONTAINER_METADATA_URI': 'http://169.254.170.2/v3/3191a72d-e08b-4f4d-86d0-1ce1e85ebb99', 'DMLC_INTERFACE': 'eth0', 'ECS_CONTAINER_METADATA_URI_V4': 'http://169.254.170.2/v4/3191a72d-e08b-4f4d-86d0-1ce1e85ebb99', 'SAGEMAKER_HTTP_PORT': '8080', 'SAGEMAKER_DATA_PATH': '/opt/ml'}\u001b[0m\n",
      "\u001b[34m[05/16/2021 11:55:40 INFO 139872936527680] envs={'ENVROOT': '/opt/amazon', 'PROTOCOL_BUFFERS_PYTHON_IMPLEMENTATION': 'cpp', 'HOSTNAME': 'ip-10-2-190-141.ec2.internal', 'TRAINING_JOB_NAME': 'pca-2021-05-16-11-52-20-920', 'NVIDIA_REQUIRE_CUDA': 'cuda>=9.0', 'TRAINING_JOB_ARN': 'arn:aws:sagemaker:us-east-1:061257208775:training-job/pca-2021-05-16-11-52-20-920', 'AWS_CONTAINER_CREDENTIALS_RELATIVE_URI': '/v2/credentials/bbd40ea8-1fa7-4628-8eaf-4eb08d09cffa', 'CANONICAL_ENVROOT': '/opt/amazon', 'PYTHONUNBUFFERED': 'TRUE', 'NVIDIA_VISIBLE_DEVICES': 'void', 'LD_LIBRARY_PATH': '/opt/amazon/lib/python3.7/site-packages/cv2/../../../../lib:/usr/local/nvidia/lib64:/opt/amazon/lib', 'NVIDIA_DRIVER_CAPABILITIES': 'compute,utility', 'AWS_EXECUTION_ENV': 'AWS_ECS_EC2', 'PATH': '/opt/amazon/bin:/usr/local/nvidia/bin:/usr/local/sbin:/usr/local/bin:/usr/sbin:/usr/bin:/sbin:/bin:/opt/amazon/bin:/opt/amazon/bin', 'PWD': '/', 'LANG': 'en_US.utf8', 'AWS_REGION': 'us-east-1', 'HOME': '/root', 'SHLVL': '1', 'PROTOCOL_BUFFERS_PYTHON_IMPLEMENTATION_VERSION': '2', 'OMP_NUM_THREADS': '2', 'ECS_CONTAINER_METADATA_URI': 'http://169.254.170.2/v3/3191a72d-e08b-4f4d-86d0-1ce1e85ebb99', 'DMLC_INTERFACE': 'eth0', 'ECS_CONTAINER_METADATA_URI_V4': 'http://169.254.170.2/v4/3191a72d-e08b-4f4d-86d0-1ce1e85ebb99', 'SAGEMAKER_HTTP_PORT': '8080', 'SAGEMAKER_DATA_PATH': '/opt/ml', 'DMLC_ROLE': 'scheduler', 'DMLC_PS_ROOT_URI': '10.2.190.141', 'DMLC_PS_ROOT_PORT': '9000', 'DMLC_NUM_SERVER': '1', 'DMLC_NUM_WORKER': '1'}\u001b[0m\n",
      "\u001b[34m[05/16/2021 11:55:40 INFO 139872936527680] Launching parameter server for role server\u001b[0m\n",
      "\u001b[34m[05/16/2021 11:55:40 INFO 139872936527680] {'ENVROOT': '/opt/amazon', 'PROTOCOL_BUFFERS_PYTHON_IMPLEMENTATION': 'cpp', 'HOSTNAME': 'ip-10-2-190-141.ec2.internal', 'TRAINING_JOB_NAME': 'pca-2021-05-16-11-52-20-920', 'NVIDIA_REQUIRE_CUDA': 'cuda>=9.0', 'TRAINING_JOB_ARN': 'arn:aws:sagemaker:us-east-1:061257208775:training-job/pca-2021-05-16-11-52-20-920', 'AWS_CONTAINER_CREDENTIALS_RELATIVE_URI': '/v2/credentials/bbd40ea8-1fa7-4628-8eaf-4eb08d09cffa', 'CANONICAL_ENVROOT': '/opt/amazon', 'PYTHONUNBUFFERED': 'TRUE', 'NVIDIA_VISIBLE_DEVICES': 'void', 'LD_LIBRARY_PATH': '/opt/amazon/lib/python3.7/site-packages/cv2/../../../../lib:/usr/local/nvidia/lib64:/opt/amazon/lib', 'NVIDIA_DRIVER_CAPABILITIES': 'compute,utility', 'AWS_EXECUTION_ENV': 'AWS_ECS_EC2', 'PATH': '/opt/amazon/bin:/usr/local/nvidia/bin:/usr/local/sbin:/usr/local/bin:/usr/sbin:/usr/bin:/sbin:/bin:/opt/amazon/bin:/opt/amazon/bin', 'PWD': '/', 'LANG': 'en_US.utf8', 'AWS_REGION': 'us-east-1', 'HOME': '/root', 'SHLVL': '1', 'PROTOCOL_BUFFERS_PYTHON_IMPLEMENTATION_VERSION': '2', 'OMP_NUM_THREADS': '2', 'ECS_CONTAINER_METADATA_URI': 'http://169.254.170.2/v3/3191a72d-e08b-4f4d-86d0-1ce1e85ebb99', 'DMLC_INTERFACE': 'eth0', 'ECS_CONTAINER_METADATA_URI_V4': 'http://169.254.170.2/v4/3191a72d-e08b-4f4d-86d0-1ce1e85ebb99', 'SAGEMAKER_HTTP_PORT': '8080', 'SAGEMAKER_DATA_PATH': '/opt/ml'}\u001b[0m\n",
      "\u001b[34m[05/16/2021 11:55:40 INFO 139872936527680] envs={'ENVROOT': '/opt/amazon', 'PROTOCOL_BUFFERS_PYTHON_IMPLEMENTATION': 'cpp', 'HOSTNAME': 'ip-10-2-190-141.ec2.internal', 'TRAINING_JOB_NAME': 'pca-2021-05-16-11-52-20-920', 'NVIDIA_REQUIRE_CUDA': 'cuda>=9.0', 'TRAINING_JOB_ARN': 'arn:aws:sagemaker:us-east-1:061257208775:training-job/pca-2021-05-16-11-52-20-920', 'AWS_CONTAINER_CREDENTIALS_RELATIVE_URI': '/v2/credentials/bbd40ea8-1fa7-4628-8eaf-4eb08d09cffa', 'CANONICAL_ENVROOT': '/opt/amazon', 'PYTHONUNBUFFERED': 'TRUE', 'NVIDIA_VISIBLE_DEVICES': 'void', 'LD_LIBRARY_PATH': '/opt/amazon/lib/python3.7/site-packages/cv2/../../../../lib:/usr/local/nvidia/lib64:/opt/amazon/lib', 'NVIDIA_DRIVER_CAPABILITIES': 'compute,utility', 'AWS_EXECUTION_ENV': 'AWS_ECS_EC2', 'PATH': '/opt/amazon/bin:/usr/local/nvidia/bin:/usr/local/sbin:/usr/local/bin:/usr/sbin:/usr/bin:/sbin:/bin:/opt/amazon/bin:/opt/amazon/bin', 'PWD': '/', 'LANG': 'en_US.utf8', 'AWS_REGION': 'us-east-1', 'HOME': '/root', 'SHLVL': '1', 'PROTOCOL_BUFFERS_PYTHON_IMPLEMENTATION_VERSION': '2', 'OMP_NUM_THREADS': '2', 'ECS_CONTAINER_METADATA_URI': 'http://169.254.170.2/v3/3191a72d-e08b-4f4d-86d0-1ce1e85ebb99', 'DMLC_INTERFACE': 'eth0', 'ECS_CONTAINER_METADATA_URI_V4': 'http://169.254.170.2/v4/3191a72d-e08b-4f4d-86d0-1ce1e85ebb99', 'SAGEMAKER_HTTP_PORT': '8080', 'SAGEMAKER_DATA_PATH': '/opt/ml', 'DMLC_ROLE': 'server', 'DMLC_PS_ROOT_URI': '10.2.190.141', 'DMLC_PS_ROOT_PORT': '9000', 'DMLC_NUM_SERVER': '1', 'DMLC_NUM_WORKER': '1'}\u001b[0m\n",
      "\u001b[34m[05/16/2021 11:55:40 INFO 139872936527680] Environment: {'ENVROOT': '/opt/amazon', 'PROTOCOL_BUFFERS_PYTHON_IMPLEMENTATION': 'cpp', 'HOSTNAME': 'ip-10-2-190-141.ec2.internal', 'TRAINING_JOB_NAME': 'pca-2021-05-16-11-52-20-920', 'NVIDIA_REQUIRE_CUDA': 'cuda>=9.0', 'TRAINING_JOB_ARN': 'arn:aws:sagemaker:us-east-1:061257208775:training-job/pca-2021-05-16-11-52-20-920', 'AWS_CONTAINER_CREDENTIALS_RELATIVE_URI': '/v2/credentials/bbd40ea8-1fa7-4628-8eaf-4eb08d09cffa', 'CANONICAL_ENVROOT': '/opt/amazon', 'PYTHONUNBUFFERED': 'TRUE', 'NVIDIA_VISIBLE_DEVICES': 'void', 'LD_LIBRARY_PATH': '/opt/amazon/lib/python3.7/site-packages/cv2/../../../../lib:/usr/local/nvidia/lib64:/opt/amazon/lib', 'NVIDIA_DRIVER_CAPABILITIES': 'compute,utility', 'AWS_EXECUTION_ENV': 'AWS_ECS_EC2', 'PATH': '/opt/amazon/bin:/usr/local/nvidia/bin:/usr/local/sbin:/usr/local/bin:/usr/sbin:/usr/bin:/sbin:/bin:/opt/amazon/bin:/opt/amazon/bin', 'PWD': '/', 'LANG': 'en_US.utf8', 'AWS_REGION': 'us-east-1', 'HOME': '/root', 'SHLVL': '1', 'PROTOCOL_BUFFERS_PYTHON_IMPLEMENTATION_VERSION': '2', 'OMP_NUM_THREADS': '2', 'ECS_CONTAINER_METADATA_URI': 'http://169.254.170.2/v3/3191a72d-e08b-4f4d-86d0-1ce1e85ebb99', 'DMLC_INTERFACE': 'eth0', 'ECS_CONTAINER_METADATA_URI_V4': 'http://169.254.170.2/v4/3191a72d-e08b-4f4d-86d0-1ce1e85ebb99', 'SAGEMAKER_HTTP_PORT': '8080', 'SAGEMAKER_DATA_PATH': '/opt/ml', 'DMLC_ROLE': 'worker', 'DMLC_PS_ROOT_URI': '10.2.190.141', 'DMLC_PS_ROOT_PORT': '9000', 'DMLC_NUM_SERVER': '1', 'DMLC_NUM_WORKER': '1'}\u001b[0m\n",
      "\u001b[34mProcess 34 is a shell:scheduler.\u001b[0m\n",
      "\u001b[34mProcess 43 is a shell:server.\u001b[0m\n",
      "\u001b[34mProcess 1 is a worker.\u001b[0m\n",
      "\u001b[34m[05/16/2021 11:55:40 INFO 139872936527680] Using default worker.\u001b[0m\n",
      "\u001b[34m[05/16/2021 11:55:40 INFO 139872936527680] Loaded iterator creator application/x-labeled-vector-protobuf for content type ('application/x-labeled-vector-protobuf', '1.0')\u001b[0m\n",
      "\u001b[34m[05/16/2021 11:55:40 INFO 139872936527680] Loaded iterator creator application/x-recordio-protobuf for content type ('application/x-recordio-protobuf', '1.0')\u001b[0m\n",
      "\u001b[34m[05/16/2021 11:55:40 INFO 139872936527680] Loaded iterator creator protobuf for content type ('protobuf', '1.0')\u001b[0m\n",
      "\u001b[34m[05/16/2021 11:55:40 INFO 139872936527680] Checkpoint loading and saving are disabled.\u001b[0m\n",
      "\u001b[34m[05/16/2021 11:55:40 INFO 139872936527680] Create Store: dist_sync\u001b[0m\n",
      "\u001b[34m[05/16/2021 11:55:41 INFO 139872936527680] nvidia-smi: took 0.029 seconds to run.\u001b[0m\n",
      "\u001b[34m[05/16/2021 11:55:41 INFO 139872936527680] nvidia-smi identified 0 GPUs.\u001b[0m\n",
      "\u001b[34m[05/16/2021 11:55:41 INFO 139872936527680] Number of GPUs being used: 0\u001b[0m\n",
      "\u001b[34m[05/16/2021 11:55:41 INFO 139872936527680] The default executor is <PCAExecutor on cpu(0)>.\u001b[0m\n",
      "\u001b[34m[05/16/2021 11:55:41 INFO 139872936527680] 34 feature(s) found in 'data'.\u001b[0m\n",
      "\u001b[34m[05/16/2021 11:55:41 INFO 139872936527680] <PCAExecutor on cpu(0)> is assigned to batch slice from 0 to 499.\u001b[0m\n",
      "\u001b[34m#metrics {\"StartTime\": 1621166140.3517475, \"EndTime\": 1621166141.1486742, \"Dimensions\": {\"Algorithm\": \"PCA\", \"Host\": \"algo-1\", \"Operation\": \"training\"}, \"Metrics\": {\"initialize.time\": {\"sum\": 760.80322265625, \"count\": 1, \"min\": 760.80322265625, \"max\": 760.80322265625}}}\n",
      "\u001b[0m\n",
      "\u001b[34m#metrics {\"StartTime\": 1621166141.1488686, \"EndTime\": 1621166141.1489124, \"Dimensions\": {\"Algorithm\": \"PCA\", \"Host\": \"algo-1\", \"Operation\": \"training\", \"Meta\": \"init_train_data_iter\"}, \"Metrics\": {\"Total Records Seen\": {\"sum\": 0.0, \"count\": 1, \"min\": 0, \"max\": 0}, \"Total Batches Seen\": {\"sum\": 0.0, \"count\": 1, \"min\": 0, \"max\": 0}, \"Max Records Seen Between Resets\": {\"sum\": 0.0, \"count\": 1, \"min\": 0, \"max\": 0}, \"Max Batches Seen Between Resets\": {\"sum\": 0.0, \"count\": 1, \"min\": 0, \"max\": 0}, \"Reset Count\": {\"sum\": 0.0, \"count\": 1, \"min\": 0, \"max\": 0}, \"Number of Records Since Last Reset\": {\"sum\": 0.0, \"count\": 1, \"min\": 0, \"max\": 0}, \"Number of Batches Since Last Reset\": {\"sum\": 0.0, \"count\": 1, \"min\": 0, \"max\": 0}}}\n",
      "\u001b[0m\n",
      "\u001b[34m[2021-05-16 11:55:41.149] [tensorio] [info] epoch_stats={\"data_pipeline\": \"/opt/ml/input/data/train\", \"epoch\": 0, \"duration\": 797, \"num_examples\": 1, \"num_bytes\": 82000}\u001b[0m\n",
      "\u001b[34m[2021-05-16 11:55:41.201] [tensorio] [info] epoch_stats={\"data_pipeline\": \"/opt/ml/input/data/train\", \"epoch\": 1, \"duration\": 43, \"num_examples\": 7, \"num_bytes\": 527752}\u001b[0m\n",
      "\u001b[34m#metrics {\"StartTime\": 1621166141.1488054, \"EndTime\": 1621166141.202244, \"Dimensions\": {\"Algorithm\": \"PCA\", \"Host\": \"algo-1\", \"Operation\": \"training\"}, \"Metrics\": {\"epochs\": {\"sum\": 1.0, \"count\": 1, \"min\": 1, \"max\": 1}, \"update.time\": {\"sum\": 52.892446517944336, \"count\": 1, \"min\": 52.892446517944336, \"max\": 52.892446517944336}}}\n",
      "\u001b[0m\n",
      "\u001b[34m[05/16/2021 11:55:41 INFO 139872936527680] #progress_metric: host=algo-1, completed 100.0 % of epochs\u001b[0m\n",
      "\u001b[34m#metrics {\"StartTime\": 1621166141.149317, \"EndTime\": 1621166141.2026322, \"Dimensions\": {\"Algorithm\": \"PCA\", \"Host\": \"algo-1\", \"Operation\": \"training\", \"epoch\": 0, \"Meta\": \"training_data_iter\"}, \"Metrics\": {\"Total Records Seen\": {\"sum\": 3218.0, \"count\": 1, \"min\": 3218, \"max\": 3218}, \"Total Batches Seen\": {\"sum\": 7.0, \"count\": 1, \"min\": 7, \"max\": 7}, \"Max Records Seen Between Resets\": {\"sum\": 3218.0, \"count\": 1, \"min\": 3218, \"max\": 3218}, \"Max Batches Seen Between Resets\": {\"sum\": 7.0, \"count\": 1, \"min\": 7, \"max\": 7}, \"Reset Count\": {\"sum\": 1.0, \"count\": 1, \"min\": 1, \"max\": 1}, \"Number of Records Since Last Reset\": {\"sum\": 3218.0, \"count\": 1, \"min\": 3218, \"max\": 3218}, \"Number of Batches Since Last Reset\": {\"sum\": 7.0, \"count\": 1, \"min\": 7, \"max\": 7}}}\n",
      "\u001b[0m\n",
      "\u001b[34m[05/16/2021 11:55:41 INFO 139872936527680] #throughput_metric: host=algo-1, train throughput=60188.22779831528 records/second\u001b[0m\n",
      "\u001b[34m#metrics {\"StartTime\": 1621166141.2023177, \"EndTime\": 1621166141.2292566, \"Dimensions\": {\"Algorithm\": \"PCA\", \"Host\": \"algo-1\", \"Operation\": \"training\"}, \"Metrics\": {\"finalize.time\": {\"sum\": 26.148080825805664, \"count\": 1, \"min\": 26.148080825805664, \"max\": 26.148080825805664}}}\n",
      "\u001b[0m\n",
      "\u001b[34m[05/16/2021 11:55:41 INFO 139872936527680] Test data is not provided.\u001b[0m\n",
      "\u001b[34m#metrics {\"StartTime\": 1621166141.229343, \"EndTime\": 1621166141.230895, \"Dimensions\": {\"Algorithm\": \"PCA\", \"Host\": \"algo-1\", \"Operation\": \"training\"}, \"Metrics\": {\"setuptime\": {\"sum\": 24.92070198059082, \"count\": 1, \"min\": 24.92070198059082, \"max\": 24.92070198059082}, \"totaltime\": {\"sum\": 1043.4308052062988, \"count\": 1, \"min\": 1043.4308052062988, \"max\": 1043.4308052062988}}}\n",
      "\u001b[0m\n",
      "Training seconds: 41\n",
      "Billable seconds: 41\n",
      "CPU times: user 495 ms, sys: 22.4 ms, total: 517 ms\n",
      "Wall time: 3min 42s\n"
     ]
    }
   ],
   "source": [
    "%%time\n",
    "\n",
    "# train the PCA mode on the formatted data\n",
    "pca_SM.fit(formatted_train_data)"
   ]
  },
  {
   "cell_type": "markdown",
   "metadata": {},
   "source": [
    "## Accessing the PCA Model Attributes\n",
    "\n",
    "After the model is trained, we can access the underlying model parameters.\n",
    "\n",
    "### Unzip the Model Details\n",
    "\n",
    "Now that the training job is complete, you can find the job under **Jobs** in the **Training**  subsection  in the Amazon SageMaker console. You can find the job name listed in the training jobs. Use that job name in the following code to specify which model to examine.\n",
    "\n",
    "Model artifacts are stored in S3 as a TAR file; a compressed file in the output path we specified + 'output/model.tar.gz'. The artifacts stored here can be used to deploy a trained model."
   ]
  },
  {
   "cell_type": "code",
   "execution_count": 39,
   "metadata": {},
   "outputs": [
    {
     "name": "stdout",
     "output_type": "stream",
     "text": [
      "counties/pca-2021-05-16-11-52-20-920/output/model.tar.gz\n"
     ]
    },
    {
     "data": {
      "text/plain": [
       "2304"
      ]
     },
     "execution_count": 39,
     "metadata": {},
     "output_type": "execute_result"
    }
   ],
   "source": [
    "# Get the name of the training job, it's suggested that you copy-paste\n",
    "# from the notebook or from a specific job in the AWS console\n",
    "\n",
    "training_job_name='pca-2021-05-16-11-52-20-920'\n",
    "\n",
    "# where the model is saved, by default\n",
    "model_key = os.path.join(prefix, training_job_name, 'output/model.tar.gz')\n",
    "print(model_key)\n",
    "\n",
    "# download and unzip model\n",
    "boto3.resource('s3').Bucket(bucket_name).download_file(model_key, 'model.tar.gz')\n",
    "\n",
    "# unzipping as model_algo-1\n",
    "os.system('tar -zxvf model.tar.gz')\n",
    "os.system('unzip model_algo-1')"
   ]
  },
  {
   "cell_type": "markdown",
   "metadata": {},
   "source": [
    "### MXNet Array\n",
    "\n",
    "Many of the Amazon SageMaker algorithms use MXNet for computational speed, including PCA, and so the model artifacts are stored as an array. After the model is unzipped and decompressed, we can load the array using MXNet.\n",
    "\n",
    "You can take a look at the MXNet [documentation, here](https://aws.amazon.com/mxnet/)."
   ]
  },
  {
   "cell_type": "code",
   "execution_count": 40,
   "metadata": {},
   "outputs": [
    {
     "name": "stdout",
     "output_type": "stream",
     "text": [
      "{'s': \n",
      "[1.7896362e-02 3.0864021e-02 3.2130770e-02 3.5486195e-02 9.4831578e-02\n",
      " 1.2699370e-01 4.0288666e-01 1.4084760e+00 1.5100485e+00 1.5957943e+00\n",
      " 1.7783760e+00 2.1662524e+00 2.2966361e+00 2.3856051e+00 2.6954880e+00\n",
      " 2.8067985e+00 3.0175958e+00 3.3952675e+00 3.5731301e+00 3.6966958e+00\n",
      " 4.1890211e+00 4.3457499e+00 4.5410376e+00 5.0189657e+00 5.5786467e+00\n",
      " 5.9809699e+00 6.3925138e+00 7.6952214e+00 7.9913125e+00 1.0180052e+01\n",
      " 1.1718245e+01 1.3035975e+01 1.9592180e+01]\n",
      "<NDArray 33 @cpu(0)>, 'v': \n",
      "[[ 2.46869749e-03  2.56468095e-02  2.50773830e-03 ... -7.63925165e-02\n",
      "   1.59879066e-02  5.04589686e-03]\n",
      " [-2.80601848e-02 -6.86634064e-01 -1.96283013e-02 ... -7.59587288e-02\n",
      "   1.57304872e-02  4.95312130e-03]\n",
      " [ 3.25766727e-02  7.17300594e-01  2.40726061e-02 ... -7.68136829e-02\n",
      "   1.62378680e-02  5.13597298e-03]\n",
      " ...\n",
      " [ 1.12151138e-01 -1.17030945e-02 -2.88011521e-01 ...  1.39890045e-01\n",
      "  -3.09406728e-01 -6.34506866e-02]\n",
      " [ 2.99992133e-02 -3.13433539e-03 -7.63589665e-02 ...  4.17341813e-02\n",
      "  -7.06735924e-02 -1.42857227e-02]\n",
      " [ 7.33537527e-05  3.01008171e-04 -8.00925500e-06 ...  6.97060227e-02\n",
      "   1.20169498e-01  2.33626723e-01]]\n",
      "<NDArray 34x33 @cpu(0)>, 'mean': \n",
      "[[0.00988273 0.00986636 0.00989863 0.11017046 0.7560245  0.10094159\n",
      "  0.0186819  0.02940491 0.0064698  0.01154038 0.31539047 0.1222766\n",
      "  0.3030056  0.08220861 0.256217   0.2964254  0.28914267 0.40191284\n",
      "  0.57868284 0.2854676  0.28294644 0.82774544 0.34378946 0.01576072\n",
      "  0.04649627 0.04115358 0.12442778 0.47014    0.00980645 0.7608103\n",
      "  0.19442631 0.21674445 0.0294168  0.22177474]]\n",
      "<NDArray 1x34 @cpu(0)>}\n"
     ]
    }
   ],
   "source": [
    "import mxnet as mx\n",
    "\n",
    "# loading the unzipped artifacts\n",
    "pca_model_params = mx.ndarray.load('model_algo-1')\n",
    "\n",
    "# what are the params\n",
    "print(pca_model_params)"
   ]
  },
  {
   "cell_type": "markdown",
   "metadata": {},
   "source": [
    "## PCA Model Attributes\n",
    "\n",
    "Three types of model attributes are contained within the PCA model.\n",
    "\n",
    "* **mean**: The mean that was subtracted from a component in order to center it.\n",
    "* **v**: The makeup of the principal components; (same as ‘components_’ in an sklearn PCA model).\n",
    "* **s**: The singular values of the components for the PCA transformation. This does not exactly give the % variance from the original feature space, but can give the % variance from the projected feature space.\n",
    "    \n",
    "We are only interested in v and s. \n",
    "\n",
    "From s, we can get an approximation of the data variance that is covered in the first `n` principal components. The approximate explained variance is given by the formula: the sum of squared s values for all top n components over the sum over squared s values for _all_ components:\n",
    "\n",
    "\\begin{equation*}\n",
    "\\frac{\\sum_{n}^{ } s_n^2}{\\sum s^2}\n",
    "\\end{equation*}\n",
    "\n",
    "From v, we can learn more about the combinations of original features that make up each principal component.\n"
   ]
  },
  {
   "cell_type": "code",
   "execution_count": 41,
   "metadata": {},
   "outputs": [],
   "source": [
    "# get selected params\n",
    "s=pd.DataFrame(pca_model_params['s'].asnumpy())\n",
    "v=pd.DataFrame(pca_model_params['v'].asnumpy())"
   ]
  },
  {
   "cell_type": "markdown",
   "metadata": {},
   "source": [
    "## Data Variance\n",
    "\n",
    "Our current PCA model creates 33 principal components, but when we create new dimensionality-reduced training data, we'll only select a few, top n components to use. To decide how many top components to include, it's helpful to look at how much **data variance** the components capture. For our original, high-dimensional data, 34 features captured 100% of our data variance. If we discard some of these higher dimensions, we will lower the amount of variance we can capture.\n",
    "\n",
    "### Tradeoff: dimensionality vs. data variance\n",
    "\n",
    "As an illustrative example, say we have original data in three dimensions. So, three dimensions capture 100% of our data variance; these dimensions cover the entire spread of our data. The below images are taken from the PhD thesis,  [“Approaches to analyse and interpret biological profile data”](https://publishup.uni-potsdam.de/opus4-ubp/frontdoor/index/index/docId/696) by Matthias Scholz, (2006, University of Potsdam, Germany).\n",
    "\n",
    "<img src='notebook_ims/3d_original_data.png' width=35% />\n",
    "\n",
    "Now, you may also note that most of this data seems related; it falls close to a 2D plane, and just by looking at the spread of the data, we  can visualize that the original, three dimensions have some correlation. So, we can instead choose to create two new dimensions, made up of linear combinations of the original, three dimensions. These dimensions are represented by the two axes/lines, centered in the data. \n",
    "\n",
    "<img src='notebook_ims/pca_2d_dim_reduction.png' width=70% />\n",
    "\n",
    "If we project this in a new, 2D space, we can see that we still capture most of the original data variance using *just* two dimensions. There is a tradeoff between the amount of variance we can capture and the number of component-dimensions we use to represent our data.\n",
    "\n",
    "When we select the top n components to use in a new data model, we'll typically want to include enough components to capture about 80-90% of the original data variance. In this project, we are looking at generalizing over a lot of data and we'll aim for about 80% coverage."
   ]
  },
  {
   "cell_type": "markdown",
   "metadata": {},
   "source": [
    "**Note**: The _top_ principal components, with the largest s values, are actually at the end of the s DataFrame. Let's print out the s values for the top n, principal components."
   ]
  },
  {
   "cell_type": "code",
   "execution_count": 42,
   "metadata": {},
   "outputs": [
    {
     "name": "stdout",
     "output_type": "stream",
     "text": [
      "            0\n",
      "28   7.991313\n",
      "29  10.180052\n",
      "30  11.718245\n",
      "31  13.035975\n",
      "32  19.592180\n"
     ]
    }
   ],
   "source": [
    "# looking at top 5 components\n",
    "n_principal_components = 5\n",
    "\n",
    "start_idx = N_COMPONENTS - n_principal_components  # 33-n\n",
    "\n",
    "# print a selection of s\n",
    "print(s.iloc[start_idx:, :])"
   ]
  },
  {
   "cell_type": "markdown",
   "metadata": {},
   "source": [
    "### EXERCISE: Calculate the explained variance\n",
    "\n",
    "In creating new training data, you'll want to choose the top n principal components that account for at least 80% data variance. \n",
    "\n",
    "Complete a function, `explained_variance` that takes in the entire array `s` and a number of top principal components to consider. Then return the approximate, explained variance for those top n components. \n",
    "\n",
    "For example, to calculate the explained variance for the top 5 components, calculate s squared for *each* of the top 5 components, add those up and normalize by the sum of *all* squared s values, according to this formula:\n",
    "\n",
    "\\begin{equation*}\n",
    "\\frac{\\sum_{5}^{ } s_n^2}{\\sum s^2}\n",
    "\\end{equation*}\n",
    "\n",
    "> Using this function, you should be able to answer the **question**: What is the smallest number of principal components that captures at least 80% of the total variance in the dataset?"
   ]
  },
  {
   "cell_type": "code",
   "execution_count": 43,
   "metadata": {},
   "outputs": [],
   "source": [
    "# Calculate the explained variance for the top n principal components\n",
    "# you may assume you have access to the global var N_COMPONENTS\n",
    "def explained_variance(s, n_top_components):\n",
    "    '''Calculates the approx. data variance that n_top_components captures.\n",
    "       :param s: A dataframe of singular values for top components; \n",
    "           the top value is in the last row.\n",
    "       :param n_top_components: An integer, the number of top components to use.\n",
    "       :return: The expected data variance covered by the n_top_components.'''\n",
    "    \n",
    "    start_idx = N_COMPONENTS - n_top_components  ## 33-3 = 30, for example\n",
    "    # calculate approx variance\n",
    "    exp_variance = np.square(s.iloc[start_idx:,:]).sum()/np.square(s).sum()\n",
    "    \n",
    "    return exp_variance[0]"
   ]
  },
  {
   "cell_type": "markdown",
   "metadata": {},
   "source": [
    "### Test Cell\n",
    "\n",
    "Test out your own code by seeing how it responds to different inputs; does it return a reasonable value for the single, top component? What about for the top 5 components?"
   ]
  },
  {
   "cell_type": "code",
   "execution_count": 51,
   "metadata": {},
   "outputs": [
    {
     "name": "stdout",
     "output_type": "stream",
     "text": [
      "Explained variance:  0.80167246\n"
     ]
    }
   ],
   "source": [
    "# test cell\n",
    "n_top_components = 7 # select a value for the number of top components\n",
    "\n",
    "# calculate the explained variance\n",
    "exp_variance = explained_variance(s, n_top_components)\n",
    "print('Explained variance: ', exp_variance)"
   ]
  },
  {
   "cell_type": "markdown",
   "metadata": {},
   "source": [
    "As an example, you should see that the top principal component accounts for about 32% of our data variance! Next, you may be wondering what makes up this (and other components); what linear combination of features make these components so influential in describing the spread of our data?\n",
    "\n",
    "Below, let's take a look at our original features and use that as a reference."
   ]
  },
  {
   "cell_type": "code",
   "execution_count": 45,
   "metadata": {},
   "outputs": [
    {
     "name": "stdout",
     "output_type": "stream",
     "text": [
      "Features: \n",
      " ['TotalPop' 'Men' 'Women' 'Hispanic' 'White' 'Black' 'Native' 'Asian'\n",
      " 'Pacific' 'Citizen' 'Income' 'IncomeErr' 'IncomePerCap' 'IncomePerCapErr'\n",
      " 'Poverty' 'ChildPoverty' 'Professional' 'Service' 'Office' 'Construction'\n",
      " 'Production' 'Drive' 'Carpool' 'Transit' 'Walk' 'OtherTransp'\n",
      " 'WorkAtHome' 'MeanCommute' 'Employed' 'PrivateWork' 'PublicWork'\n",
      " 'SelfEmployed' 'FamilyWork' 'Unemployment']\n"
     ]
    }
   ],
   "source": [
    "# features\n",
    "features_list = counties_scaled.columns.values\n",
    "print('Features: \\n', features_list)"
   ]
  },
  {
   "cell_type": "markdown",
   "metadata": {},
   "source": [
    "## Component Makeup\n",
    "\n",
    "We can now examine the makeup of each PCA component based on **the weightings of the original features that are included in the component**. The following code shows the feature-level makeup of the first component.\n",
    "\n",
    "Note that the components are again ordered from smallest to largest and so I am getting the correct rows by calling N_COMPONENTS-1 to get the top, 1, component."
   ]
  },
  {
   "cell_type": "code",
   "execution_count": 46,
   "metadata": {},
   "outputs": [],
   "source": [
    "import seaborn as sns\n",
    "\n",
    "def display_component(v, features_list, component_num, n_weights=10):\n",
    "    \n",
    "    # get index of component (last row - component_num)\n",
    "    row_idx = N_COMPONENTS-component_num\n",
    "\n",
    "    # get the list of weights from a row in v, dataframe\n",
    "    v_1_row = v.iloc[:, row_idx]\n",
    "    v_1 = np.squeeze(v_1_row.values)\n",
    "\n",
    "    # match weights to features in counties_scaled dataframe, using list comporehension\n",
    "    comps = pd.DataFrame(list(zip(v_1, features_list)), \n",
    "                         columns=['weights', 'features'])\n",
    "\n",
    "    # we'll want to sort by the largest n_weights\n",
    "    # weights can be neg/pos and we'll sort by magnitude\n",
    "    comps['abs_weights']=comps['weights'].apply(lambda x: np.abs(x))\n",
    "    sorted_weight_data = comps.sort_values('abs_weights', ascending=False).head(n_weights)\n",
    "\n",
    "    # display using seaborn\n",
    "    ax=plt.subplots(figsize=(10,6))\n",
    "    ax=sns.barplot(data=sorted_weight_data, \n",
    "                   x=\"weights\", \n",
    "                   y=\"features\", \n",
    "                   palette=\"Blues_d\")\n",
    "    ax.set_title(\"PCA Component Makeup, Component #\" + str(component_num))\n",
    "    plt.show()\n"
   ]
  },
  {
   "cell_type": "code",
   "execution_count": 54,
   "metadata": {},
   "outputs": [
    {
     "data": {
      "image/png": "[encoded data removed]",
      "text/plain": [
       "<Figure size 720x432 with 1 Axes>"
      ]
     },
     "metadata": {
      "needs_background": "light"
     },
     "output_type": "display_data"
    }
   ],
   "source": [
    "# display makeup of first component\n",
    "num=7\n",
    "display_component(v, counties_scaled.columns.values, component_num=num, n_weights=12)"
   ]
  },
  {
   "cell_type": "markdown",
   "metadata": {},
   "source": [
    "# Deploying the PCA Model\n",
    "\n",
    "We can now deploy this model and use it to make \"predictions\". Instead of seeing what happens with some test data, we'll actually want to pass our training data into the deployed endpoint to create principal components for each data point. \n",
    "\n",
    "Run the cell below to deploy/host this model on an instance_type that we specify."
   ]
  },
  {
   "cell_type": "code",
   "execution_count": 55,
   "metadata": {},
   "outputs": [
    {
     "name": "stderr",
     "output_type": "stream",
     "text": [
      "Defaulting to the only supported framework/algorithm version: 1. Ignoring framework/algorithm version: 1.\n"
     ]
    },
    {
     "name": "stdout",
     "output_type": "stream",
     "text": [
      "-------------------!CPU times: user 346 ms, sys: 18 ms, total: 364 ms\n",
      "Wall time: 9min 33s\n"
     ]
    }
   ],
   "source": [
    "%%time\n",
    "# this takes a little while, around 7mins\n",
    "pca_predictor = pca_SM.deploy(initial_instance_count=1, \n",
    "                              instance_type='ml.t2.medium')"
   ]
  },
  {
   "cell_type": "markdown",
   "metadata": {},
   "source": [
    "We can pass the original, numpy dataset to the model and transform the data using the model we created. Then we can take the largest n components to reduce the dimensionality of our data."
   ]
  },
  {
   "cell_type": "code",
   "execution_count": 56,
   "metadata": {},
   "outputs": [],
   "source": [
    "# pass np train data to the PCA model\n",
    "train_pca = pca_predictor.predict(train_data_np)"
   ]
  },
  {
   "cell_type": "code",
   "execution_count": 57,
   "metadata": {},
   "outputs": [
    {
     "name": "stdout",
     "output_type": "stream",
     "text": [
      "label {\n",
      "  key: \"projection\"\n",
      "  value {\n",
      "    float32_tensor {\n",
      "      values: 0.0002009272575378418\n",
      "      values: 0.0002455431967973709\n",
      "      values: -0.0005782842636108398\n",
      "      values: -0.0007815659046173096\n",
      "      values: -0.00041911262087523937\n",
      "      values: -0.0005133943632245064\n",
      "      values: -0.0011316537857055664\n",
      "      values: 0.0017268601804971695\n",
      "      values: -0.005361668765544891\n",
      "      values: -0.009066537022590637\n",
      "      values: -0.008141040802001953\n",
      "      values: -0.004735097289085388\n",
      "      values: -0.00716288760304451\n",
      "      values: 0.0003725700080394745\n",
      "      values: -0.01208949089050293\n",
      "      values: 0.02134685218334198\n",
      "      values: 0.0009293854236602783\n",
      "      values: 0.002417147159576416\n",
      "      values: -0.0034637749195098877\n",
      "      values: 0.01794189214706421\n",
      "      values: -0.01639425754547119\n",
      "      values: 0.06260128319263458\n",
      "      values: 0.06637358665466309\n",
      "      values: 0.002479255199432373\n",
      "      values: 0.10011336207389832\n",
      "      values: -0.1136140376329422\n",
      "      values: 0.02589476853609085\n",
      "      values: 0.04045158624649048\n",
      "      values: -0.01082391943782568\n",
      "      values: 0.1204797774553299\n",
      "      values: -0.0883558839559555\n",
      "      values: 0.16052711009979248\n",
      "      values: -0.06027412414550781\n",
      "    }\n",
      "  }\n",
      "}\n",
      "\n"
     ]
    }
   ],
   "source": [
    "# check out the first item in the produced training features\n",
    "data_idx = 0\n",
    "print(train_pca[data_idx])"
   ]
  },
  {
   "cell_type": "markdown",
   "metadata": {
    "collapsed": true
   },
   "source": [
    "### EXERCISE: Create a transformed DataFrame\n",
    "\n",
    "For each of our data points, get the top n component values from the list of component data points, returned by our predictor above, and put those into a new DataFrame.\n",
    "\n",
    "You should end up with a DataFrame that looks something like the following:\n",
    "```\n",
    "                     c_1\t     c_2\t       c_3\t       c_4\t      c_5\t   ...\n",
    "Alabama-Autauga\t-0.060274\t0.160527\t-0.088356\t 0.120480\t-0.010824\t...\n",
    "Alabama-Baldwin\t-0.149684\t0.185969\t-0.145743\t-0.023092\t-0.068677\t...\n",
    "Alabama-Barbour\t0.506202\t 0.296662\t 0.146258\t 0.297829\t0.093111\t...\n",
    "...\n",
    "```"
   ]
  },
  {
   "cell_type": "code",
   "execution_count": 58,
   "metadata": {},
   "outputs": [],
   "source": [
    "# create dimensionality-reduced data\n",
    "def create_transformed_df(train_pca, counties_scaled, n_top_components):\n",
    "    ''' Return a dataframe of data points with component features. \n",
    "        The dataframe should be indexed by State-County and contain component values.\n",
    "        :param train_pca: A list of pca training data, returned by a PCA model.\n",
    "        :param counties_scaled: A dataframe of normalized, original features.\n",
    "        :param n_top_components: An integer, the number of top components to use.\n",
    "        :return: A dataframe, indexed by State-County, with n_top_component values as columns.        \n",
    "     '''\n",
    "    # create new dataframe to add data to\n",
    "    counties_transformed=pd.DataFrame()\n",
    "\n",
    "    # for each of our new, transformed data points\n",
    "    # append the component values to the dataframe\n",
    "    for data in train_pca:\n",
    "        # get component values for each data point\n",
    "        components=data.label['projection'].float32_tensor.values\n",
    "        counties_transformed=counties_transformed.append([list(components)])\n",
    "\n",
    "    # index by county, just like counties_scaled\n",
    "    counties_transformed.index=counties_scaled.index\n",
    "\n",
    "    # keep only the top n components\n",
    "    start_idx = N_COMPONENTS - n_top_components\n",
    "    counties_transformed = counties_transformed.iloc[:,start_idx:]\n",
    "    \n",
    "    # reverse columns, component order     \n",
    "    return counties_transformed.iloc[:, ::-1]\n",
    "    "
   ]
  },
  {
   "cell_type": "markdown",
   "metadata": {},
   "source": [
    "Now we can create a dataset where each county is described by the top n principle components that we analyzed earlier. Each of these components is a linear combination of the original feature space. We can interpret each of these components by analyzing the makeup of the component, shown previously.\n",
    "\n",
    "### Define the `top_n` components to use in this transformed data\n",
    "\n",
    "Your code should return data, indexed by 'State-County' and with as many columns as `top_n` components.\n",
    "\n",
    "You can also choose to add descriptive column names for this data; names that correspond to the component number or feature-level makeup."
   ]
  },
  {
   "cell_type": "code",
   "execution_count": 59,
   "metadata": {},
   "outputs": [
    {
     "data": {
      "text/html": [
       "<div>\n",
       "<style scoped>\n",
       "    .dataframe tbody tr th:only-of-type {\n",
       "        vertical-align: middle;\n",
       "    }\n",
       "\n",
       "    .dataframe tbody tr th {\n",
       "        vertical-align: top;\n",
       "    }\n",
       "\n",
       "    .dataframe thead th {\n",
       "        text-align: right;\n",
       "    }\n",
       "</style>\n",
       "<table border=\"1\" class=\"dataframe\">\n",
       "  <thead>\n",
       "    <tr style=\"text-align: right;\">\n",
       "      <th></th>\n",
       "      <th>c_1</th>\n",
       "      <th>c_2</th>\n",
       "      <th>c_3</th>\n",
       "      <th>c_4</th>\n",
       "      <th>c_5</th>\n",
       "      <th>c_6</th>\n",
       "      <th>c_7</th>\n",
       "    </tr>\n",
       "  </thead>\n",
       "  <tbody>\n",
       "    <tr>\n",
       "      <th>Alabama-Autauga</th>\n",
       "      <td>-0.060274</td>\n",
       "      <td>0.160527</td>\n",
       "      <td>-0.088356</td>\n",
       "      <td>0.120480</td>\n",
       "      <td>-0.010824</td>\n",
       "      <td>0.040452</td>\n",
       "      <td>0.025895</td>\n",
       "    </tr>\n",
       "    <tr>\n",
       "      <th>Alabama-Baldwin</th>\n",
       "      <td>-0.149684</td>\n",
       "      <td>0.185969</td>\n",
       "      <td>-0.145743</td>\n",
       "      <td>-0.023092</td>\n",
       "      <td>-0.068677</td>\n",
       "      <td>0.051573</td>\n",
       "      <td>0.048137</td>\n",
       "    </tr>\n",
       "    <tr>\n",
       "      <th>Alabama-Barbour</th>\n",
       "      <td>0.506202</td>\n",
       "      <td>0.296662</td>\n",
       "      <td>0.146258</td>\n",
       "      <td>0.297829</td>\n",
       "      <td>0.093111</td>\n",
       "      <td>-0.065244</td>\n",
       "      <td>0.107730</td>\n",
       "    </tr>\n",
       "    <tr>\n",
       "      <th>Alabama-Bibb</th>\n",
       "      <td>0.069224</td>\n",
       "      <td>0.190861</td>\n",
       "      <td>0.224402</td>\n",
       "      <td>0.011757</td>\n",
       "      <td>0.283526</td>\n",
       "      <td>0.017874</td>\n",
       "      <td>-0.092053</td>\n",
       "    </tr>\n",
       "    <tr>\n",
       "      <th>Alabama-Blount</th>\n",
       "      <td>-0.091030</td>\n",
       "      <td>0.254403</td>\n",
       "      <td>0.022714</td>\n",
       "      <td>-0.193824</td>\n",
       "      <td>0.100738</td>\n",
       "      <td>0.209945</td>\n",
       "      <td>-0.005099</td>\n",
       "    </tr>\n",
       "  </tbody>\n",
       "</table>\n",
       "</div>"
      ],
      "text/plain": [
       "                      c_1       c_2       c_3       c_4       c_5       c_6  \\\n",
       "Alabama-Autauga -0.060274  0.160527 -0.088356  0.120480 -0.010824  0.040452   \n",
       "Alabama-Baldwin -0.149684  0.185969 -0.145743 -0.023092 -0.068677  0.051573   \n",
       "Alabama-Barbour  0.506202  0.296662  0.146258  0.297829  0.093111 -0.065244   \n",
       "Alabama-Bibb     0.069224  0.190861  0.224402  0.011757  0.283526  0.017874   \n",
       "Alabama-Blount  -0.091030  0.254403  0.022714 -0.193824  0.100738  0.209945   \n",
       "\n",
       "                      c_7  \n",
       "Alabama-Autauga  0.025895  \n",
       "Alabama-Baldwin  0.048137  \n",
       "Alabama-Barbour  0.107730  \n",
       "Alabama-Bibb    -0.092053  \n",
       "Alabama-Blount  -0.005099  "
      ]
     },
     "execution_count": 59,
     "metadata": {},
     "output_type": "execute_result"
    }
   ],
   "source": [
    "## Specify top n\n",
    "top_n = 7\n",
    "\n",
    "# call your function and create a new dataframe\n",
    "counties_transformed = create_transformed_df(train_pca, counties_scaled, n_top_components=top_n)\n",
    "\n",
    "# add descriptive columns\n",
    "PCA_list=['c_1', 'c_2', 'c_3', 'c_4', 'c_5', 'c_6', 'c_7']\n",
    "counties_transformed.columns=PCA_list \n",
    "\n",
    "\n",
    "# print result\n",
    "counties_transformed.head()"
   ]
  },
  {
   "cell_type": "markdown",
   "metadata": {
    "collapsed": true
   },
   "source": [
    "### Delete the Endpoint!\n",
    "\n",
    "Now that we've deployed the mode and created our new, transformed training data, we no longer need the PCA endpoint.\n",
    "\n",
    "As a clean up step, you should always delete your endpoints after you are done using them (and if you do not plan to deploy them to a website, for example)."
   ]
  },
  {
   "cell_type": "code",
   "execution_count": null,
   "metadata": {
    "collapsed": true
   },
   "outputs": [],
   "source": [
    "# delete predictor endpoint\n",
    "session.delete_endpoint(pca_predictor.endpoint)"
   ]
  },
  {
   "cell_type": "markdown",
   "metadata": {},
   "source": [
    "---\n",
    "# Population Segmentation \n",
    "\n",
    "Now, you’ll use the unsupervised clustering algorithm, k-means, to segment counties using their PCA attributes, which are in the transformed DataFrame we just created. K-means is a clustering algorithm that identifies clusters of similar data points based on their component makeup. Since we have ~3000 counties and 34 attributes in the original dataset, the large feature space may have made it difficult to cluster the counties effectively. Instead, we have reduced the feature space to 7 PCA components, and we’ll cluster on this transformed dataset."
   ]
  },
  {
   "cell_type": "markdown",
   "metadata": {},
   "source": [
    "### EXERCISE: Define a k-means model\n",
    "\n",
    "Your task will be to instantiate a k-means model. A `KMeans` estimator requires a number of parameters to be instantiated, which allow us to specify the type of training instance to use, and the model hyperparameters. \n",
    "\n",
    "You can read about the required parameters, in the [`KMeans` documentation](https://sagemaker.readthedocs.io/en/stable/kmeans.html); note that not all of the possible parameters are required.\n"
   ]
  },
  {
   "cell_type": "markdown",
   "metadata": {},
   "source": [
    "### Choosing a \"Good\" K\n",
    "\n",
    "One method for choosing a \"good\" k, is to choose based on empirical data. A bad k would be one so *high* that only one or two very close data points are near it, and another bad k would be one so *low* that data points are really far away from the centers.\n",
    "\n",
    "You want to select a k such that data points in a single cluster are close together but that there are enough clusters to effectively separate the data. You can approximate this separation by measuring how close your data points are to each cluster center; the average centroid distance between cluster points and a centroid. After trying several values for k, the centroid distance typically reaches some \"elbow\"; it stops decreasing at a sharp rate and this indicates a good value of k. The graph below indicates the average centroid distance for value of k between 5 and 12.\n",
    "\n",
    "<img src='notebook_ims/elbow_graph.png' width=50% />\n",
    "\n",
    "A distance elbow can be seen around 8 when the distance starts to increase and then decrease at a slower rate. This indicates that there is enough separation to distinguish the data points in each cluster, but also that you included enough clusters so that the data points aren’t *extremely* far away from each cluster."
   ]
  },
  {
   "cell_type": "code",
   "execution_count": 60,
   "metadata": {},
   "outputs": [
    {
     "name": "stderr",
     "output_type": "stream",
     "text": [
      "train_instance_count has been renamed in sagemaker>=2.\n",
      "See: https://sagemaker.readthedocs.io/en/stable/v2.html for details.\n",
      "train_instance_type has been renamed in sagemaker>=2.\n",
      "See: https://sagemaker.readthedocs.io/en/stable/v2.html for details.\n"
     ]
    }
   ],
   "source": [
    "# define a KMeans estimator\n",
    "from sagemaker import KMeans\n",
    "\n",
    "NUM_CLUSTERS = 8\n",
    "\n",
    "kmeans = KMeans(role=role,\n",
    "                train_instance_count=1,\n",
    "                train_instance_type='ml.c4.xlarge',\n",
    "                output_path=output_path, # using the same output path as was defined, earlier              \n",
    "                k=NUM_CLUSTERS)\n"
   ]
  },
  {
   "cell_type": "markdown",
   "metadata": {},
   "source": [
    "### EXERCISE: Create formatted, k-means training data\n",
    "\n",
    "Just as before, you should convert the `counties_transformed` df into a numpy array and then into a RecordSet. This is the required format for passing training data into a `KMeans` model."
   ]
  },
  {
   "cell_type": "code",
   "execution_count": 61,
   "metadata": {},
   "outputs": [],
   "source": [
    "# convert the transformed dataframe into record_set data\n",
    "kmeans_train_data_np = counties_transformed.values.astype('float32')\n",
    "kmeans_formatted_data = kmeans.record_set(kmeans_train_data_np)\n"
   ]
  },
  {
   "cell_type": "markdown",
   "metadata": {},
   "source": [
    "### EXERCISE: Train the k-means model\n",
    "\n",
    "Pass in the formatted training data and train the k-means model."
   ]
  },
  {
   "cell_type": "code",
   "execution_count": 62,
   "metadata": {},
   "outputs": [
    {
     "name": "stderr",
     "output_type": "stream",
     "text": [
      "Defaulting to the only supported framework/algorithm version: 1. Ignoring framework/algorithm version: 1.\n",
      "Defaulting to the only supported framework/algorithm version: 1. Ignoring framework/algorithm version: 1.\n"
     ]
    },
    {
     "name": "stdout",
     "output_type": "stream",
     "text": [
      "2021-05-16 12:23:57 Starting - Starting the training job...\n",
      "2021-05-16 12:24:21 Starting - Launching requested ML instancesProfilerReport-1621167837: InProgress\n",
      ".........\n",
      "2021-05-16 12:25:41 Starting - Preparing the instances for training......\n",
      "2021-05-16 12:26:41 Downloading - Downloading input data...\n",
      "2021-05-16 12:27:22 Training - Downloading the training image...\n",
      "2021-05-16 12:27:57 Uploading - Uploading generated training model\n",
      "2021-05-16 12:27:57 Completed - Training job completed\n",
      "\u001b[34mDocker entrypoint called with argument(s): train\u001b[0m\n",
      "\u001b[34mRunning default environment configuration script\u001b[0m\n",
      "\u001b[34m[05/16/2021 12:27:46 INFO 140141566281536] Reading default configuration from /opt/amazon/lib/python3.7/site-packages/algorithm/resources/default-input.json: {'init_method': 'random', 'mini_batch_size': '5000', 'epochs': '1', 'extra_center_factor': 'auto', 'local_lloyd_max_iter': '300', 'local_lloyd_tol': '0.0001', 'local_lloyd_init_method': 'kmeans++', 'local_lloyd_num_trials': 'auto', 'half_life_time_size': '0', 'eval_metrics': '[\"msd\"]', 'force_dense': 'true', '_disable_wait_to_read': 'false', '_enable_profiler': 'false', '_kvstore': 'auto', '_log_level': 'info', '_num_gpus': 'auto', '_num_kv_servers': '1', '_num_slices': '1', '_tuning_objective_metric': ''}\u001b[0m\n",
      "\u001b[34m[05/16/2021 12:27:46 INFO 140141566281536] Merging with provided configuration from /opt/ml/input/config/hyperparameters.json: {'feature_dim': '7', 'k': '8', 'force_dense': 'True'}\u001b[0m\n",
      "\u001b[34m[05/16/2021 12:27:46 INFO 140141566281536] Final configuration: {'init_method': 'random', 'mini_batch_size': '5000', 'epochs': '1', 'extra_center_factor': 'auto', 'local_lloyd_max_iter': '300', 'local_lloyd_tol': '0.0001', 'local_lloyd_init_method': 'kmeans++', 'local_lloyd_num_trials': 'auto', 'half_life_time_size': '0', 'eval_metrics': '[\"msd\"]', 'force_dense': 'True', '_disable_wait_to_read': 'false', '_enable_profiler': 'false', '_kvstore': 'auto', '_log_level': 'info', '_num_gpus': 'auto', '_num_kv_servers': '1', '_num_slices': '1', '_tuning_objective_metric': '', 'feature_dim': '7', 'k': '8'}\u001b[0m\n",
      "\u001b[34m[05/16/2021 12:27:46 WARNING 140141566281536] Loggers have already been setup.\u001b[0m\n",
      "\u001b[34mProcess 1 is a worker.\u001b[0m\n",
      "\u001b[34m[05/16/2021 12:27:46 INFO 140141566281536] Using default worker.\u001b[0m\n",
      "\u001b[34m[05/16/2021 12:27:46 INFO 140141566281536] Loaded iterator creator application/x-recordio-protobuf for content type ('application/x-recordio-protobuf', '1.0')\u001b[0m\n",
      "\u001b[34m[05/16/2021 12:27:46 INFO 140141566281536] Create Store: local\u001b[0m\n",
      "\u001b[34m[05/16/2021 12:27:47 INFO 140141566281536] nvidia-smi: took 0.030 seconds to run.\u001b[0m\n",
      "\u001b[34m[05/16/2021 12:27:47 INFO 140141566281536] nvidia-smi identified 0 GPUs.\u001b[0m\n",
      "\u001b[34m[05/16/2021 12:27:47 INFO 140141566281536] Number of GPUs being used: 0\u001b[0m\n",
      "\u001b[34m[05/16/2021 12:27:47 INFO 140141566281536] Checkpoint loading and saving are disabled.\u001b[0m\n",
      "\u001b[34m[05/16/2021 12:27:47 INFO 140141566281536] Setting up with params: {'init_method': 'random', 'mini_batch_size': '5000', 'epochs': '1', 'extra_center_factor': 'auto', 'local_lloyd_max_iter': '300', 'local_lloyd_tol': '0.0001', 'local_lloyd_init_method': 'kmeans++', 'local_lloyd_num_trials': 'auto', 'half_life_time_size': '0', 'eval_metrics': '[\"msd\"]', 'force_dense': 'True', '_disable_wait_to_read': 'false', '_enable_profiler': 'false', '_kvstore': 'auto', '_log_level': 'info', '_num_gpus': 'auto', '_num_kv_servers': '1', '_num_slices': '1', '_tuning_objective_metric': '', 'feature_dim': '7', 'k': '8'}\u001b[0m\n",
      "\u001b[34m[05/16/2021 12:27:47 INFO 140141566281536] 'extra_center_factor' was set to 'auto', evaluated to 10.\u001b[0m\n",
      "\u001b[34m[05/16/2021 12:27:47 INFO 140141566281536] Number of GPUs being used: 0\u001b[0m\n",
      "\u001b[34m[05/16/2021 12:27:47 INFO 140141566281536] number of center slices 1\u001b[0m\n",
      "\u001b[34m[05/16/2021 12:27:47 WARNING 140141566281536] Batch size 5000 is bigger than the first batch data. Effective batch size used to initialize is 3218\u001b[0m\n",
      "\u001b[34m#metrics {\"StartTime\": 1621168067.054921, \"EndTime\": 1621168067.0549648, \"Dimensions\": {\"Algorithm\": \"AWS/KMeansWebscale\", \"Host\": \"algo-1\", \"Operation\": \"training\", \"Meta\": \"init_train_data_iter\"}, \"Metrics\": {\"Total Records Seen\": {\"sum\": 3218.0, \"count\": 1, \"min\": 3218, \"max\": 3218}, \"Total Batches Seen\": {\"sum\": 1.0, \"count\": 1, \"min\": 1, \"max\": 1}, \"Max Records Seen Between Resets\": {\"sum\": 3218.0, \"count\": 1, \"min\": 3218, \"max\": 3218}, \"Max Batches Seen Between Resets\": {\"sum\": 1.0, \"count\": 1, \"min\": 1, \"max\": 1}, \"Reset Count\": {\"sum\": 0.0, \"count\": 1, \"min\": 0, \"max\": 0}, \"Number of Records Since Last Reset\": {\"sum\": 3218.0, \"count\": 1, \"min\": 3218, \"max\": 3218}, \"Number of Batches Since Last Reset\": {\"sum\": 1.0, \"count\": 1, \"min\": 1, \"max\": 1}}}\n",
      "\u001b[0m\n",
      "\u001b[34m[2021-05-16 12:27:47.055] [tensorio] [info] epoch_stats={\"data_pipeline\": \"/opt/ml/input/data/train\", \"epoch\": 0, \"duration\": 37, \"num_examples\": 1, \"num_bytes\": 167336}\u001b[0m\n",
      "\u001b[34m[2021-05-16 12:27:47.113] [tensorio] [info] epoch_stats={\"data_pipeline\": \"/opt/ml/input/data/train\", \"epoch\": 1, \"duration\": 56, \"num_examples\": 1, \"num_bytes\": 167336}\u001b[0m\n",
      "\u001b[34m[05/16/2021 12:27:47 INFO 140141566281536] processed a total of 3218 examples\u001b[0m\n",
      "\u001b[34m[05/16/2021 12:27:47 INFO 140141566281536] #progress_metric: host=algo-1, completed 100.0 % of epochs\u001b[0m\n",
      "\u001b[34m#metrics {\"StartTime\": 1621168067.0554194, \"EndTime\": 1621168067.1145475, \"Dimensions\": {\"Algorithm\": \"AWS/KMeansWebscale\", \"Host\": \"algo-1\", \"Operation\": \"training\", \"epoch\": 0, \"Meta\": \"training_data_iter\"}, \"Metrics\": {\"Total Records Seen\": {\"sum\": 6436.0, \"count\": 1, \"min\": 6436, \"max\": 6436}, \"Total Batches Seen\": {\"sum\": 2.0, \"count\": 1, \"min\": 2, \"max\": 2}, \"Max Records Seen Between Resets\": {\"sum\": 3218.0, \"count\": 1, \"min\": 3218, \"max\": 3218}, \"Max Batches Seen Between Resets\": {\"sum\": 1.0, \"count\": 1, \"min\": 1, \"max\": 1}, \"Reset Count\": {\"sum\": 1.0, \"count\": 1, \"min\": 1, \"max\": 1}, \"Number of Records Since Last Reset\": {\"sum\": 3218.0, \"count\": 1, \"min\": 3218, \"max\": 3218}, \"Number of Batches Since Last Reset\": {\"sum\": 1.0, \"count\": 1, \"min\": 1, \"max\": 1}}}\n",
      "\u001b[0m\n",
      "\u001b[34m[05/16/2021 12:27:47 INFO 140141566281536] #throughput_metric: host=algo-1, train throughput=54276.96611628075 records/second\u001b[0m\n",
      "\u001b[34m[05/16/2021 12:27:47 WARNING 140141566281536] wait_for_all_workers will not sync workers since the kv store is not running distributed\u001b[0m\n",
      "\u001b[34m[05/16/2021 12:27:47 INFO 140141566281536] shrinking 80 centers into 8\u001b[0m\n",
      "\u001b[34m[05/16/2021 12:27:47 INFO 140141566281536] local kmeans attempt #0. Current mean square distance 0.069973\u001b[0m\n",
      "\u001b[34m[05/16/2021 12:27:47 INFO 140141566281536] local kmeans attempt #1. Current mean square distance 0.066166\u001b[0m\n",
      "\u001b[34m[05/16/2021 12:27:47 INFO 140141566281536] local kmeans attempt #2. Current mean square distance 0.065614\u001b[0m\n",
      "\u001b[34m[05/16/2021 12:27:47 INFO 140141566281536] local kmeans attempt #3. Current mean square distance 0.071123\u001b[0m\n",
      "\u001b[34m[05/16/2021 12:27:47 INFO 140141566281536] local kmeans attempt #4. Current mean square distance 0.066850\u001b[0m\n",
      "\u001b[34m[05/16/2021 12:27:47 INFO 140141566281536] local kmeans attempt #5. Current mean square distance 0.066086\u001b[0m\n",
      "\u001b[34m[05/16/2021 12:27:47 INFO 140141566281536] local kmeans attempt #6. Current mean square distance 0.068548\u001b[0m\n",
      "\u001b[34m[05/16/2021 12:27:47 INFO 140141566281536] local kmeans attempt #7. Current mean square distance 0.064049\u001b[0m\n",
      "\u001b[34m[05/16/2021 12:27:47 INFO 140141566281536] local kmeans attempt #8. Current mean square distance 0.076572\u001b[0m\n",
      "\u001b[34m[05/16/2021 12:27:47 INFO 140141566281536] local kmeans attempt #9. Current mean square distance 0.068465\u001b[0m\n",
      "\u001b[34m[05/16/2021 12:27:47 INFO 140141566281536] finished shrinking process. Mean Square Distance = 0\u001b[0m\n",
      "\u001b[34m[05/16/2021 12:27:47 INFO 140141566281536] #quality_metric: host=algo-1, train msd <loss>=0.06404909491539001\u001b[0m\n",
      "\u001b[34m[05/16/2021 12:27:47 INFO 140141566281536] compute all data-center distances: inner product took: 40.6378%, (0.026449 secs)\u001b[0m\n",
      "\u001b[34m[05/16/2021 12:27:47 INFO 140141566281536] collect from kv store took: 10.7463%, (0.006994 secs)\u001b[0m\n",
      "\u001b[34m[05/16/2021 12:27:47 INFO 140141566281536] splitting centers key-value pair took: 10.5613%, (0.006874 secs)\u001b[0m\n",
      "\u001b[34m[05/16/2021 12:27:47 INFO 140141566281536] compute all data-center distances: point norm took: 8.8301%, (0.005747 secs)\u001b[0m\n",
      "\u001b[34m[05/16/2021 12:27:47 INFO 140141566281536] batch data loading with context took: 8.2019%, (0.005338 secs)\u001b[0m\n",
      "\u001b[34m[05/16/2021 12:27:47 INFO 140141566281536] predict compute msd took: 6.9241%, (0.004507 secs)\u001b[0m\n",
      "\u001b[34m[05/16/2021 12:27:47 INFO 140141566281536] gradient: one_hot took: 6.7758%, (0.004410 secs)\u001b[0m\n",
      "\u001b[34m[05/16/2021 12:27:47 INFO 140141566281536] update state and report convergance took: 2.9137%, (0.001896 secs)\u001b[0m\n",
      "\u001b[34m[05/16/2021 12:27:47 INFO 140141566281536] gradient: cluster size  took: 1.9935%, (0.001297 secs)\u001b[0m\n",
      "\u001b[34m[05/16/2021 12:27:47 INFO 140141566281536] gradient: cluster center took: 1.8488%, (0.001203 secs)\u001b[0m\n",
      "\u001b[34m[05/16/2021 12:27:47 INFO 140141566281536] update set-up time took: 0.3341%, (0.000217 secs)\u001b[0m\n",
      "\u001b[34m[05/16/2021 12:27:47 INFO 140141566281536] compute all data-center distances: center norm took: 0.2029%, (0.000132 secs)\u001b[0m\n",
      "\u001b[34m[05/16/2021 12:27:47 INFO 140141566281536] predict minus dist took: 0.0297%, (0.000019 secs)\u001b[0m\n",
      "\u001b[34m[05/16/2021 12:27:47 INFO 140141566281536] TOTAL took: 0.06508517265319824\u001b[0m\n",
      "\u001b[34m[05/16/2021 12:27:47 INFO 140141566281536] Number of GPUs being used: 0\u001b[0m\n",
      "\u001b[34m#metrics {\"StartTime\": 1621168067.0175502, \"EndTime\": 1621168067.4292173, \"Dimensions\": {\"Algorithm\": \"AWS/KMeansWebscale\", \"Host\": \"algo-1\", \"Operation\": \"training\"}, \"Metrics\": {\"initialize.time\": {\"sum\": 29.725313186645508, \"count\": 1, \"min\": 29.725313186645508, \"max\": 29.725313186645508}, \"epochs\": {\"sum\": 1.0, \"count\": 1, \"min\": 1, \"max\": 1}, \"update.time\": {\"sum\": 58.919429779052734, \"count\": 1, \"min\": 58.919429779052734, \"max\": 58.919429779052734}, \"_shrink.time\": {\"sum\": 310.76788902282715, \"count\": 1, \"min\": 310.76788902282715, \"max\": 310.76788902282715}, \"finalize.time\": {\"sum\": 312.53957748413086, \"count\": 1, \"min\": 312.53957748413086, \"max\": 312.53957748413086}, \"model.serialize.time\": {\"sum\": 1.7006397247314453, \"count\": 1, \"min\": 1.7006397247314453, \"max\": 1.7006397247314453}}}\n",
      "\u001b[0m\n",
      "\u001b[34m[05/16/2021 12:27:47 INFO 140141566281536] Test data is not provided.\u001b[0m\n",
      "\u001b[34m#metrics {\"StartTime\": 1621168067.4293017, \"EndTime\": 1621168067.4295528, \"Dimensions\": {\"Algorithm\": \"AWS/KMeansWebscale\", \"Host\": \"algo-1\", \"Operation\": \"training\"}, \"Metrics\": {\"setuptime\": {\"sum\": 11.597871780395508, \"count\": 1, \"min\": 11.597871780395508, \"max\": 11.597871780395508}, \"totaltime\": {\"sum\": 476.8693447113037, \"count\": 1, \"min\": 476.8693447113037, \"max\": 476.8693447113037}}}\n",
      "\u001b[0m\n",
      "Training seconds: 85\n",
      "Billable seconds: 85\n",
      "CPU times: user 548 ms, sys: 26.7 ms, total: 574 ms\n",
      "Wall time: 4min 12s\n"
     ]
    }
   ],
   "source": [
    "%%time\n",
    "# train kmeans\n",
    "# train kmeans\n",
    "kmeans.fit(kmeans_formatted_data)"
   ]
  },
  {
   "cell_type": "markdown",
   "metadata": {},
   "source": [
    "### EXERCISE: Deploy the k-means model\n",
    "\n",
    "Deploy the trained model to create a `kmeans_predictor`.\n"
   ]
  },
  {
   "cell_type": "code",
   "execution_count": 64,
   "metadata": {},
   "outputs": [
    {
     "name": "stderr",
     "output_type": "stream",
     "text": [
      "Defaulting to the only supported framework/algorithm version: 1. Ignoring framework/algorithm version: 1.\n"
     ]
    },
    {
     "name": "stdout",
     "output_type": "stream",
     "text": [
      "-------------------!CPU times: user 356 ms, sys: 5.59 ms, total: 361 ms\n",
      "Wall time: 9min 32s\n"
     ]
    }
   ],
   "source": [
    "%%time\n",
    "# deploy the model to create a predictor\n",
    "kmeans_predictor = kmeans.deploy(initial_instance_count=1, \n",
    "                                 instance_type='ml.t2.medium')"
   ]
  },
  {
   "cell_type": "markdown",
   "metadata": {},
   "source": [
    "### EXERCISE: Pass in the training data and assign predicted cluster labels\n",
    "\n",
    "After deploying the model, you can pass in the k-means training data, as a numpy array, and get resultant, predicted cluster labels for each data point."
   ]
  },
  {
   "cell_type": "code",
   "execution_count": 65,
   "metadata": {},
   "outputs": [],
   "source": [
    "# get the predicted clusters for all the kmeans training data\n",
    "cluster_info=kmeans_predictor.predict(kmeans_train_data_np)"
   ]
  },
  {
   "cell_type": "markdown",
   "metadata": {},
   "source": [
    "## Exploring the resultant clusters\n",
    "\n",
    "The resulting predictions should give you information about the cluster that each data point belongs to.\n",
    "\n",
    "You should be able to answer the **question**: which cluster does a given data point belong to?"
   ]
  },
  {
   "cell_type": "code",
   "execution_count": 66,
   "metadata": {},
   "outputs": [
    {
     "name": "stdout",
     "output_type": "stream",
     "text": [
      "County is:  Alabama-Autauga\n",
      "\n",
      "label {\n",
      "  key: \"closest_cluster\"\n",
      "  value {\n",
      "    float32_tensor {\n",
      "      values: 2.0\n",
      "    }\n",
      "  }\n",
      "}\n",
      "label {\n",
      "  key: \"distance_to_cluster\"\n",
      "  value {\n",
      "    float32_tensor {\n",
      "      values: 0.23653684556484222\n",
      "    }\n",
      "  }\n",
      "}\n",
      "\n"
     ]
    }
   ],
   "source": [
    "# print cluster info for first data point\n",
    "data_idx = 0\n",
    "\n",
    "print('County is: ', counties_transformed.index[data_idx])\n",
    "print()\n",
    "print(cluster_info[data_idx])"
   ]
  },
  {
   "cell_type": "markdown",
   "metadata": {},
   "source": [
    "### Visualize the distribution of data over clusters\n",
    "\n",
    "Get the cluster labels for each of our data points (counties) and visualize the distribution of points over each cluster."
   ]
  },
  {
   "cell_type": "code",
   "execution_count": 67,
   "metadata": {},
   "outputs": [],
   "source": [
    "# get all cluster labels\n",
    "cluster_labels = [c.label['closest_cluster'].float32_tensor.values[0] for c in cluster_info]"
   ]
  },
  {
   "cell_type": "code",
   "execution_count": 68,
   "metadata": {},
   "outputs": [
    {
     "name": "stdout",
     "output_type": "stream",
     "text": [
      "0.0    868\n",
      "6.0    824\n",
      "2.0    481\n",
      "3.0    357\n",
      "4.0    303\n",
      "1.0    258\n",
      "5.0     96\n",
      "7.0     31\n",
      "Name: 0, dtype: int64\n"
     ]
    }
   ],
   "source": [
    "# count up the points in each cluster\n",
    "cluster_df = pd.DataFrame(cluster_labels)[0].value_counts()\n",
    "\n",
    "print(cluster_df)"
   ]
  },
  {
   "cell_type": "markdown",
   "metadata": {},
   "source": [
    "Now, you may be wondering, what do each of these clusters tell us about these data points? To improve explainability, we need to access the underlying model to get the cluster centers. These centers will help describe which features characterize each cluster."
   ]
  },
  {
   "cell_type": "markdown",
   "metadata": {},
   "source": [
    "### Delete the Endpoint!\n",
    "\n",
    "Now that you've deployed the k-means model and extracted the cluster labels for each data point, you no longer need the k-means endpoint."
   ]
  },
  {
   "cell_type": "code",
   "execution_count": null,
   "metadata": {
    "collapsed": true
   },
   "outputs": [],
   "source": [
    "# delete kmeans endpoint\n",
    "session.delete_endpoint(kmeans_predictor.endpoint)"
   ]
  },
  {
   "cell_type": "markdown",
   "metadata": {},
   "source": [
    "---\n",
    "# Model Attributes & Explainability\n",
    "\n",
    "Explaining the result of the modeling is an important step in making use of our analysis. By combining PCA and k-means, and the information contained in the model attributes within a SageMaker trained model, you can learn about a population and remark on some patterns you've found, based on the data."
   ]
  },
  {
   "cell_type": "markdown",
   "metadata": {},
   "source": [
    "### EXERCISE: Access the k-means model attributes\n",
    "\n",
    "Extract the k-means model attributes from where they are saved as a TAR file in an S3 bucket.\n",
    "\n",
    "You'll need to access the model by the k-means training job name, and then unzip the file into `model_algo-1`. Then you can load that file using MXNet, as before."
   ]
  },
  {
   "cell_type": "code",
   "execution_count": 70,
   "metadata": {},
   "outputs": [
    {
     "data": {
      "text/plain": [
       "2304"
      ]
     },
     "execution_count": 70,
     "metadata": {},
     "output_type": "execute_result"
    }
   ],
   "source": [
    "# download and unzip the kmeans model file\n",
    "kmeans_job_name = 'kmeans-2021-05-16-12-23-57-384'\n",
    "\n",
    "model_key = os.path.join(prefix, kmeans_job_name, 'output/model.tar.gz')\n",
    "\n",
    "# download the model file\n",
    "boto3.resource('s3').Bucket(bucket_name).download_file(model_key, 'model.tar.gz')\n",
    "os.system('tar -zxvf model.tar.gz')\n",
    "os.system('unzip model_algo-1')"
   ]
  },
  {
   "cell_type": "code",
   "execution_count": 71,
   "metadata": {},
   "outputs": [
    {
     "name": "stdout",
     "output_type": "stream",
     "text": [
      "[\n",
      "[[-0.04160065  0.10482064  0.14324667 -0.05932264 -0.02128213  0.05524607\n",
      "  -0.02234111]\n",
      " [ 0.30582225 -0.22351    -0.08026904 -0.1384553   0.11934531 -0.10986733\n",
      "  -0.08797634]\n",
      " [-0.12036126  0.08424732 -0.29536614  0.0692042  -0.03315074  0.04189404\n",
      "   0.00270831]\n",
      " [ 0.41052106  0.25037077  0.10011049  0.28726736  0.1084631  -0.05808229\n",
      "   0.04905725]\n",
      " [-0.24429514 -0.42835456  0.10017882  0.11415306  0.04280135 -0.01119636\n",
      "   0.10603061]\n",
      " [ 1.236671   -0.26430753 -0.17885119 -0.391919   -0.10169901  0.09295962\n",
      "   0.12522331]\n",
      " [-0.21635447 -0.01186692  0.00965554 -0.05123839 -0.02331246 -0.04484653\n",
      "  -0.00996859]\n",
      " [ 0.7181207  -0.66568977  0.1996651   0.5270777  -0.38118798  0.08893491\n",
      "  -0.3744459 ]]\n",
      "<NDArray 8x7 @cpu(0)>]\n"
     ]
    }
   ],
   "source": [
    "# get the trained kmeans params using mxnet\n",
    "kmeans_model_params = mx.ndarray.load('model_algo-1')\n",
    "\n",
    "print(kmeans_model_params)"
   ]
  },
  {
   "cell_type": "markdown",
   "metadata": {},
   "source": [
    "There is only 1 set of model parameters contained within the k-means model: the cluster centroid locations in PCA-transformed, component space.\n",
    "\n",
    "* **centroids**: The location of the centers of each cluster in component space, identified by the k-means algorithm. \n"
   ]
  },
  {
   "cell_type": "code",
   "execution_count": 72,
   "metadata": {},
   "outputs": [
    {
     "data": {
      "text/html": [
       "<div>\n",
       "<style scoped>\n",
       "    .dataframe tbody tr th:only-of-type {\n",
       "        vertical-align: middle;\n",
       "    }\n",
       "\n",
       "    .dataframe tbody tr th {\n",
       "        vertical-align: top;\n",
       "    }\n",
       "\n",
       "    .dataframe thead th {\n",
       "        text-align: right;\n",
       "    }\n",
       "</style>\n",
       "<table border=\"1\" class=\"dataframe\">\n",
       "  <thead>\n",
       "    <tr style=\"text-align: right;\">\n",
       "      <th></th>\n",
       "      <th>c_1</th>\n",
       "      <th>c_2</th>\n",
       "      <th>c_3</th>\n",
       "      <th>c_4</th>\n",
       "      <th>c_5</th>\n",
       "      <th>c_6</th>\n",
       "      <th>c_7</th>\n",
       "    </tr>\n",
       "  </thead>\n",
       "  <tbody>\n",
       "    <tr>\n",
       "      <th>0</th>\n",
       "      <td>-0.041601</td>\n",
       "      <td>0.104821</td>\n",
       "      <td>0.143247</td>\n",
       "      <td>-0.059323</td>\n",
       "      <td>-0.021282</td>\n",
       "      <td>0.055246</td>\n",
       "      <td>-0.022341</td>\n",
       "    </tr>\n",
       "    <tr>\n",
       "      <th>1</th>\n",
       "      <td>0.305822</td>\n",
       "      <td>-0.223510</td>\n",
       "      <td>-0.080269</td>\n",
       "      <td>-0.138455</td>\n",
       "      <td>0.119345</td>\n",
       "      <td>-0.109867</td>\n",
       "      <td>-0.087976</td>\n",
       "    </tr>\n",
       "    <tr>\n",
       "      <th>2</th>\n",
       "      <td>-0.120361</td>\n",
       "      <td>0.084247</td>\n",
       "      <td>-0.295366</td>\n",
       "      <td>0.069204</td>\n",
       "      <td>-0.033151</td>\n",
       "      <td>0.041894</td>\n",
       "      <td>0.002708</td>\n",
       "    </tr>\n",
       "    <tr>\n",
       "      <th>3</th>\n",
       "      <td>0.410521</td>\n",
       "      <td>0.250371</td>\n",
       "      <td>0.100110</td>\n",
       "      <td>0.287267</td>\n",
       "      <td>0.108463</td>\n",
       "      <td>-0.058082</td>\n",
       "      <td>0.049057</td>\n",
       "    </tr>\n",
       "    <tr>\n",
       "      <th>4</th>\n",
       "      <td>-0.244295</td>\n",
       "      <td>-0.428355</td>\n",
       "      <td>0.100179</td>\n",
       "      <td>0.114153</td>\n",
       "      <td>0.042801</td>\n",
       "      <td>-0.011196</td>\n",
       "      <td>0.106031</td>\n",
       "    </tr>\n",
       "    <tr>\n",
       "      <th>5</th>\n",
       "      <td>1.236671</td>\n",
       "      <td>-0.264308</td>\n",
       "      <td>-0.178851</td>\n",
       "      <td>-0.391919</td>\n",
       "      <td>-0.101699</td>\n",
       "      <td>0.092960</td>\n",
       "      <td>0.125223</td>\n",
       "    </tr>\n",
       "    <tr>\n",
       "      <th>6</th>\n",
       "      <td>-0.216354</td>\n",
       "      <td>-0.011867</td>\n",
       "      <td>0.009656</td>\n",
       "      <td>-0.051238</td>\n",
       "      <td>-0.023312</td>\n",
       "      <td>-0.044847</td>\n",
       "      <td>-0.009969</td>\n",
       "    </tr>\n",
       "    <tr>\n",
       "      <th>7</th>\n",
       "      <td>0.718121</td>\n",
       "      <td>-0.665690</td>\n",
       "      <td>0.199665</td>\n",
       "      <td>0.527078</td>\n",
       "      <td>-0.381188</td>\n",
       "      <td>0.088935</td>\n",
       "      <td>-0.374446</td>\n",
       "    </tr>\n",
       "  </tbody>\n",
       "</table>\n",
       "</div>"
      ],
      "text/plain": [
       "        c_1       c_2       c_3       c_4       c_5       c_6       c_7\n",
       "0 -0.041601  0.104821  0.143247 -0.059323 -0.021282  0.055246 -0.022341\n",
       "1  0.305822 -0.223510 -0.080269 -0.138455  0.119345 -0.109867 -0.087976\n",
       "2 -0.120361  0.084247 -0.295366  0.069204 -0.033151  0.041894  0.002708\n",
       "3  0.410521  0.250371  0.100110  0.287267  0.108463 -0.058082  0.049057\n",
       "4 -0.244295 -0.428355  0.100179  0.114153  0.042801 -0.011196  0.106031\n",
       "5  1.236671 -0.264308 -0.178851 -0.391919 -0.101699  0.092960  0.125223\n",
       "6 -0.216354 -0.011867  0.009656 -0.051238 -0.023312 -0.044847 -0.009969\n",
       "7  0.718121 -0.665690  0.199665  0.527078 -0.381188  0.088935 -0.374446"
      ]
     },
     "metadata": {},
     "output_type": "display_data"
    }
   ],
   "source": [
    "# get all the centroids\n",
    "cluster_centroids=pd.DataFrame(kmeans_model_params[0].asnumpy())\n",
    "cluster_centroids.columns=counties_transformed.columns\n",
    "\n",
    "display(cluster_centroids)"
   ]
  },
  {
   "cell_type": "markdown",
   "metadata": {},
   "source": [
    "### Visualizing Centroids in Component Space\n",
    "\n",
    "You can't visualize 7-dimensional centroids in space, but you can plot a heatmap of the centroids and their location in the transformed feature space. \n",
    "\n",
    "This gives you insight into what characteristics define each cluster. Often with unsupervised learning, results are hard to interpret. This is one way to make use of the results of PCA + clustering techniques, together. Since you were able to examine the makeup of each PCA component, you can understand what each centroid represents in terms of the PCA components."
   ]
  },
  {
   "cell_type": "code",
   "execution_count": 73,
   "metadata": {},
   "outputs": [
    {
     "data": {
      "image/png": "[encoded data removed]",
      "text/plain": [
       "<Figure size 864x648 with 2 Axes>"
      ]
     },
     "metadata": {
      "needs_background": "light"
     },
     "output_type": "display_data"
    }
   ],
   "source": [
    "# generate a heatmap in component space, using the seaborn library\n",
    "plt.figure(figsize = (12,9))\n",
    "ax = sns.heatmap(cluster_centroids.T, cmap = 'YlGnBu')\n",
    "ax.set_xlabel(\"Cluster\")\n",
    "plt.yticks(fontsize = 16)\n",
    "plt.xticks(fontsize = 16)\n",
    "ax.set_title(\"Attribute Value by Centroid\")\n",
    "plt.show()"
   ]
  },
  {
   "cell_type": "markdown",
   "metadata": {},
   "source": [
    "If you've forgotten what each component corresponds to at an original-feature-level, that's okay! You can use the previously defined `display_component` function to see the feature-level makeup."
   ]
  },
  {
   "cell_type": "code",
   "execution_count": 74,
   "metadata": {},
   "outputs": [
    {
     "data": {
      "image/png": "[encoded data removed]",
      "text/plain": [
       "<Figure size 720x432 with 1 Axes>"
      ]
     },
     "metadata": {
      "needs_background": "light"
     },
     "output_type": "display_data"
    }
   ],
   "source": [
    "# what do each of these components mean again?\n",
    "# let's use the display function, from above\n",
    "component_num=7\n",
    "display_component(v, counties_scaled.columns.values, component_num=component_num)"
   ]
  },
  {
   "cell_type": "markdown",
   "metadata": {},
   "source": [
    "### Natural Groupings\n",
    "\n",
    "You can also map the cluster labels back to each individual county and examine which counties are naturally grouped together."
   ]
  },
  {
   "cell_type": "code",
   "execution_count": 75,
   "metadata": {},
   "outputs": [
    {
     "data": {
      "text/html": [
       "<div>\n",
       "<style scoped>\n",
       "    .dataframe tbody tr th:only-of-type {\n",
       "        vertical-align: middle;\n",
       "    }\n",
       "\n",
       "    .dataframe tbody tr th {\n",
       "        vertical-align: top;\n",
       "    }\n",
       "\n",
       "    .dataframe thead th {\n",
       "        text-align: right;\n",
       "    }\n",
       "</style>\n",
       "<table border=\"1\" class=\"dataframe\">\n",
       "  <thead>\n",
       "    <tr style=\"text-align: right;\">\n",
       "      <th></th>\n",
       "      <th>c_1</th>\n",
       "      <th>c_2</th>\n",
       "      <th>c_3</th>\n",
       "      <th>c_4</th>\n",
       "      <th>c_5</th>\n",
       "      <th>c_6</th>\n",
       "      <th>c_7</th>\n",
       "      <th>labels</th>\n",
       "    </tr>\n",
       "  </thead>\n",
       "  <tbody>\n",
       "    <tr>\n",
       "      <th>Michigan-Montcalm</th>\n",
       "      <td>-0.093800</td>\n",
       "      <td>0.277402</td>\n",
       "      <td>0.118879</td>\n",
       "      <td>-0.183504</td>\n",
       "      <td>0.011605</td>\n",
       "      <td>0.125444</td>\n",
       "      <td>-0.056001</td>\n",
       "      <td>0</td>\n",
       "    </tr>\n",
       "    <tr>\n",
       "      <th>Missouri-Ste. Genevieve</th>\n",
       "      <td>-0.237802</td>\n",
       "      <td>0.167400</td>\n",
       "      <td>0.156479</td>\n",
       "      <td>-0.199382</td>\n",
       "      <td>0.166887</td>\n",
       "      <td>-0.027151</td>\n",
       "      <td>-0.148141</td>\n",
       "      <td>0</td>\n",
       "    </tr>\n",
       "    <tr>\n",
       "      <th>Missouri-St. Clair</th>\n",
       "      <td>-0.027264</td>\n",
       "      <td>0.066711</td>\n",
       "      <td>0.254064</td>\n",
       "      <td>-0.086178</td>\n",
       "      <td>-0.152424</td>\n",
       "      <td>0.123932</td>\n",
       "      <td>0.064403</td>\n",
       "      <td>0</td>\n",
       "    </tr>\n",
       "    <tr>\n",
       "      <th>Tennessee-Smith</th>\n",
       "      <td>-0.196535</td>\n",
       "      <td>0.148426</td>\n",
       "      <td>0.138396</td>\n",
       "      <td>-0.138055</td>\n",
       "      <td>0.055282</td>\n",
       "      <td>0.056815</td>\n",
       "      <td>0.106468</td>\n",
       "      <td>0</td>\n",
       "    </tr>\n",
       "    <tr>\n",
       "      <th>Indiana-Cass</th>\n",
       "      <td>-0.049903</td>\n",
       "      <td>0.162810</td>\n",
       "      <td>0.080575</td>\n",
       "      <td>-0.184691</td>\n",
       "      <td>-0.017748</td>\n",
       "      <td>-0.158167</td>\n",
       "      <td>-0.103680</td>\n",
       "      <td>0</td>\n",
       "    </tr>\n",
       "    <tr>\n",
       "      <th>Missouri-Ripley</th>\n",
       "      <td>-0.018762</td>\n",
       "      <td>0.071493</td>\n",
       "      <td>0.318636</td>\n",
       "      <td>-0.092893</td>\n",
       "      <td>-0.091563</td>\n",
       "      <td>0.088709</td>\n",
       "      <td>-0.103954</td>\n",
       "      <td>0</td>\n",
       "    </tr>\n",
       "    <tr>\n",
       "      <th>Indiana-Clay</th>\n",
       "      <td>-0.218904</td>\n",
       "      <td>0.160771</td>\n",
       "      <td>0.099574</td>\n",
       "      <td>-0.120858</td>\n",
       "      <td>-0.036950</td>\n",
       "      <td>0.031927</td>\n",
       "      <td>-0.098949</td>\n",
       "      <td>0</td>\n",
       "    </tr>\n",
       "    <tr>\n",
       "      <th>Indiana-Clinton</th>\n",
       "      <td>-0.138011</td>\n",
       "      <td>0.248154</td>\n",
       "      <td>0.054567</td>\n",
       "      <td>-0.286209</td>\n",
       "      <td>0.161532</td>\n",
       "      <td>-0.179524</td>\n",
       "      <td>-0.121162</td>\n",
       "      <td>0</td>\n",
       "    </tr>\n",
       "    <tr>\n",
       "      <th>Indiana-Crawford</th>\n",
       "      <td>-0.120441</td>\n",
       "      <td>0.244305</td>\n",
       "      <td>0.219173</td>\n",
       "      <td>-0.168967</td>\n",
       "      <td>-0.025639</td>\n",
       "      <td>0.135150</td>\n",
       "      <td>0.028699</td>\n",
       "      <td>0</td>\n",
       "    </tr>\n",
       "    <tr>\n",
       "      <th>Missouri-Reynolds</th>\n",
       "      <td>-0.031156</td>\n",
       "      <td>0.021333</td>\n",
       "      <td>0.381899</td>\n",
       "      <td>-0.074204</td>\n",
       "      <td>0.042624</td>\n",
       "      <td>0.045821</td>\n",
       "      <td>-0.260713</td>\n",
       "      <td>0</td>\n",
       "    </tr>\n",
       "    <tr>\n",
       "      <th>Missouri-Ray</th>\n",
       "      <td>-0.179584</td>\n",
       "      <td>0.234674</td>\n",
       "      <td>0.063161</td>\n",
       "      <td>-0.144645</td>\n",
       "      <td>0.040486</td>\n",
       "      <td>0.140745</td>\n",
       "      <td>-0.055201</td>\n",
       "      <td>0</td>\n",
       "    </tr>\n",
       "    <tr>\n",
       "      <th>Missouri-Randolph</th>\n",
       "      <td>-0.094683</td>\n",
       "      <td>0.173096</td>\n",
       "      <td>0.103851</td>\n",
       "      <td>-0.093550</td>\n",
       "      <td>-0.130811</td>\n",
       "      <td>-0.048471</td>\n",
       "      <td>0.060319</td>\n",
       "      <td>0</td>\n",
       "    </tr>\n",
       "    <tr>\n",
       "      <th>Missouri-Polk</th>\n",
       "      <td>-0.139436</td>\n",
       "      <td>0.016433</td>\n",
       "      <td>0.143301</td>\n",
       "      <td>-0.066795</td>\n",
       "      <td>-0.093818</td>\n",
       "      <td>0.100575</td>\n",
       "      <td>0.016443</td>\n",
       "      <td>0</td>\n",
       "    </tr>\n",
       "    <tr>\n",
       "      <th>Indiana-Blackford</th>\n",
       "      <td>-0.207763</td>\n",
       "      <td>0.335245</td>\n",
       "      <td>0.165504</td>\n",
       "      <td>-0.221740</td>\n",
       "      <td>-0.042952</td>\n",
       "      <td>-0.116686</td>\n",
       "      <td>-0.017118</td>\n",
       "      <td>0</td>\n",
       "    </tr>\n",
       "    <tr>\n",
       "      <th>Indiana-Delaware</th>\n",
       "      <td>-0.033202</td>\n",
       "      <td>0.160756</td>\n",
       "      <td>0.063104</td>\n",
       "      <td>-0.017805</td>\n",
       "      <td>-0.264668</td>\n",
       "      <td>-0.034917</td>\n",
       "      <td>-0.049219</td>\n",
       "      <td>0</td>\n",
       "    </tr>\n",
       "    <tr>\n",
       "      <th>Indiana-Elkhart</th>\n",
       "      <td>-0.046948</td>\n",
       "      <td>0.255348</td>\n",
       "      <td>-0.012383</td>\n",
       "      <td>-0.211758</td>\n",
       "      <td>0.033895</td>\n",
       "      <td>-0.254342</td>\n",
       "      <td>-0.097961</td>\n",
       "      <td>0</td>\n",
       "    </tr>\n",
       "    <tr>\n",
       "      <th>Indiana-Fayette</th>\n",
       "      <td>-0.097968</td>\n",
       "      <td>0.320962</td>\n",
       "      <td>0.156540</td>\n",
       "      <td>-0.175092</td>\n",
       "      <td>-0.111585</td>\n",
       "      <td>0.025470</td>\n",
       "      <td>-0.037197</td>\n",
       "      <td>0</td>\n",
       "    </tr>\n",
       "    <tr>\n",
       "      <th>Missouri-Pike</th>\n",
       "      <td>-0.154928</td>\n",
       "      <td>0.072187</td>\n",
       "      <td>0.110249</td>\n",
       "      <td>-0.070933</td>\n",
       "      <td>0.045705</td>\n",
       "      <td>-0.015308</td>\n",
       "      <td>0.017677</td>\n",
       "      <td>0</td>\n",
       "    </tr>\n",
       "    <tr>\n",
       "      <th>Tennessee-Anderson</th>\n",
       "      <td>-0.109347</td>\n",
       "      <td>0.111530</td>\n",
       "      <td>0.014941</td>\n",
       "      <td>-0.021213</td>\n",
       "      <td>-0.195134</td>\n",
       "      <td>0.034839</td>\n",
       "      <td>0.079956</td>\n",
       "      <td>0</td>\n",
       "    </tr>\n",
       "    <tr>\n",
       "      <th>Virginia-Lee</th>\n",
       "      <td>0.066950</td>\n",
       "      <td>0.131093</td>\n",
       "      <td>0.231805</td>\n",
       "      <td>-0.027617</td>\n",
       "      <td>-0.199608</td>\n",
       "      <td>0.222746</td>\n",
       "      <td>0.028104</td>\n",
       "      <td>0</td>\n",
       "    </tr>\n",
       "  </tbody>\n",
       "</table>\n",
       "</div>"
      ],
      "text/plain": [
       "                              c_1       c_2       c_3       c_4       c_5  \\\n",
       "Michigan-Montcalm       -0.093800  0.277402  0.118879 -0.183504  0.011605   \n",
       "Missouri-Ste. Genevieve -0.237802  0.167400  0.156479 -0.199382  0.166887   \n",
       "Missouri-St. Clair      -0.027264  0.066711  0.254064 -0.086178 -0.152424   \n",
       "Tennessee-Smith         -0.196535  0.148426  0.138396 -0.138055  0.055282   \n",
       "Indiana-Cass            -0.049903  0.162810  0.080575 -0.184691 -0.017748   \n",
       "Missouri-Ripley         -0.018762  0.071493  0.318636 -0.092893 -0.091563   \n",
       "Indiana-Clay            -0.218904  0.160771  0.099574 -0.120858 -0.036950   \n",
       "Indiana-Clinton         -0.138011  0.248154  0.054567 -0.286209  0.161532   \n",
       "Indiana-Crawford        -0.120441  0.244305  0.219173 -0.168967 -0.025639   \n",
       "Missouri-Reynolds       -0.031156  0.021333  0.381899 -0.074204  0.042624   \n",
       "Missouri-Ray            -0.179584  0.234674  0.063161 -0.144645  0.040486   \n",
       "Missouri-Randolph       -0.094683  0.173096  0.103851 -0.093550 -0.130811   \n",
       "Missouri-Polk           -0.139436  0.016433  0.143301 -0.066795 -0.093818   \n",
       "Indiana-Blackford       -0.207763  0.335245  0.165504 -0.221740 -0.042952   \n",
       "Indiana-Delaware        -0.033202  0.160756  0.063104 -0.017805 -0.264668   \n",
       "Indiana-Elkhart         -0.046948  0.255348 -0.012383 -0.211758  0.033895   \n",
       "Indiana-Fayette         -0.097968  0.320962  0.156540 -0.175092 -0.111585   \n",
       "Missouri-Pike           -0.154928  0.072187  0.110249 -0.070933  0.045705   \n",
       "Tennessee-Anderson      -0.109347  0.111530  0.014941 -0.021213 -0.195134   \n",
       "Virginia-Lee             0.066950  0.131093  0.231805 -0.027617 -0.199608   \n",
       "\n",
       "                              c_6       c_7  labels  \n",
       "Michigan-Montcalm        0.125444 -0.056001       0  \n",
       "Missouri-Ste. Genevieve -0.027151 -0.148141       0  \n",
       "Missouri-St. Clair       0.123932  0.064403       0  \n",
       "Tennessee-Smith          0.056815  0.106468       0  \n",
       "Indiana-Cass            -0.158167 -0.103680       0  \n",
       "Missouri-Ripley          0.088709 -0.103954       0  \n",
       "Indiana-Clay             0.031927 -0.098949       0  \n",
       "Indiana-Clinton         -0.179524 -0.121162       0  \n",
       "Indiana-Crawford         0.135150  0.028699       0  \n",
       "Missouri-Reynolds        0.045821 -0.260713       0  \n",
       "Missouri-Ray             0.140745 -0.055201       0  \n",
       "Missouri-Randolph       -0.048471  0.060319       0  \n",
       "Missouri-Polk            0.100575  0.016443       0  \n",
       "Indiana-Blackford       -0.116686 -0.017118       0  \n",
       "Indiana-Delaware        -0.034917 -0.049219       0  \n",
       "Indiana-Elkhart         -0.254342 -0.097961       0  \n",
       "Indiana-Fayette          0.025470 -0.037197       0  \n",
       "Missouri-Pike           -0.015308  0.017677       0  \n",
       "Tennessee-Anderson       0.034839  0.079956       0  \n",
       "Virginia-Lee             0.222746  0.028104       0  "
      ]
     },
     "execution_count": 75,
     "metadata": {},
     "output_type": "execute_result"
    }
   ],
   "source": [
    "# add a 'labels' column to the dataframe\n",
    "counties_transformed['labels']=list(map(int, cluster_labels))\n",
    "\n",
    "# sort by cluster label 0-6\n",
    "sorted_counties = counties_transformed.sort_values('labels', ascending=True)\n",
    "# view some pts in cluster 0\n",
    "sorted_counties.head(20)"
   ]
  },
  {
   "cell_type": "markdown",
   "metadata": {},
   "source": [
    "You can also examine one of the clusters in more detail, like cluster 1, for example. A quick glance at the location of the centroid in component space (the heatmap) tells us that it has the highest value for the `comp_6` attribute. You can now see which counties fit that description."
   ]
  },
  {
   "cell_type": "code",
   "execution_count": 76,
   "metadata": {},
   "outputs": [
    {
     "data": {
      "text/html": [
       "<div>\n",
       "<style scoped>\n",
       "    .dataframe tbody tr th:only-of-type {\n",
       "        vertical-align: middle;\n",
       "    }\n",
       "\n",
       "    .dataframe tbody tr th {\n",
       "        vertical-align: top;\n",
       "    }\n",
       "\n",
       "    .dataframe thead th {\n",
       "        text-align: right;\n",
       "    }\n",
       "</style>\n",
       "<table border=\"1\" class=\"dataframe\">\n",
       "  <thead>\n",
       "    <tr style=\"text-align: right;\">\n",
       "      <th></th>\n",
       "      <th>c_1</th>\n",
       "      <th>c_2</th>\n",
       "      <th>c_3</th>\n",
       "      <th>c_4</th>\n",
       "      <th>c_5</th>\n",
       "      <th>c_6</th>\n",
       "      <th>c_7</th>\n",
       "      <th>labels</th>\n",
       "    </tr>\n",
       "  </thead>\n",
       "  <tbody>\n",
       "    <tr>\n",
       "      <th>Alaska-Aleutians East Borough</th>\n",
       "      <td>0.214891</td>\n",
       "      <td>-0.326237</td>\n",
       "      <td>-0.087370</td>\n",
       "      <td>0.183295</td>\n",
       "      <td>0.309654</td>\n",
       "      <td>-0.882860</td>\n",
       "      <td>-0.502769</td>\n",
       "      <td>1</td>\n",
       "    </tr>\n",
       "    <tr>\n",
       "      <th>Alaska-Aleutians West Census Area</th>\n",
       "      <td>-0.010280</td>\n",
       "      <td>-0.263201</td>\n",
       "      <td>-0.366322</td>\n",
       "      <td>0.147377</td>\n",
       "      <td>0.268785</td>\n",
       "      <td>-0.687394</td>\n",
       "      <td>-0.453934</td>\n",
       "      <td>1</td>\n",
       "    </tr>\n",
       "    <tr>\n",
       "      <th>Alaska-Kodiak Island Borough</th>\n",
       "      <td>-0.008272</td>\n",
       "      <td>-0.367003</td>\n",
       "      <td>-0.162269</td>\n",
       "      <td>0.191822</td>\n",
       "      <td>0.042486</td>\n",
       "      <td>-0.298352</td>\n",
       "      <td>-0.429001</td>\n",
       "      <td>1</td>\n",
       "    </tr>\n",
       "    <tr>\n",
       "      <th>Alaska-North Slope Borough</th>\n",
       "      <td>0.004283</td>\n",
       "      <td>-0.637046</td>\n",
       "      <td>-0.218852</td>\n",
       "      <td>0.349359</td>\n",
       "      <td>0.292917</td>\n",
       "      <td>-0.406611</td>\n",
       "      <td>-0.702960</td>\n",
       "      <td>1</td>\n",
       "    </tr>\n",
       "    <tr>\n",
       "      <th>Arizona-Cochise</th>\n",
       "      <td>0.276746</td>\n",
       "      <td>-0.261673</td>\n",
       "      <td>-0.142366</td>\n",
       "      <td>0.022962</td>\n",
       "      <td>-0.198940</td>\n",
       "      <td>0.009623</td>\n",
       "      <td>-0.091299</td>\n",
       "      <td>1</td>\n",
       "    </tr>\n",
       "  </tbody>\n",
       "</table>\n",
       "</div>"
      ],
      "text/plain": [
       "                                        c_1       c_2       c_3       c_4  \\\n",
       "Alaska-Aleutians East Borough      0.214891 -0.326237 -0.087370  0.183295   \n",
       "Alaska-Aleutians West Census Area -0.010280 -0.263201 -0.366322  0.147377   \n",
       "Alaska-Kodiak Island Borough      -0.008272 -0.367003 -0.162269  0.191822   \n",
       "Alaska-North Slope Borough         0.004283 -0.637046 -0.218852  0.349359   \n",
       "Arizona-Cochise                    0.276746 -0.261673 -0.142366  0.022962   \n",
       "\n",
       "                                        c_5       c_6       c_7  labels  \n",
       "Alaska-Aleutians East Borough      0.309654 -0.882860 -0.502769       1  \n",
       "Alaska-Aleutians West Census Area  0.268785 -0.687394 -0.453934       1  \n",
       "Alaska-Kodiak Island Borough       0.042486 -0.298352 -0.429001       1  \n",
       "Alaska-North Slope Borough         0.292917 -0.406611 -0.702960       1  \n",
       "Arizona-Cochise                   -0.198940  0.009623 -0.091299       1  "
      ]
     },
     "execution_count": 76,
     "metadata": {},
     "output_type": "execute_result"
    }
   ],
   "source": [
    "# get all counties with label == 1\n",
    "cluster=counties_transformed[counties_transformed['labels']==1]\n",
    "cluster.head()"
   ]
  },
  {
   "cell_type": "markdown",
   "metadata": {
    "collapsed": true
   },
   "source": [
    "## Final Cleanup!\n",
    "\n",
    "* Double check that you have deleted all your endpoints.\n",
    "* I'd also suggest manually deleting your S3 bucket, models, and endpoint configurations directly from your AWS console.\n",
    "\n",
    "You can find thorough cleanup instructions, [in the documentation](https://docs.aws.amazon.com/sagemaker/latest/dg/ex1-cleanup.html)."
   ]
  },
  {
   "cell_type": "markdown",
   "metadata": {},
   "source": [
    "---\n",
    "# Conclusion\n",
    "\n",
    "You have just walked through a machine learning workflow for unsupervised learning, specifically, for clustering a dataset using k-means after reducing the dimensionality using PCA. By accessing the underlying models created within  SageMaker, you were able to improve the explainability of your model and draw insights from the resultant clusters. \n",
    "\n",
    "Using these techniques, you have been able to better understand the essential characteristics of different counties in the US and segment them into similar groups, accordingly."
   ]
  }
 ],
 "metadata": {
  "kernelspec": {
   "display_name": "conda_mxnet_p36",
   "language": "python",
   "name": "conda_mxnet_p36"
  },
  "language_info": {
   "codemirror_mode": {
    "name": "ipython",
    "version": 3
   },
   "file_extension": ".py",
   "mimetype": "text/x-python",
   "name": "python",
   "nbconvert_exporter": "python",
   "pygments_lexer": "ipython3",
   "version": "3.6.13"
  },
  "nbpresent": {
   "slides": {
    "00185e5a-e023-4efa-9b74-1d4003fed039": {
     "id": "00185e5a-e023-4efa-9b74-1d4003fed039",
     "prev": "245581e9-468f-4d78-a748-0c3bdc5cb82a",
     "regions": {
      "691d980e-e884-402b-bedf-94142409e67a": {
       "attrs": {
        "height": 0.8,
        "width": 0.8,
        "x": 0.1,
        "y": 0.1
       },
       "content": {
        "cell": "479ad6be-6ef5-4a23-83fa-5a3438bed78c",
        "part": "whole"
       },
       "id": "691d980e-e884-402b-bedf-94142409e67a"
      }
     }
    },
    "04c02612-b7a3-4a6b-b46e-f0b64285f34f": {
     "id": "04c02612-b7a3-4a6b-b46e-f0b64285f34f",
     "prev": "cb224ddf-91c8-4058-a92c-589888536dce",
     "regions": {
      "15ef2157-6262-4d93-9646-01c5229cdc2e": {
       "attrs": {
        "height": 0.8,
        "width": 0.8,
        "x": 0.1,
        "y": 0.1
       },
       "content": {
        "cell": "479ad6be-6ef5-4a23-83fa-5a3438bed78c",
        "part": "whole"
       },
       "id": "15ef2157-6262-4d93-9646-01c5229cdc2e"
      }
     }
    },
    "0c825f9e-60ad-44b9-a3a9-32977b6dc07b": {
     "id": "0c825f9e-60ad-44b9-a3a9-32977b6dc07b",
     "prev": "3031125b-46a7-453f-8405-d51270217fed",
     "regions": {
      "5800e24d-5f1b-47f5-8cb8-5841666497ec": {
       "attrs": {
        "height": 0.8,
        "width": 0.8,
        "x": 0.1,
        "y": 0.1
       },
       "content": {
        "cell": "c2f7177c-9a56-46a7-8e51-53c1ccdac759",
        "part": "whole"
       },
       "id": "5800e24d-5f1b-47f5-8cb8-5841666497ec"
      }
     }
    },
    "0d1a4ca3-9779-41bc-a0b3-d212cb7d4a8c": {
     "id": "0d1a4ca3-9779-41bc-a0b3-d212cb7d4a8c",
     "prev": "e96ea25d-f12d-4df2-9229-29bbb6f89e57",
     "regions": {
      "73ea6e42-198b-45f7-90c0-76be78ca9873": {
       "attrs": {
        "height": 0.8,
        "width": 0.8,
        "x": 0.1,
        "y": 0.1
       },
       "content": {
        "cell": "05579e7a-be31-4942-a9a9-9f087cc284ff",
        "part": "whole"
       },
       "id": "73ea6e42-198b-45f7-90c0-76be78ca9873"
      }
     }
    },
    "0d8fa08d-7d0f-4378-8065-26382e5a86e2": {
     "id": "0d8fa08d-7d0f-4378-8065-26382e5a86e2",
     "prev": "2102ebf0-1bc1-493a-a8d2-e134b767f101",
     "regions": {
      "559c72a7-aebd-454e-aace-1ac4a1b01922": {
       "attrs": {
        "height": 0.8,
        "width": 0.8,
        "x": 0.1,
        "y": 0.1
       },
       "content": {
        "cell": "a3c4d54d-1c66-4511-9276-0a976adc27a3",
        "part": "whole"
       },
       "id": "559c72a7-aebd-454e-aace-1ac4a1b01922"
      }
     }
    },
    "0d98a2ee-ba72-4111-83eb-8ca87082100e": {
     "id": "0d98a2ee-ba72-4111-83eb-8ca87082100e",
     "prev": "a52fcace-21c6-4d27-9ee8-f87e06b1bf4b",
     "regions": {
      "f25816e9-e51b-4625-b61c-bea7755373a2": {
       "attrs": {
        "height": 0.8,
        "width": 0.8,
        "x": 0.1,
        "y": 0.1
       },
       "content": {
        "cell": "eb6724ef-65dc-4f74-b92c-3f9e540a7b35",
        "part": "whole"
       },
       "id": "f25816e9-e51b-4625-b61c-bea7755373a2"
      }
     }
    },
    "0eab16c6-3c1a-4f9c-a6d9-a1cf6220a9a2": {
     "id": "0eab16c6-3c1a-4f9c-a6d9-a1cf6220a9a2",
     "prev": "5caa41a3-a416-4b62-ad94-9efc601a0761",
     "regions": {
      "752c114b-e55a-40c2-b1d5-a646253c012a": {
       "attrs": {
        "height": 0.8,
        "width": 0.8,
        "x": 0.1,
        "y": 0.1
       },
       "content": {
        "cell": "a3c4d54d-1c66-4511-9276-0a976adc27a3",
        "part": "whole"
       },
       "id": "752c114b-e55a-40c2-b1d5-a646253c012a"
      }
     }
    },
    "0f0856fc-b72e-4a9e-9279-f0b70282084a": {
     "id": "0f0856fc-b72e-4a9e-9279-f0b70282084a",
     "prev": "4c3af69f-0dbf-4538-a217-4674c220e1ce",
     "regions": {
      "07c3f079-7bf9-4e7c-b073-93c94568b5f8": {
       "attrs": {
        "height": 0.8,
        "width": 0.8,
        "x": 0.1,
        "y": 0.1
       },
       "content": {
        "cell": "a3c4d54d-1c66-4511-9276-0a976adc27a3",
        "part": "whole"
       },
       "id": "07c3f079-7bf9-4e7c-b073-93c94568b5f8"
      }
     }
    },
    "127a45d8-ef23-4438-9cb9-c721e712e2ad": {
     "id": "127a45d8-ef23-4438-9cb9-c721e712e2ad",
     "prev": null,
     "regions": {
      "1014f9bc-a908-4bb1-b5f4-6d5fafbcacad": {
       "attrs": {
        "height": 0.8,
        "width": 0.8,
        "x": 0.1,
        "y": 0.1
       },
       "content": {
        "cell": "62d4851b-e85e-419e-901a-d5c03db59166",
        "part": "whole"
       },
       "id": "1014f9bc-a908-4bb1-b5f4-6d5fafbcacad"
      }
     }
    },
    "137bd8ba-62fa-4977-aa92-299716a1b575": {
     "id": "137bd8ba-62fa-4977-aa92-299716a1b575",
     "prev": "f89c8884-cb84-4930-a1c4-451008b047e0",
     "regions": {
      "c3c3c631-e394-4d86-8efd-f7e297da7c54": {
       "attrs": {
        "height": 0.8,
        "width": 0.8,
        "x": 0.1,
        "y": 0.1
       },
       "content": {
        "cell": "af0acd3e-f4a3-4da9-9772-6a6f896da772",
        "part": "whole"
       },
       "id": "c3c3c631-e394-4d86-8efd-f7e297da7c54"
      }
     }
    },
    "1b7fa3bc-7a7d-426c-ba1d-4fe4d2c63787": {
     "id": "1b7fa3bc-7a7d-426c-ba1d-4fe4d2c63787",
     "prev": "32b3f4bb-8a93-4047-871d-64dc33e51dc9",
     "regions": {
      "3c58bd34-7325-4848-ab56-a27006aa72eb": {
       "attrs": {
        "height": 0.8,
        "width": 0.8,
        "x": 0.1,
        "y": 0.1
       },
       "content": {
        "cell": "af0acd3e-f4a3-4da9-9772-6a6f896da772",
        "part": "whole"
       },
       "id": "3c58bd34-7325-4848-ab56-a27006aa72eb"
      }
     }
    },
    "1e649c44-6543-47ab-a724-d8c91a1eba0c": {
     "id": "1e649c44-6543-47ab-a724-d8c91a1eba0c",
     "prev": "2479aa16-61a7-448b-87fc-123ed194b826",
     "regions": {
      "5ff777a3-74e6-4424-8b17-f9c9bc680bbf": {
       "attrs": {
        "height": 0.8,
        "width": 0.8,
        "x": 0.1,
        "y": 0.1
       },
       "content": {
        "cell": "479ad6be-6ef5-4a23-83fa-5a3438bed78c",
        "part": "whole"
       },
       "id": "5ff777a3-74e6-4424-8b17-f9c9bc680bbf"
      }
     }
    },
    "206a856d-3055-461c-8169-ffee8f39c28e": {
     "id": "206a856d-3055-461c-8169-ffee8f39c28e",
     "prev": "8bbf13ba-d21a-4e20-b6fb-8248fbcb7d14",
     "regions": {
      "ebb2b7a1-4e2a-4a3a-a3c2-a7fcc8c01ab2": {
       "attrs": {
        "height": 0.8,
        "width": 0.8,
        "x": 0.1,
        "y": 0.1
       },
       "content": {
        "cell": "823d3663-8326-493a-a3fc-19b7114ef367",
        "part": "whole"
       },
       "id": "ebb2b7a1-4e2a-4a3a-a3c2-a7fcc8c01ab2"
      }
     }
    },
    "2102ebf0-1bc1-493a-a8d2-e134b767f101": {
     "id": "2102ebf0-1bc1-493a-a8d2-e134b767f101",
     "prev": "f2d04c15-4d2b-4c7e-992a-72c2b870c759",
     "regions": {
      "e75754ca-229a-4f43-8365-3ded5c65beb2": {
       "attrs": {
        "height": 0.8,
        "width": 0.8,
        "x": 0.1,
        "y": 0.1
       },
       "content": {
        "cell": "db543249-4452-45e1-a0fa-324296059f19",
        "part": "whole"
       },
       "id": "e75754ca-229a-4f43-8365-3ded5c65beb2"
      }
     }
    },
    "218a5d27-8c88-4475-9c19-04b6af5781ed": {
     "id": "218a5d27-8c88-4475-9c19-04b6af5781ed",
     "prev": "b6a3e0da-299e-4ed2-b91b-2acffd354cdf",
     "regions": {
      "3adede6c-7a8d-4918-8f7a-12114603f37a": {
       "attrs": {
        "height": 0.8,
        "width": 0.8,
        "x": 0.1,
        "y": 0.1
       },
       "content": {
        "cell": "c2f7177c-9a56-46a7-8e51-53c1ccdac759",
        "part": "whole"
       },
       "id": "3adede6c-7a8d-4918-8f7a-12114603f37a"
      }
     }
    },
    "2199474d-0f28-43f0-b05c-38e712655efe": {
     "id": "2199474d-0f28-43f0-b05c-38e712655efe",
     "prev": "bf0895a0-bc5b-466d-a091-07382c006dd6",
     "regions": {
      "d55f819b-e696-47f8-ae49-51e4fde22a3e": {
       "attrs": {
        "height": 0.8,
        "width": 0.8,
        "x": 0.1,
        "y": 0.1
       },
       "content": {
        "cell": "a3c4d54d-1c66-4511-9276-0a976adc27a3",
        "part": "whole"
       },
       "id": "d55f819b-e696-47f8-ae49-51e4fde22a3e"
      }
     }
    },
    "22126885-b04a-4cd1-b348-0dc9a5b353d1": {
     "id": "22126885-b04a-4cd1-b348-0dc9a5b353d1",
     "prev": "137bd8ba-62fa-4977-aa92-299716a1b575",
     "regions": {
      "401e60a1-ff77-4870-93f7-aa377a66983e": {
       "attrs": {
        "height": 0.8,
        "width": 0.8,
        "x": 0.1,
        "y": 0.1
       },
       "content": {
        "cell": "db543249-4452-45e1-a0fa-324296059f19",
        "part": "whole"
       },
       "id": "401e60a1-ff77-4870-93f7-aa377a66983e"
      }
     }
    },
    "22ac0a05-fa20-4071-9eeb-0cd7e8bc1495": {
     "id": "22ac0a05-fa20-4071-9eeb-0cd7e8bc1495",
     "prev": "54e37292-6b6a-42a2-b2d9-2526c00a35b6",
     "regions": {
      "f0328d95-4730-47f5-b7d7-332ab52f31df": {
       "attrs": {
        "height": 0.8,
        "width": 0.8,
        "x": 0.1,
        "y": 0.1
       },
       "content": {
        "cell": "d266ff00-54d6-47f7-a26c-eea6cd1e468f",
        "part": "whole"
       },
       "id": "f0328d95-4730-47f5-b7d7-332ab52f31df"
      }
     }
    },
    "245581e9-468f-4d78-a748-0c3bdc5cb82a": {
     "id": "245581e9-468f-4d78-a748-0c3bdc5cb82a",
     "prev": "963feba9-0d2a-4c66-85cc-96d2fc723e8e",
     "regions": {
      "e61eaae3-5014-424c-bd4e-df22507d29af": {
       "attrs": {
        "height": 0.8,
        "width": 0.8,
        "x": 0.1,
        "y": 0.1
       },
       "content": {
        "cell": "e1d4e5a9-715b-412f-b881-5306080566d0",
        "part": "whole"
       },
       "id": "e61eaae3-5014-424c-bd4e-df22507d29af"
      }
     }
    },
    "2479aa16-61a7-448b-87fc-123ed194b826": {
     "id": "2479aa16-61a7-448b-87fc-123ed194b826",
     "prev": "0d98a2ee-ba72-4111-83eb-8ca87082100e",
     "regions": {
      "06a7635a-7143-4bd9-888a-636071ed94b2": {
       "attrs": {
        "height": 0.8,
        "width": 0.8,
        "x": 0.1,
        "y": 0.1
       },
       "content": {
        "cell": "e1d4e5a9-715b-412f-b881-5306080566d0",
        "part": "whole"
       },
       "id": "06a7635a-7143-4bd9-888a-636071ed94b2"
      }
     }
    },
    "24ebeb55-bda2-46aa-b01d-2eb1e08ec4b9": {
     "id": "24ebeb55-bda2-46aa-b01d-2eb1e08ec4b9",
     "prev": "3836b696-9da4-4822-a1a4-1c8a7f016e93",
     "regions": {
      "1c9d0303-cc0c-4556-9456-55413d4b1a37": {
       "attrs": {
        "height": 0.8,
        "width": 0.8,
        "x": 0.1,
        "y": 0.1
       },
       "content": {
        "cell": "6e941245-3e15-4018-a947-9e66bc58c86e",
        "part": "whole"
       },
       "id": "1c9d0303-cc0c-4556-9456-55413d4b1a37"
      }
     }
    },
    "29c82185-c087-4da1-820d-e67d6f607544": {
     "id": "29c82185-c087-4da1-820d-e67d6f607544",
     "prev": "e1f94e70-f7b9-4d99-94c3-01f0f0a8251d",
     "regions": {
      "75915c00-90cb-4965-8dca-f1e7fc5c150d": {
       "attrs": {
        "height": 0.8,
        "width": 0.8,
        "x": 0.1,
        "y": 0.1
       },
       "content": {
        "cell": "d266ff00-54d6-47f7-a26c-eea6cd1e468f",
        "part": "whole"
       },
       "id": "75915c00-90cb-4965-8dca-f1e7fc5c150d"
      }
     }
    },
    "2d6a9841-621c-4219-9bd2-c010aac01f3a": {
     "id": "2d6a9841-621c-4219-9bd2-c010aac01f3a",
     "prev": "354d2e1c-833c-43c1-8518-84deefa9dd83",
     "regions": {
      "3366de71-d77a-4bf3-bc86-9da3afe09d58": {
       "attrs": {
        "height": 0.8,
        "width": 0.8,
        "x": 0.1,
        "y": 0.1
       },
       "content": {
        "cell": "af0acd3e-f4a3-4da9-9772-6a6f896da772",
        "part": "whole"
       },
       "id": "3366de71-d77a-4bf3-bc86-9da3afe09d58"
      }
     }
    },
    "2eb5b91d-2f89-4478-a871-9ebabfe8c755": {
     "id": "2eb5b91d-2f89-4478-a871-9ebabfe8c755",
     "prev": "3c39b8cb-b3ee-42a8-b58a-23f42dd1afb7",
     "regions": {
      "dbd82ff9-f97d-4b4e-9181-2757bd864899": {
       "attrs": {
        "height": 0.8,
        "width": 0.8,
        "x": 0.1,
        "y": 0.1
       },
       "content": {
        "cell": "fdd10c00-53ba-405d-8622-fbfeac17d3bb",
        "part": "whole"
       },
       "id": "dbd82ff9-f97d-4b4e-9181-2757bd864899"
      }
     }
    },
    "2f879b6f-c9ea-44d7-91e7-9baa9101dcde": {
     "id": "2f879b6f-c9ea-44d7-91e7-9baa9101dcde",
     "prev": "43ecdc28-ce1b-4c27-a143-3b0f6dfaa54f",
     "regions": {
      "7e27878d-50e3-4a78-ab08-81e37b035c95": {
       "attrs": {
        "height": 0.8,
        "width": 0.8,
        "x": 0.1,
        "y": 0.1
       },
       "content": {
        "cell": "ecdacfd7-456b-4b29-9c7d-aba29749c18f",
        "part": "whole"
       },
       "id": "7e27878d-50e3-4a78-ab08-81e37b035c95"
      }
     }
    },
    "3031125b-46a7-453f-8405-d51270217fed": {
     "id": "3031125b-46a7-453f-8405-d51270217fed",
     "prev": "41f1ac43-20aa-4be5-98e4-359d8294fa5a",
     "regions": {
      "487fc265-9057-4a2f-a5ae-5910bb803e6d": {
       "attrs": {
        "height": 0.8,
        "width": 0.8,
        "x": 0.1,
        "y": 0.1
       },
       "content": {
        "cell": "97a46770-dbe0-40ea-b454-b15bdec20f53",
        "part": "whole"
       },
       "id": "487fc265-9057-4a2f-a5ae-5910bb803e6d"
      }
     }
    },
    "32b3f4bb-8a93-4047-871d-64dc33e51dc9": {
     "id": "32b3f4bb-8a93-4047-871d-64dc33e51dc9",
     "prev": "cced8bf0-fff7-4aa8-a171-61b61bb5f70b",
     "regions": {
      "57d063fd-764a-4f6d-bfd7-1d91702b8e3a": {
       "attrs": {
        "height": 0.8,
        "width": 0.8,
        "x": 0.1,
        "y": 0.1
       },
       "content": {
        "cell": "ecdacfd7-456b-4b29-9c7d-aba29749c18f",
        "part": "whole"
       },
       "id": "57d063fd-764a-4f6d-bfd7-1d91702b8e3a"
      }
     }
    },
    "33eed3c0-aa11-4eeb-a2d8-e38080594622": {
     "id": "33eed3c0-aa11-4eeb-a2d8-e38080594622",
     "prev": "39b995da-8164-4191-97fa-126bbe9a9c13",
     "regions": {
      "fd63566a-8284-4ba0-ac22-e6e987ad37c4": {
       "attrs": {
        "height": 0.8,
        "width": 0.8,
        "x": 0.1,
        "y": 0.1
       },
       "content": {
        "cell": "479ad6be-6ef5-4a23-83fa-5a3438bed78c",
        "part": "whole"
       },
       "id": "fd63566a-8284-4ba0-ac22-e6e987ad37c4"
      }
     }
    },
    "351921d3-3e52-4de7-ac14-e2d065745a4c": {
     "id": "351921d3-3e52-4de7-ac14-e2d065745a4c",
     "prev": "73b93342-b297-40d2-83fa-0a5c3569b07b",
     "regions": {
      "6f34315e-6c22-4c7e-abb7-4090206c8fc7": {
       "attrs": {
        "height": 0.8,
        "width": 0.8,
        "x": 0.1,
        "y": 0.1
       },
       "content": {
        "cell": "05579e7a-be31-4942-a9a9-9f087cc284ff",
        "part": "whole"
       },
       "id": "6f34315e-6c22-4c7e-abb7-4090206c8fc7"
      }
     }
    },
    "354d2e1c-833c-43c1-8518-84deefa9dd83": {
     "id": "354d2e1c-833c-43c1-8518-84deefa9dd83",
     "prev": "644939af-71cf-4118-b725-186deee66293",
     "regions": {
      "b3d5c164-fdec-4ff4-a7bb-ed51d0b5a7b1": {
       "attrs": {
        "height": 0.8,
        "width": 0.8,
        "x": 0.1,
        "y": 0.1
       },
       "content": {
        "cell": "ecdacfd7-456b-4b29-9c7d-aba29749c18f",
        "part": "whole"
       },
       "id": "b3d5c164-fdec-4ff4-a7bb-ed51d0b5a7b1"
      }
     }
    },
    "37d0d82e-1379-4317-93cf-784cec2d5a7e": {
     "id": "37d0d82e-1379-4317-93cf-784cec2d5a7e",
     "prev": null,
     "regions": {
      "3a9f28d5-edac-42fb-a77d-ea8bf091c5f2": {
       "attrs": {
        "height": 0.8,
        "width": 0.8,
        "x": 0.1,
        "y": 0.1
       },
       "content": {
        "cell": "62d4851b-e85e-419e-901a-d5c03db59166",
        "part": "whole"
       },
       "id": "3a9f28d5-edac-42fb-a77d-ea8bf091c5f2"
      }
     }
    },
    "3836b696-9da4-4822-a1a4-1c8a7f016e93": {
     "id": "3836b696-9da4-4822-a1a4-1c8a7f016e93",
     "prev": "1e649c44-6543-47ab-a724-d8c91a1eba0c",
     "regions": {
      "5fbd00ec-19d3-492e-968b-da323b10e954": {
       "attrs": {
        "height": 0.8,
        "width": 0.8,
        "x": 0.1,
        "y": 0.1
       },
       "content": {
        "cell": "ba9ad1d9-659e-4fad-a0fd-0a23e7b56fc0",
        "part": "whole"
       },
       "id": "5fbd00ec-19d3-492e-968b-da323b10e954"
      }
     }
    },
    "39b995da-8164-4191-97fa-126bbe9a9c13": {
     "id": "39b995da-8164-4191-97fa-126bbe9a9c13",
     "prev": "efb38a77-d38d-4004-a8d2-e16791ef4448",
     "regions": {
      "abfb13e5-f301-4013-a152-3f165c0e1299": {
       "attrs": {
        "height": 0.8,
        "width": 0.8,
        "x": 0.1,
        "y": 0.1
       },
       "content": {
        "cell": "e1d4e5a9-715b-412f-b881-5306080566d0",
        "part": "whole"
       },
       "id": "abfb13e5-f301-4013-a152-3f165c0e1299"
      }
     }
    },
    "3c39b8cb-b3ee-42a8-b58a-23f42dd1afb7": {
     "id": "3c39b8cb-b3ee-42a8-b58a-23f42dd1afb7",
     "prev": "0d1a4ca3-9779-41bc-a0b3-d212cb7d4a8c",
     "regions": {
      "c5719391-2268-411a-a785-1ee02e70ca98": {
       "attrs": {
        "height": 0.8,
        "width": 0.8,
        "x": 0.1,
        "y": 0.1
       },
       "content": {
        "cell": "d266ff00-54d6-47f7-a26c-eea6cd1e468f",
        "part": "whole"
       },
       "id": "c5719391-2268-411a-a785-1ee02e70ca98"
      }
     }
    },
    "3d0dbf54-52e5-4743-a89f-c150039d1e1d": {
     "id": "3d0dbf54-52e5-4743-a89f-c150039d1e1d",
     "prev": "47f1d1e8-c00c-4cc6-b6db-b3b5dec491a7",
     "regions": {
      "49d32907-2026-4c47-949f-0c89f19c68eb": {
       "attrs": {
        "height": 0.8,
        "width": 0.8,
        "x": 0.1,
        "y": 0.1
       },
       "content": {
        "cell": "e1d4e5a9-715b-412f-b881-5306080566d0",
        "part": "whole"
       },
       "id": "49d32907-2026-4c47-949f-0c89f19c68eb"
      }
     }
    },
    "3f9d811f-b09e-4b43-92cd-cde475b9c555": {
     "id": "3f9d811f-b09e-4b43-92cd-cde475b9c555",
     "prev": "3d0dbf54-52e5-4743-a89f-c150039d1e1d",
     "regions": {
      "ec6e19e1-b3e7-4030-9522-b92032417481": {
       "attrs": {
        "height": 0.8,
        "width": 0.8,
        "x": 0.1,
        "y": 0.1
       },
       "content": {
        "cell": "479ad6be-6ef5-4a23-83fa-5a3438bed78c",
        "part": "whole"
       },
       "id": "ec6e19e1-b3e7-4030-9522-b92032417481"
      }
     }
    },
    "41f1ac43-20aa-4be5-98e4-359d8294fa5a": {
     "id": "41f1ac43-20aa-4be5-98e4-359d8294fa5a",
     "prev": "85cdb4b9-8c14-490e-861b-988132f067bb",
     "regions": {
      "b3aaf14c-3e4f-477d-8e7f-065d04e1be0a": {
       "attrs": {
        "height": 0.8,
        "width": 0.8,
        "x": 0.1,
        "y": 0.1
       },
       "content": {
        "cell": "6e941245-3e15-4018-a947-9e66bc58c86e",
        "part": "whole"
       },
       "id": "b3aaf14c-3e4f-477d-8e7f-065d04e1be0a"
      }
     }
    },
    "43ecdc28-ce1b-4c27-a143-3b0f6dfaa54f": {
     "id": "43ecdc28-ce1b-4c27-a143-3b0f6dfaa54f",
     "prev": "ad0964ff-fae9-4b44-a978-12dad9d949b5",
     "regions": {
      "95c45e90-6ed9-4882-985e-3fa7e31968f7": {
       "attrs": {
        "height": 0.8,
        "width": 0.8,
        "x": 0.1,
        "y": 0.1
       },
       "content": {
        "cell": "fdd10c00-53ba-405d-8622-fbfeac17d3bb",
        "part": "whole"
       },
       "id": "95c45e90-6ed9-4882-985e-3fa7e31968f7"
      }
     }
    },
    "47f1d1e8-c00c-4cc6-b6db-b3b5dec491a7": {
     "id": "47f1d1e8-c00c-4cc6-b6db-b3b5dec491a7",
     "prev": "70ea2b93-7bef-4144-b2ae-7d93079f890f",
     "regions": {
      "353852e7-a881-4c8b-a077-0e8f263f9cd1": {
       "attrs": {
        "height": 0.8,
        "width": 0.8,
        "x": 0.1,
        "y": 0.1
       },
       "content": {
        "cell": "eb6724ef-65dc-4f74-b92c-3f9e540a7b35",
        "part": "whole"
       },
       "id": "353852e7-a881-4c8b-a077-0e8f263f9cd1"
      }
     }
    },
    "4990bcde-5278-4c18-b9e3-d40b08618221": {
     "id": "4990bcde-5278-4c18-b9e3-d40b08618221",
     "prev": "d6815d16-3361-4aec-bdda-c20916e2958c",
     "regions": {
      "b6fc53ab-f89a-49d1-b0fd-44efbcaebdd8": {
       "attrs": {
        "height": 0.8,
        "width": 0.8,
        "x": 0.1,
        "y": 0.1
       },
       "content": {
        "cell": "2f809521-0a9c-4000-ba29-f6fcbb027dc9",
        "part": "whole"
       },
       "id": "b6fc53ab-f89a-49d1-b0fd-44efbcaebdd8"
      }
     }
    },
    "4c3af69f-0dbf-4538-a217-4674c220e1ce": {
     "id": "4c3af69f-0dbf-4538-a217-4674c220e1ce",
     "prev": "1b7fa3bc-7a7d-426c-ba1d-4fe4d2c63787",
     "regions": {
      "ed6a99e6-abe3-402c-9d1e-895c79ebfb51": {
       "attrs": {
        "height": 0.8,
        "width": 0.8,
        "x": 0.1,
        "y": 0.1
       },
       "content": {
        "cell": "db543249-4452-45e1-a0fa-324296059f19",
        "part": "whole"
       },
       "id": "ed6a99e6-abe3-402c-9d1e-895c79ebfb51"
      }
     }
    },
    "4e734229-1e33-429a-ab1e-9f25538f7799": {
     "id": "4e734229-1e33-429a-ab1e-9f25538f7799",
     "prev": "dac34957-e22e-418c-b575-a1ae52ebee9a",
     "regions": {
      "fedd46f4-a0e9-4859-8b03-23150d19893a": {
       "attrs": {
        "height": 0.8,
        "width": 0.8,
        "x": 0.1,
        "y": 0.1
       },
       "content": {
        "cell": "c2f7177c-9a56-46a7-8e51-53c1ccdac759",
        "part": "whole"
       },
       "id": "fedd46f4-a0e9-4859-8b03-23150d19893a"
      }
     }
    },
    "54e37292-6b6a-42a2-b2d9-2526c00a35b6": {
     "id": "54e37292-6b6a-42a2-b2d9-2526c00a35b6",
     "prev": "ccb21490-40cb-425d-9738-9a08f56265f6",
     "regions": {
      "6bff46e7-b141-437c-a413-524951f4e72f": {
       "attrs": {
        "height": 0.8,
        "width": 0.8,
        "x": 0.1,
        "y": 0.1
       },
       "content": {
        "cell": "05579e7a-be31-4942-a9a9-9f087cc284ff",
        "part": "whole"
       },
       "id": "6bff46e7-b141-437c-a413-524951f4e72f"
      }
     }
    },
    "5caa41a3-a416-4b62-ad94-9efc601a0761": {
     "id": "5caa41a3-a416-4b62-ad94-9efc601a0761",
     "prev": "f3fd7c80-e6c3-4fe1-8da4-d8c46dec60f5",
     "regions": {
      "8aff2690-5aab-4ef2-a038-15de457228e8": {
       "attrs": {
        "height": 0.8,
        "width": 0.8,
        "x": 0.1,
        "y": 0.1
       },
       "content": {
        "cell": "db543249-4452-45e1-a0fa-324296059f19",
        "part": "whole"
       },
       "id": "8aff2690-5aab-4ef2-a038-15de457228e8"
      }
     }
    },
    "644939af-71cf-4118-b725-186deee66293": {
     "id": "644939af-71cf-4118-b725-186deee66293",
     "prev": "22ac0a05-fa20-4071-9eeb-0cd7e8bc1495",
     "regions": {
      "2534f9df-66e9-4f28-ac38-2353f352a4b4": {
       "attrs": {
        "height": 0.8,
        "width": 0.8,
        "x": 0.1,
        "y": 0.1
       },
       "content": {
        "cell": "fdd10c00-53ba-405d-8622-fbfeac17d3bb",
        "part": "whole"
       },
       "id": "2534f9df-66e9-4f28-ac38-2353f352a4b4"
      }
     }
    },
    "6b00f37c-e15e-4979-b7b1-fb36dadd0d3e": {
     "id": "6b00f37c-e15e-4979-b7b1-fb36dadd0d3e",
     "prev": "0eab16c6-3c1a-4f9c-a6d9-a1cf6220a9a2",
     "regions": {
      "9065871c-7a40-4a6f-be71-04c61fb3d4ed": {
       "attrs": {
        "height": 0.8,
        "width": 0.8,
        "x": 0.1,
        "y": 0.1
       },
       "content": {
        "cell": "823d3663-8326-493a-a3fc-19b7114ef367",
        "part": "whole"
       },
       "id": "9065871c-7a40-4a6f-be71-04c61fb3d4ed"
      }
     }
    },
    "6c3de2fd-22fe-4b21-bd8f-c97a98e470a4": {
     "id": "6c3de2fd-22fe-4b21-bd8f-c97a98e470a4",
     "prev": "d7f8c565-3a5f-4d4f-b909-2d81839e6896",
     "regions": {
      "c9366dfe-5d4c-4496-a0f0-03a107250f99": {
       "attrs": {
        "height": 0.8,
        "width": 0.8,
        "x": 0.1,
        "y": 0.1
       },
       "content": {
        "cell": "d266ff00-54d6-47f7-a26c-eea6cd1e468f",
        "part": "whole"
       },
       "id": "c9366dfe-5d4c-4496-a0f0-03a107250f99"
      }
     }
    },
    "70ea2b93-7bef-4144-b2ae-7d93079f890f": {
     "id": "70ea2b93-7bef-4144-b2ae-7d93079f890f",
     "prev": "127a45d8-ef23-4438-9cb9-c721e712e2ad",
     "regions": {
      "3ea4c7c2-650f-41b5-80af-81d976f323e4": {
       "attrs": {
        "height": 0.8,
        "width": 0.8,
        "x": 0.1,
        "y": 0.1
       },
       "content": {
        "cell": "41d6f28b-3c7e-4d68-a8cb-4e063ec6fe27",
        "part": "whole"
       },
       "id": "3ea4c7c2-650f-41b5-80af-81d976f323e4"
      }
     }
    },
    "73b93342-b297-40d2-83fa-0a5c3569b07b": {
     "id": "73b93342-b297-40d2-83fa-0a5c3569b07b",
     "prev": "218a5d27-8c88-4475-9c19-04b6af5781ed",
     "regions": {
      "137602b1-d910-48a6-8214-eeb299661772": {
       "attrs": {
        "height": 0.8,
        "width": 0.8,
        "x": 0.1,
        "y": 0.1
       },
       "content": {
        "cell": "2f809521-0a9c-4000-ba29-f6fcbb027dc9",
        "part": "whole"
       },
       "id": "137602b1-d910-48a6-8214-eeb299661772"
      }
     }
    },
    "744b667b-61a0-4bb2-b78e-9de2788bc7e8": {
     "id": "744b667b-61a0-4bb2-b78e-9de2788bc7e8",
     "prev": "3f9d811f-b09e-4b43-92cd-cde475b9c555",
     "regions": {
      "a14c6f68-caf3-4f49-aee2-90d1761f0d0d": {
       "attrs": {
        "height": 0.8,
        "width": 0.8,
        "x": 0.1,
        "y": 0.1
       },
       "content": {
        "cell": "ba9ad1d9-659e-4fad-a0fd-0a23e7b56fc0",
        "part": "whole"
       },
       "id": "a14c6f68-caf3-4f49-aee2-90d1761f0d0d"
      }
     }
    },
    "834f16ec-1755-40aa-9405-fa356485e8be": {
     "id": "834f16ec-1755-40aa-9405-fa356485e8be",
     "prev": "33eed3c0-aa11-4eeb-a2d8-e38080594622",
     "regions": {
      "3051de16-0381-431c-86e4-d29c57fb325d": {
       "attrs": {
        "height": 0.8,
        "width": 0.8,
        "x": 0.1,
        "y": 0.1
       },
       "content": {
        "cell": "ba9ad1d9-659e-4fad-a0fd-0a23e7b56fc0",
        "part": "whole"
       },
       "id": "3051de16-0381-431c-86e4-d29c57fb325d"
      }
     }
    },
    "84e5d013-5ab1-4159-aa5f-fc7f55caab96": {
     "id": "84e5d013-5ab1-4159-aa5f-fc7f55caab96",
     "prev": "29c82185-c087-4da1-820d-e67d6f607544",
     "regions": {
      "3f22d886-6e54-4fe9-8daf-18796f426768": {
       "attrs": {
        "height": 0.8,
        "width": 0.8,
        "x": 0.1,
        "y": 0.1
       },
       "content": {
        "cell": "fdd10c00-53ba-405d-8622-fbfeac17d3bb",
        "part": "whole"
       },
       "id": "3f22d886-6e54-4fe9-8daf-18796f426768"
      }
     }
    },
    "85cdb4b9-8c14-490e-861b-988132f067bb": {
     "id": "85cdb4b9-8c14-490e-861b-988132f067bb",
     "prev": "04c02612-b7a3-4a6b-b46e-f0b64285f34f",
     "regions": {
      "27457dde-4bf2-44d0-ba73-9162622e3bdc": {
       "attrs": {
        "height": 0.8,
        "width": 0.8,
        "x": 0.1,
        "y": 0.1
       },
       "content": {
        "cell": "ba9ad1d9-659e-4fad-a0fd-0a23e7b56fc0",
        "part": "whole"
       },
       "id": "27457dde-4bf2-44d0-ba73-9162622e3bdc"
      }
     }
    },
    "888db3f7-5824-4459-a8d6-36927be78fce": {
     "id": "888db3f7-5824-4459-a8d6-36927be78fce",
     "prev": "aa64bc2c-0a71-4a60-894d-9fe54691404b",
     "regions": {
      "d59a5b99-359c-4ab6-9557-641371d38620": {
       "attrs": {
        "height": 0.8,
        "width": 0.8,
        "x": 0.1,
        "y": 0.1
       },
       "content": {
        "cell": "97a46770-dbe0-40ea-b454-b15bdec20f53",
        "part": "whole"
       },
       "id": "d59a5b99-359c-4ab6-9557-641371d38620"
      }
     }
    },
    "8affd1e6-70b8-4959-8bcc-9fa3d98ac946": {
     "id": "8affd1e6-70b8-4959-8bcc-9fa3d98ac946",
     "prev": "da2956f8-18a5-4bfa-9591-5cf3e39e7248",
     "regions": {
      "84eb25c1-1e33-4e39-9b2d-8f8c9e13ec7c": {
       "attrs": {
        "height": 0.8,
        "width": 0.8,
        "x": 0.1,
        "y": 0.1
       },
       "content": {
        "cell": "6e941245-3e15-4018-a947-9e66bc58c86e",
        "part": "whole"
       },
       "id": "84eb25c1-1e33-4e39-9b2d-8f8c9e13ec7c"
      }
     }
    },
    "8bbf13ba-d21a-4e20-b6fb-8248fbcb7d14": {
     "id": "8bbf13ba-d21a-4e20-b6fb-8248fbcb7d14",
     "prev": "22126885-b04a-4cd1-b348-0dc9a5b353d1",
     "regions": {
      "2efe0c9d-7786-4107-8ff4-1bf1246eb94f": {
       "attrs": {
        "height": 0.8,
        "width": 0.8,
        "x": 0.1,
        "y": 0.1
       },
       "content": {
        "cell": "a3c4d54d-1c66-4511-9276-0a976adc27a3",
        "part": "whole"
       },
       "id": "2efe0c9d-7786-4107-8ff4-1bf1246eb94f"
      }
     }
    },
    "963feba9-0d2a-4c66-85cc-96d2fc723e8e": {
     "id": "963feba9-0d2a-4c66-85cc-96d2fc723e8e",
     "prev": null,
     "regions": {
      "03648aaa-3268-4c18-806d-e999756ac4cf": {
       "attrs": {
        "height": 0.8,
        "width": 0.8,
        "x": 0.1,
        "y": 0.1
       },
       "content": {
        "cell": "eb6724ef-65dc-4f74-b92c-3f9e540a7b35",
        "part": "whole"
       },
       "id": "03648aaa-3268-4c18-806d-e999756ac4cf"
      }
     }
    },
    "a52fcace-21c6-4d27-9ee8-f87e06b1bf4b": {
     "id": "a52fcace-21c6-4d27-9ee8-f87e06b1bf4b",
     "prev": "f282fd14-a561-4ad9-958b-ceeb296e93d6",
     "regions": {
      "2c8df343-f44b-4b1f-9bed-f9374dab1541": {
       "attrs": {
        "height": 0.8,
        "width": 0.8,
        "x": 0.1,
        "y": 0.1
       },
       "content": {
        "cell": "41d6f28b-3c7e-4d68-a8cb-4e063ec6fe27",
        "part": "whole"
       },
       "id": "2c8df343-f44b-4b1f-9bed-f9374dab1541"
      }
     }
    },
    "aa64bc2c-0a71-4a60-894d-9fe54691404b": {
     "id": "aa64bc2c-0a71-4a60-894d-9fe54691404b",
     "prev": "744b667b-61a0-4bb2-b78e-9de2788bc7e8",
     "regions": {
      "58be5b97-dc19-4de8-add9-c05fcca8a613": {
       "attrs": {
        "height": 0.8,
        "width": 0.8,
        "x": 0.1,
        "y": 0.1
       },
       "content": {
        "cell": "6e941245-3e15-4018-a947-9e66bc58c86e",
        "part": "whole"
       },
       "id": "58be5b97-dc19-4de8-add9-c05fcca8a613"
      }
     }
    },
    "ad0964ff-fae9-4b44-a978-12dad9d949b5": {
     "id": "ad0964ff-fae9-4b44-a978-12dad9d949b5",
     "prev": "351921d3-3e52-4de7-ac14-e2d065745a4c",
     "regions": {
      "2852b579-93ae-4565-8add-20bc3ff9dcef": {
       "attrs": {
        "height": 0.8,
        "width": 0.8,
        "x": 0.1,
        "y": 0.1
       },
       "content": {
        "cell": "d266ff00-54d6-47f7-a26c-eea6cd1e468f",
        "part": "whole"
       },
       "id": "2852b579-93ae-4565-8add-20bc3ff9dcef"
      }
     }
    },
    "b6a3e0da-299e-4ed2-b91b-2acffd354cdf": {
     "id": "b6a3e0da-299e-4ed2-b91b-2acffd354cdf",
     "prev": "24ebeb55-bda2-46aa-b01d-2eb1e08ec4b9",
     "regions": {
      "cec135fa-0989-4cae-9d41-1af9445b29a8": {
       "attrs": {
        "height": 0.8,
        "width": 0.8,
        "x": 0.1,
        "y": 0.1
       },
       "content": {
        "cell": "97a46770-dbe0-40ea-b454-b15bdec20f53",
        "part": "whole"
       },
       "id": "cec135fa-0989-4cae-9d41-1af9445b29a8"
      }
     }
    },
    "be687a44-3db4-4be7-9f39-71fb43cc9fbc": {
     "id": "be687a44-3db4-4be7-9f39-71fb43cc9fbc",
     "prev": "8affd1e6-70b8-4959-8bcc-9fa3d98ac946",
     "regions": {
      "87ea0664-8af3-4c54-aa8f-0b9f0c2bd4e8": {
       "attrs": {
        "height": 0.8,
        "width": 0.8,
        "x": 0.1,
        "y": 0.1
       },
       "content": {
        "cell": "97a46770-dbe0-40ea-b454-b15bdec20f53",
        "part": "whole"
       },
       "id": "87ea0664-8af3-4c54-aa8f-0b9f0c2bd4e8"
      }
     }
    },
    "bf0895a0-bc5b-466d-a091-07382c006dd6": {
     "id": "bf0895a0-bc5b-466d-a091-07382c006dd6",
     "prev": "2d6a9841-621c-4219-9bd2-c010aac01f3a",
     "regions": {
      "7ebcb078-8ca9-4728-93a6-c7178465168f": {
       "attrs": {
        "height": 0.8,
        "width": 0.8,
        "x": 0.1,
        "y": 0.1
       },
       "content": {
        "cell": "db543249-4452-45e1-a0fa-324296059f19",
        "part": "whole"
       },
       "id": "7ebcb078-8ca9-4728-93a6-c7178465168f"
      }
     }
    },
    "c0cc38e5-c3b6-4f92-a3b0-e31ec2159b50": {
     "id": "c0cc38e5-c3b6-4f92-a3b0-e31ec2159b50",
     "prev": "834f16ec-1755-40aa-9405-fa356485e8be",
     "regions": {
      "0a944982-056c-4c22-b01c-3378924f27bc": {
       "attrs": {
        "height": 0.8,
        "width": 0.8,
        "x": 0.1,
        "y": 0.1
       },
       "content": {
        "cell": "6e941245-3e15-4018-a947-9e66bc58c86e",
        "part": "whole"
       },
       "id": "0a944982-056c-4c22-b01c-3378924f27bc"
      }
     }
    },
    "cb224ddf-91c8-4058-a92c-589888536dce": {
     "id": "cb224ddf-91c8-4058-a92c-589888536dce",
     "prev": "f8f60d11-8c40-4a82-ad2d-4ddbc346064a",
     "regions": {
      "5db7b356-55ac-4638-92ee-9aee8eb79745": {
       "attrs": {
        "height": 0.8,
        "width": 0.8,
        "x": 0.1,
        "y": 0.1
       },
       "content": {
        "cell": "e1d4e5a9-715b-412f-b881-5306080566d0",
        "part": "whole"
       },
       "id": "5db7b356-55ac-4638-92ee-9aee8eb79745"
      }
     }
    },
    "cc146373-3ece-4360-9e15-95a78c2a6228": {
     "id": "cc146373-3ece-4360-9e15-95a78c2a6228",
     "prev": "206a856d-3055-461c-8169-ffee8f39c28e",
     "regions": {
      "18bd17df-8f7c-40a0-b547-d396bb43f9d8": {
       "attrs": {
        "height": 0.8,
        "width": 0.8,
        "x": 0.1,
        "y": 0.1
       },
       "content": {
        "cell": "7e847244-7b42-490f-8945-46e234a3af75",
        "part": "whole"
       },
       "id": "18bd17df-8f7c-40a0-b547-d396bb43f9d8"
      }
     }
    },
    "ccb21490-40cb-425d-9738-9a08f56265f6": {
     "id": "ccb21490-40cb-425d-9738-9a08f56265f6",
     "prev": "4e734229-1e33-429a-ab1e-9f25538f7799",
     "regions": {
      "9c0b0fc7-6e91-47b9-aafd-3b68186f9b1c": {
       "attrs": {
        "height": 0.8,
        "width": 0.8,
        "x": 0.1,
        "y": 0.1
       },
       "content": {
        "cell": "2f809521-0a9c-4000-ba29-f6fcbb027dc9",
        "part": "whole"
       },
       "id": "9c0b0fc7-6e91-47b9-aafd-3b68186f9b1c"
      }
     }
    },
    "cced8bf0-fff7-4aa8-a171-61b61bb5f70b": {
     "id": "cced8bf0-fff7-4aa8-a171-61b61bb5f70b",
     "prev": "6c3de2fd-22fe-4b21-bd8f-c97a98e470a4",
     "regions": {
      "aa9d94b0-aa3d-4b28-b9af-cd6566af8ce6": {
       "attrs": {
        "height": 0.8,
        "width": 0.8,
        "x": 0.1,
        "y": 0.1
       },
       "content": {
        "cell": "fdd10c00-53ba-405d-8622-fbfeac17d3bb",
        "part": "whole"
       },
       "id": "aa9d94b0-aa3d-4b28-b9af-cd6566af8ce6"
      }
     }
    },
    "d4a64d2e-3fa3-4742-b817-999ee662f9a2": {
     "id": "d4a64d2e-3fa3-4742-b817-999ee662f9a2",
     "prev": "0d8fa08d-7d0f-4378-8065-26382e5a86e2",
     "regions": {
      "6f4633db-bd8c-4ede-890e-d8c82fef3a22": {
       "attrs": {
        "height": 0.8,
        "width": 0.8,
        "x": 0.1,
        "y": 0.1
       },
       "content": {
        "cell": "823d3663-8326-493a-a3fc-19b7114ef367",
        "part": "whole"
       },
       "id": "6f4633db-bd8c-4ede-890e-d8c82fef3a22"
      }
     }
    },
    "d55e9216-ec74-4b8a-8c86-626de0a99a3f": {
     "id": "d55e9216-ec74-4b8a-8c86-626de0a99a3f",
     "prev": "0f0856fc-b72e-4a9e-9279-f0b70282084a",
     "regions": {
      "1f11ff0a-2933-4966-b23b-4471b9ba3fe1": {
       "attrs": {
        "height": 0.8,
        "width": 0.8,
        "x": 0.1,
        "y": 0.1
       },
       "content": {
        "cell": "823d3663-8326-493a-a3fc-19b7114ef367",
        "part": "whole"
       },
       "id": "1f11ff0a-2933-4966-b23b-4471b9ba3fe1"
      }
     }
    },
    "d6815d16-3361-4aec-bdda-c20916e2958c": {
     "id": "d6815d16-3361-4aec-bdda-c20916e2958c",
     "prev": "888db3f7-5824-4459-a8d6-36927be78fce",
     "regions": {
      "0276812b-043d-4477-8e3b-c8ab28a48dfe": {
       "attrs": {
        "height": 0.8,
        "width": 0.8,
        "x": 0.1,
        "y": 0.1
       },
       "content": {
        "cell": "c2f7177c-9a56-46a7-8e51-53c1ccdac759",
        "part": "whole"
       },
       "id": "0276812b-043d-4477-8e3b-c8ab28a48dfe"
      }
     }
    },
    "d7f8c565-3a5f-4d4f-b909-2d81839e6896": {
     "id": "d7f8c565-3a5f-4d4f-b909-2d81839e6896",
     "prev": "f06bb312-3e06-4eab-9a4a-a1f10cb67455",
     "regions": {
      "b9a2cb44-4072-49c9-9f76-ae04a82aaeb3": {
       "attrs": {
        "height": 0.8,
        "width": 0.8,
        "x": 0.1,
        "y": 0.1
       },
       "content": {
        "cell": "05579e7a-be31-4942-a9a9-9f087cc284ff",
        "part": "whole"
       },
       "id": "b9a2cb44-4072-49c9-9f76-ae04a82aaeb3"
      }
     }
    },
    "d8a1cce1-10b5-4725-86a4-045d061273ee": {
     "id": "d8a1cce1-10b5-4725-86a4-045d061273ee",
     "prev": "6b00f37c-e15e-4979-b7b1-fb36dadd0d3e",
     "regions": {
      "c24a5fc8-2a90-4c13-91d7-223ad92cd794": {
       "attrs": {
        "height": 0.8,
        "width": 0.8,
        "x": 0.1,
        "y": 0.1
       },
       "content": {
        "cell": "7e847244-7b42-490f-8945-46e234a3af75",
        "part": "whole"
       },
       "id": "c24a5fc8-2a90-4c13-91d7-223ad92cd794"
      }
     }
    },
    "da2956f8-18a5-4bfa-9591-5cf3e39e7248": {
     "id": "da2956f8-18a5-4bfa-9591-5cf3e39e7248",
     "prev": "00185e5a-e023-4efa-9b74-1d4003fed039",
     "regions": {
      "f7d068d1-64bb-47e5-a163-ba870a8a8e68": {
       "attrs": {
        "height": 0.8,
        "width": 0.8,
        "x": 0.1,
        "y": 0.1
       },
       "content": {
        "cell": "ba9ad1d9-659e-4fad-a0fd-0a23e7b56fc0",
        "part": "whole"
       },
       "id": "f7d068d1-64bb-47e5-a163-ba870a8a8e68"
      }
     }
    },
    "da615caf-6de2-4243-81c2-6b6ee2b24524": {
     "id": "da615caf-6de2-4243-81c2-6b6ee2b24524",
     "prev": "d4a64d2e-3fa3-4742-b817-999ee662f9a2",
     "regions": {
      "caac7351-001b-4708-90db-2a152c2fd4f5": {
       "attrs": {
        "height": 0.8,
        "width": 0.8,
        "x": 0.1,
        "y": 0.1
       },
       "content": {
        "cell": "7e847244-7b42-490f-8945-46e234a3af75",
        "part": "whole"
       },
       "id": "caac7351-001b-4708-90db-2a152c2fd4f5"
      }
     }
    },
    "dac34957-e22e-418c-b575-a1ae52ebee9a": {
     "id": "dac34957-e22e-418c-b575-a1ae52ebee9a",
     "prev": "c0cc38e5-c3b6-4f92-a3b0-e31ec2159b50",
     "regions": {
      "cb1a886d-2883-420c-b013-d8e150fb56b7": {
       "attrs": {
        "height": 0.8,
        "width": 0.8,
        "x": 0.1,
        "y": 0.1
       },
       "content": {
        "cell": "97a46770-dbe0-40ea-b454-b15bdec20f53",
        "part": "whole"
       },
       "id": "cb1a886d-2883-420c-b013-d8e150fb56b7"
      }
     }
    },
    "e1f94e70-f7b9-4d99-94c3-01f0f0a8251d": {
     "id": "e1f94e70-f7b9-4d99-94c3-01f0f0a8251d",
     "prev": "4990bcde-5278-4c18-b9e3-d40b08618221",
     "regions": {
      "7f0152f1-c574-4a02-8d63-4018e2bb6524": {
       "attrs": {
        "height": 0.8,
        "width": 0.8,
        "x": 0.1,
        "y": 0.1
       },
       "content": {
        "cell": "05579e7a-be31-4942-a9a9-9f087cc284ff",
        "part": "whole"
       },
       "id": "7f0152f1-c574-4a02-8d63-4018e2bb6524"
      }
     }
    },
    "e40b3af6-c94f-4511-a3e4-14eafa9346b2": {
     "id": "e40b3af6-c94f-4511-a3e4-14eafa9346b2",
     "prev": "ec782cf2-d511-49a3-97ab-70a945e504fc",
     "regions": {
      "3c64fe83-8170-4bf8-9e53-e7ab514a6b9e": {
       "attrs": {
        "height": 0.8,
        "width": 0.8,
        "x": 0.1,
        "y": 0.1
       },
       "content": {
        "cell": "41d6f28b-3c7e-4d68-a8cb-4e063ec6fe27",
        "part": "whole"
       },
       "id": "3c64fe83-8170-4bf8-9e53-e7ab514a6b9e"
      }
     }
    },
    "e69d870b-7f80-4eb6-92f4-f349f582b63d": {
     "id": "e69d870b-7f80-4eb6-92f4-f349f582b63d",
     "prev": "37d0d82e-1379-4317-93cf-784cec2d5a7e",
     "regions": {
      "9dd87015-cc5f-4576-a2a9-983133aa77a8": {
       "attrs": {
        "height": 0.8,
        "width": 0.8,
        "x": 0.1,
        "y": 0.1
       },
       "content": {
        "cell": "41d6f28b-3c7e-4d68-a8cb-4e063ec6fe27",
        "part": "whole"
       },
       "id": "9dd87015-cc5f-4576-a2a9-983133aa77a8"
      }
     }
    },
    "e9111b59-1bbf-4818-9be0-ed5ef8fa6fc6": {
     "id": "e9111b59-1bbf-4818-9be0-ed5ef8fa6fc6",
     "prev": "2eb5b91d-2f89-4478-a871-9ebabfe8c755",
     "regions": {
      "542e088b-2244-4d49-855d-677f84e3557e": {
       "attrs": {
        "height": 0.8,
        "width": 0.8,
        "x": 0.1,
        "y": 0.1
       },
       "content": {
        "cell": "ecdacfd7-456b-4b29-9c7d-aba29749c18f",
        "part": "whole"
       },
       "id": "542e088b-2244-4d49-855d-677f84e3557e"
      }
     }
    },
    "e96ea25d-f12d-4df2-9229-29bbb6f89e57": {
     "id": "e96ea25d-f12d-4df2-9229-29bbb6f89e57",
     "prev": "f502cb85-a418-4e67-bc76-61d1d24781e6",
     "regions": {
      "299a1007-3dd4-4210-8be7-09571a22ef91": {
       "attrs": {
        "height": 0.8,
        "width": 0.8,
        "x": 0.1,
        "y": 0.1
       },
       "content": {
        "cell": "2f809521-0a9c-4000-ba29-f6fcbb027dc9",
        "part": "whole"
       },
       "id": "299a1007-3dd4-4210-8be7-09571a22ef91"
      }
     }
    },
    "ec782cf2-d511-49a3-97ab-70a945e504fc": {
     "id": "ec782cf2-d511-49a3-97ab-70a945e504fc",
     "prev": null,
     "regions": {
      "09f08875-f31a-4f2d-b572-3e27a524e506": {
       "attrs": {
        "height": 0.8,
        "width": 0.8,
        "x": 0.1,
        "y": 0.1
       },
       "content": {
        "cell": "62d4851b-e85e-419e-901a-d5c03db59166",
        "part": "whole"
       },
       "id": "09f08875-f31a-4f2d-b572-3e27a524e506"
      }
     }
    },
    "efb38a77-d38d-4004-a8d2-e16791ef4448": {
     "id": "efb38a77-d38d-4004-a8d2-e16791ef4448",
     "prev": "e69d870b-7f80-4eb6-92f4-f349f582b63d",
     "regions": {
      "13305e20-9e90-4cde-bc61-7012b221d6df": {
       "attrs": {
        "height": 0.8,
        "width": 0.8,
        "x": 0.1,
        "y": 0.1
       },
       "content": {
        "cell": "eb6724ef-65dc-4f74-b92c-3f9e540a7b35",
        "part": "whole"
       },
       "id": "13305e20-9e90-4cde-bc61-7012b221d6df"
      }
     }
    },
    "f06bb312-3e06-4eab-9a4a-a1f10cb67455": {
     "id": "f06bb312-3e06-4eab-9a4a-a1f10cb67455",
     "prev": "0c825f9e-60ad-44b9-a3a9-32977b6dc07b",
     "regions": {
      "5d920271-fc5c-43d3-a65d-57428ad528d7": {
       "attrs": {
        "height": 0.8,
        "width": 0.8,
        "x": 0.1,
        "y": 0.1
       },
       "content": {
        "cell": "2f809521-0a9c-4000-ba29-f6fcbb027dc9",
        "part": "whole"
       },
       "id": "5d920271-fc5c-43d3-a65d-57428ad528d7"
      }
     }
    },
    "f282fd14-a561-4ad9-958b-ceeb296e93d6": {
     "id": "f282fd14-a561-4ad9-958b-ceeb296e93d6",
     "prev": null,
     "regions": {
      "11c6f549-2ac4-4211-a352-a4c9013a5723": {
       "attrs": {
        "height": 0.8,
        "width": 0.8,
        "x": 0.1,
        "y": 0.1
       },
       "content": {
        "cell": "62d4851b-e85e-419e-901a-d5c03db59166",
        "part": "whole"
       },
       "id": "11c6f549-2ac4-4211-a352-a4c9013a5723"
      }
     }
    },
    "f2d04c15-4d2b-4c7e-992a-72c2b870c759": {
     "id": "f2d04c15-4d2b-4c7e-992a-72c2b870c759",
     "prev": "2f879b6f-c9ea-44d7-91e7-9baa9101dcde",
     "regions": {
      "93c73624-fd8e-434c-a0b5-a191e22a1a28": {
       "attrs": {
        "height": 0.8,
        "width": 0.8,
        "x": 0.1,
        "y": 0.1
       },
       "content": {
        "cell": "af0acd3e-f4a3-4da9-9772-6a6f896da772",
        "part": "whole"
       },
       "id": "93c73624-fd8e-434c-a0b5-a191e22a1a28"
      }
     }
    },
    "f37968a2-f924-46ba-b214-57fef6c8e053": {
     "id": "f37968a2-f924-46ba-b214-57fef6c8e053",
     "prev": "2199474d-0f28-43f0-b05c-38e712655efe",
     "regions": {
      "eb7c9691-162f-4bc9-b740-a880290d5480": {
       "attrs": {
        "height": 0.8,
        "width": 0.8,
        "x": 0.1,
        "y": 0.1
       },
       "content": {
        "cell": "823d3663-8326-493a-a3fc-19b7114ef367",
        "part": "whole"
       },
       "id": "eb7c9691-162f-4bc9-b740-a880290d5480"
      }
     }
    },
    "f3fd7c80-e6c3-4fe1-8da4-d8c46dec60f5": {
     "id": "f3fd7c80-e6c3-4fe1-8da4-d8c46dec60f5",
     "prev": "e9111b59-1bbf-4818-9be0-ed5ef8fa6fc6",
     "regions": {
      "c8f21071-20c8-4180-9de4-b94971c0e22a": {
       "attrs": {
        "height": 0.8,
        "width": 0.8,
        "x": 0.1,
        "y": 0.1
       },
       "content": {
        "cell": "af0acd3e-f4a3-4da9-9772-6a6f896da772",
        "part": "whole"
       },
       "id": "c8f21071-20c8-4180-9de4-b94971c0e22a"
      }
     }
    },
    "f502cb85-a418-4e67-bc76-61d1d24781e6": {
     "id": "f502cb85-a418-4e67-bc76-61d1d24781e6",
     "prev": "be687a44-3db4-4be7-9f39-71fb43cc9fbc",
     "regions": {
      "f28295e1-c68c-4ef1-ba49-1e9122a40b0f": {
       "attrs": {
        "height": 0.8,
        "width": 0.8,
        "x": 0.1,
        "y": 0.1
       },
       "content": {
        "cell": "c2f7177c-9a56-46a7-8e51-53c1ccdac759",
        "part": "whole"
       },
       "id": "f28295e1-c68c-4ef1-ba49-1e9122a40b0f"
      }
     }
    },
    "f5ddb0c0-353d-4e34-8d82-6b2ff74cfd78": {
     "id": "f5ddb0c0-353d-4e34-8d82-6b2ff74cfd78",
     "prev": "d55e9216-ec74-4b8a-8c86-626de0a99a3f",
     "regions": {
      "52f07325-c621-4157-88c3-1bafbb6656b5": {
       "attrs": {
        "height": 0.8,
        "width": 0.8,
        "x": 0.1,
        "y": 0.1
       },
       "content": {
        "cell": "7e847244-7b42-490f-8945-46e234a3af75",
        "part": "whole"
       },
       "id": "52f07325-c621-4157-88c3-1bafbb6656b5"
      }
     }
    },
    "f89c8884-cb84-4930-a1c4-451008b047e0": {
     "id": "f89c8884-cb84-4930-a1c4-451008b047e0",
     "prev": "84e5d013-5ab1-4159-aa5f-fc7f55caab96",
     "regions": {
      "30c3ca41-d7a7-40e8-951e-b12cbfabeb30": {
       "attrs": {
        "height": 0.8,
        "width": 0.8,
        "x": 0.1,
        "y": 0.1
       },
       "content": {
        "cell": "ecdacfd7-456b-4b29-9c7d-aba29749c18f",
        "part": "whole"
       },
       "id": "30c3ca41-d7a7-40e8-951e-b12cbfabeb30"
      }
     }
    },
    "f8f60d11-8c40-4a82-ad2d-4ddbc346064a": {
     "id": "f8f60d11-8c40-4a82-ad2d-4ddbc346064a",
     "prev": "e40b3af6-c94f-4511-a3e4-14eafa9346b2",
     "regions": {
      "53542f5f-3074-44d6-b544-3925b24bbc3a": {
       "attrs": {
        "height": 0.8,
        "width": 0.8,
        "x": 0.1,
        "y": 0.1
       },
       "content": {
        "cell": "eb6724ef-65dc-4f74-b92c-3f9e540a7b35",
        "part": "whole"
       },
       "id": "53542f5f-3074-44d6-b544-3925b24bbc3a"
      }
     }
    }
   },
   "themes": {}
  },
  "notice": "None."
 },
 "nbformat": 4,
 "nbformat_minor": 2
}
